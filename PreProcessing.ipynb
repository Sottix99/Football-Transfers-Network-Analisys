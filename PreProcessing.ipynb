{
  "nbformat": 4,
  "nbformat_minor": 0,
  "metadata": {
    "colab": {
      "provenance": []
    },
    "kernelspec": {
      "name": "python3",
      "display_name": "Python 3"
    },
    "language_info": {
      "name": "python"
    }
  },
  "cells": [
    {
      "cell_type": "code",
      "source": [
        "import pandas as pd\n",
        "import networkx as nx\n",
        "import string\n",
        "import numpy as np\n",
        "import scipy\n",
        "from collections import Counter\n",
        "from tabulate import tabulate\n",
        "import matplotlib.pyplot as plt\n",
        "import random\n",
        "import json\n",
        "import re\n",
        "from tqdm import tqdm"
      ],
      "metadata": {
        "id": "9TibkT7dDxlB"
      },
      "execution_count": null,
      "outputs": []
    },
    {
      "cell_type": "code",
      "execution_count": null,
      "metadata": {
        "colab": {
          "base_uri": "https://localhost:8080/"
        },
        "id": "V_lMchZ0DY7k",
        "outputId": "74776782-9233-4cee-8c4d-1a8bb484e516"
      },
      "outputs": [
        {
          "output_type": "stream",
          "name": "stdout",
          "text": [
            "Mounted at /content/drive\n"
          ]
        }
      ],
      "source": [
        "from google.colab import drive\n",
        "drive.mount('/content/drive')"
      ]
    },
    {
      "cell_type": "markdown",
      "source": [
        "# Load Functions"
      ],
      "metadata": {
        "id": "B5ZP3hL31w2c"
      }
    },
    {
      "cell_type": "markdown",
      "source": [
        "Load all the functions and the dictionary scraped in Scraping.ipynb"
      ],
      "metadata": {
        "id": "FgxVY6qp2Mq2"
      }
    },
    {
      "cell_type": "code",
      "source": [
        "with open('/content/drive/MyDrive/DDMCS/Translator_Long_Short_Names.json', 'r') as file:\n",
        "    # Caricamento del contenuto del file in un dizionario\n",
        "    Translator_LS = json.load(file)\n",
        "\n",
        "bayern = Translator_LS.pop('B. Leverkusen')\n",
        "Translator_LS['Bay. Leverkusen'] = bayern\n",
        "Translator_LS['Stade Rennais']= 'Stade Rennais FC'    "
      ],
      "metadata": {
        "id": "pCdX7nc11zK7"
      },
      "execution_count": null,
      "outputs": []
    },
    {
      "cell_type": "code",
      "source": [
        "with open('/content/drive/MyDrive/DDMCS/MetaTranslatorV2.json', 'r') as file:\n",
        "    # Caricamento del contenuto del file in un dizionario\n",
        "   META_Translator = json.load(file)"
      ],
      "metadata": {
        "id": "pNSVHU5f1zK7"
      },
      "execution_count": null,
      "outputs": []
    },
    {
      "cell_type": "code",
      "source": [
        "with open('/content/drive/MyDrive/DDMCS/dict_EUTOT.json', 'r') as file:\n",
        "    # Caricamento del contenuto del file in un dizionario\n",
        "    my_dict = json.load(file)"
      ],
      "metadata": {
        "id": "ZO4h5pW51zK7"
      },
      "execution_count": null,
      "outputs": []
    },
    {
      "cell_type": "code",
      "source": [
        "with open('/content/drive/MyDrive/DDMCS/dict_AmericheTOT.json', 'r') as file:\n",
        "    # Caricamento del contenuto del file in un dizionario\n",
        "    my_dict_SATOT = json.load(file)"
      ],
      "metadata": {
        "id": "bTX28MpI1zK8"
      },
      "execution_count": null,
      "outputs": []
    },
    {
      "cell_type": "code",
      "source": [
        "with open('/content/drive/MyDrive/DDMCS/dict_ASIA.json', 'r') as file:\n",
        "    # Caricamento del contenuto del file in un dizionario\n",
        "    my_dict_ASIA = json.load(file)"
      ],
      "metadata": {
        "id": "31bEaXbG1zK8"
      },
      "execution_count": null,
      "outputs": []
    },
    {
      "cell_type": "code",
      "source": [
        "with open('/content/drive/MyDrive/DDMCS/dict_Africa.json', 'r') as file:\n",
        "    # Caricamento del contenuto del file in un dizionario\n",
        "    my_dict_Africa = json.load(file)"
      ],
      "metadata": {
        "id": "knn6DS1F1zK8"
      },
      "execution_count": null,
      "outputs": []
    },
    {
      "cell_type": "code",
      "source": [
        "with open('/content/drive/MyDrive/DDMCS/dict_FineTuning.json', 'r') as file:\n",
        "    # Caricamento del contenuto del file in un dizionario\n",
        "    dict_FineTuning = json.load(file)"
      ],
      "metadata": {
        "id": "pjISqZon1zK8"
      },
      "execution_count": null,
      "outputs": []
    },
    {
      "cell_type": "code",
      "source": [
        "def FineTuning(value):\n",
        "  Right_Names = df['club_name'].isin(df['club_involved_name']) # all the name that already match\n",
        "  LS_DONTCHANGE=np.unique(df[Right_Names]['club_name'].tolist()).tolist() # store all the unique names that already match  \n",
        "\n",
        "  for key, items in dict_FineTuning.items():\n",
        "    if value in key:\n",
        "      if value in LS_DONTCHANGE:\n",
        "        return value\n",
        "      else: \n",
        "        return items \n",
        "  return value      \n",
        "  "
      ],
      "metadata": {
        "id": "_EQCI-6C1zK8"
      },
      "execution_count": null,
      "outputs": []
    },
    {
      "cell_type": "code",
      "source": [
        "def TransaltionLS(value):\n",
        "  stringaa='/content/drive/MyDrive/DDMCS/Long_Short_Translators/' + str(index_for_LS) +'.json'\n",
        "  with open(stringaa, 'r') as file:\n",
        "    # Caricamento del contenuto del file in un dizionario\n",
        "    Translator_LS = json.load(file)\n",
        "  bayern = Translator_LS.pop('B. Leverkusen')\n",
        "  Translator_LS['Bay. Leverkusen'] = bayern\n",
        "  Translator_LS['Stade Rennais']= 'Stade Rennais FC'\n",
        "\n",
        "\n",
        "  Right_Names = df['club_name'].isin(df['club_involved_name']) # all the name that already match\n",
        "  LS_DONTCHANGE=np.unique(df[Right_Names]['club_name'].tolist()).tolist() # store all the unique names that already match\n",
        "  \n",
        "  for key, items in Translator_LS.items():\n",
        "    if value in items:\n",
        "      if value in LS_DONTCHANGE:\n",
        "        return value\n",
        "      else: \n",
        "        return key  \n",
        "  return value"
      ],
      "metadata": {
        "id": "PmJ7smjb1zK9"
      },
      "execution_count": null,
      "outputs": []
    },
    {
      "cell_type": "code",
      "source": [
        "def get_key_Final(value):\n",
        "    for key, items in my_dict.items():\n",
        "        if value in items:\n",
        "            return key\n",
        "    return value"
      ],
      "metadata": {
        "id": "rnJY8IZv1zK9"
      },
      "execution_count": null,
      "outputs": []
    },
    {
      "cell_type": "code",
      "source": [
        "def get_key_Nations(value):\n",
        "    for key, items in META_Translator.items():\n",
        "        if value in key:\n",
        "            return items\n",
        "    return value    "
      ],
      "metadata": {
        "id": "8aFn6SKM1zK9"
      },
      "execution_count": null,
      "outputs": []
    },
    {
      "cell_type": "code",
      "source": [
        "def apply_Trasformations(df):\n",
        "  #df.loc[:,'club_involved_name'] = df['club_involved_name'].map(FineTuning) # change only the right names (when we talk about the U23 and so on)\n",
        "  df.loc[:,'club_name'] = df['club_name'].map(TransaltionLS) # change only the right names\n",
        "  mask = ~df['club_involved_name'].isin(df['club_name']) # select only the name that are not in the first column\n",
        "  df_copy=df[mask]\n",
        "\n",
        "  # Stacking all my dictionary togheter \n",
        "  my_dict.update(my_dict_SATOT)\n",
        "  my_dict.update(my_dict_ASIA)\n",
        "  my_dict.update(my_dict_Africa)\n",
        "\n",
        "  df_copy_2 = df_copy.copy()\n",
        "  df_copy_2.loc[:,'club_involved_name'] = df_copy['club_involved_name'].map(get_key_Final) # Translate the name of the less important club into the name of their leagues\n",
        "  df_copy_2.loc[:,'club_involved_name'] = df_copy_2['club_involved_name'].map(get_key_Nations) # Translate each leagues with META-Translator (ex: 'BE1' To 'Belgium')\n",
        "\n",
        "\n",
        "############### TRY TO RESCUE SOME NAMES AGAIN ######################################################################\n",
        "\n",
        "\n",
        "  # Apply the dictionary in which I try another time to rescue the Team Name (when a club have the name U23 and so on)\n",
        "  df_copy_2.loc[:,'club_involved_name'] = df_copy_2['club_involved_name'].map(FineTuning)\n",
        "\n",
        "  mask2 = ~df_copy_2['club_involved_name'].isin(df_copy_2['club_name']) # select only the name that are not in the first column\n",
        "  df_copy3=df_copy_2[mask2]\n",
        "\n",
        "  df_copy_4 = df_copy3.copy()\n",
        "  df_copy_4.loc[:,'club_involved_name'] = df_copy3['club_involved_name'].map(get_key_Final) # Translate the name of the less important club into the name of their leagues\n",
        "  df_copy_4.loc[:,'club_involved_name'] = df_copy_4['club_involved_name'].map(get_key_Nations) # Translate each leagues with META-Translator (ex: 'BE1' To 'Belgium')\n",
        "\n",
        "  # Re-connect mask 2\n",
        "  df_copy_2.loc[df_copy_2.index.isin(df_copy_4.index)] = df_copy_4\n",
        "\n",
        "###################################################################################################################\n",
        "\n",
        "  # Re-connect mask \n",
        "  df.loc[df.index.isin(df_copy_2.index)] = df_copy_2\n",
        "  return df, df_copy_2\n"
      ],
      "metadata": {
        "id": "OGoMoD9b1zK9"
      },
      "execution_count": null,
      "outputs": []
    },
    {
      "cell_type": "code",
      "source": [
        "def efficiencyTranslator(df_copy, scarti):\n",
        "  mask = ~df_copy['club_involved_name'].isin(df_copy['club_name'])\n",
        "  df_ss=df[mask]\n",
        "  raw_list=np.unique(df_ss['club_involved_name']).tolist()\n",
        "  check_list= [v for k, v in list(META_Translator.items())]\n",
        "  check_list=np.unique(check_list).tolist()\n",
        "  result = list(set(raw_list) - set(check_list))\n",
        "  return len(result)"
      ],
      "metadata": {
        "id": "zY3EjLKj2tv6"
      },
      "execution_count": null,
      "outputs": []
    },
    {
      "cell_type": "markdown",
      "source": [
        "# Prova"
      ],
      "metadata": {
        "id": "660KiFmW10Qs"
      }
    },
    {
      "cell_type": "markdown",
      "source": [
        "load the total dataset"
      ],
      "metadata": {
        "id": "_QCCkL8F2UQ7"
      }
    },
    {
      "cell_type": "code",
      "source": [
        "df = pd.read_csv('/content/drive/MyDrive/DDMCS/Out_For_Cleaning.csv', delimiter=';', encoding= 'unicode_escape')"
      ],
      "metadata": {
        "id": "3CW9QAoTDrUF"
      },
      "execution_count": null,
      "outputs": []
    },
    {
      "cell_type": "code",
      "source": [
        "df.head()"
      ],
      "metadata": {
        "colab": {
          "base_uri": "https://localhost:8080/",
          "height": 206
        },
        "id": "iAmtaCNFF6lz",
        "outputId": "68cfc540-6f30-4335-e91c-ae4dc18d2e6f"
      },
      "execution_count": null,
      "outputs": [
        {
          "output_type": "execute_result",
          "data": {
            "text/plain": [
              "   Unnamed: 0      club_name          player_name   age          position  \\\n",
              "0           1  AC Fiorentina        Brian Laudrup  23.0      Right Winger   \n",
              "1           2  AC Fiorentina     Stefan Effenberg  23.0  Central Midfield   \n",
              "2           3  AC Fiorentina  Daniele Carnasciali  25.0        Right-Back   \n",
              "3           4  AC Fiorentina        Diego Latorre  22.0    Second Striker   \n",
              "4           5  AC Fiorentina      Andrea Vascotto  20.0          midfield   \n",
              "\n",
              "  club_involved_name     fee transfer_movement transfer_period fee_cleaned  \\\n",
              "0      Bayern Munich  5.00m                in          Summer           5   \n",
              "1      Bayern Munich  3.75m                in          Summer        3,75   \n",
              "2            Brescia       ?                in          Summer         NaN   \n",
              "3       Boca Juniors       ?                in          Summer         NaN   \n",
              "4        Barletta CS       ?                in          Summer         NaN   \n",
              "\n",
              "  league_name  year     season  \n",
              "0     Serie A  1992  1992/1993  \n",
              "1     Serie A  1992  1992/1993  \n",
              "2     Serie A  1992  1992/1993  \n",
              "3     Serie A  1992  1992/1993  \n",
              "4     Serie A  1992  1992/1993  "
            ],
            "text/html": [
              "\n",
              "  <div id=\"df-47acec40-39e1-4112-8117-6dea25cc77eb\">\n",
              "    <div class=\"colab-df-container\">\n",
              "      <div>\n",
              "<style scoped>\n",
              "    .dataframe tbody tr th:only-of-type {\n",
              "        vertical-align: middle;\n",
              "    }\n",
              "\n",
              "    .dataframe tbody tr th {\n",
              "        vertical-align: top;\n",
              "    }\n",
              "\n",
              "    .dataframe thead th {\n",
              "        text-align: right;\n",
              "    }\n",
              "</style>\n",
              "<table border=\"1\" class=\"dataframe\">\n",
              "  <thead>\n",
              "    <tr style=\"text-align: right;\">\n",
              "      <th></th>\n",
              "      <th>Unnamed: 0</th>\n",
              "      <th>club_name</th>\n",
              "      <th>player_name</th>\n",
              "      <th>age</th>\n",
              "      <th>position</th>\n",
              "      <th>club_involved_name</th>\n",
              "      <th>fee</th>\n",
              "      <th>transfer_movement</th>\n",
              "      <th>transfer_period</th>\n",
              "      <th>fee_cleaned</th>\n",
              "      <th>league_name</th>\n",
              "      <th>year</th>\n",
              "      <th>season</th>\n",
              "    </tr>\n",
              "  </thead>\n",
              "  <tbody>\n",
              "    <tr>\n",
              "      <th>0</th>\n",
              "      <td>1</td>\n",
              "      <td>AC Fiorentina</td>\n",
              "      <td>Brian Laudrup</td>\n",
              "      <td>23.0</td>\n",
              "      <td>Right Winger</td>\n",
              "      <td>Bayern Munich</td>\n",
              "      <td>5.00m</td>\n",
              "      <td>in</td>\n",
              "      <td>Summer</td>\n",
              "      <td>5</td>\n",
              "      <td>Serie A</td>\n",
              "      <td>1992</td>\n",
              "      <td>1992/1993</td>\n",
              "    </tr>\n",
              "    <tr>\n",
              "      <th>1</th>\n",
              "      <td>2</td>\n",
              "      <td>AC Fiorentina</td>\n",
              "      <td>Stefan Effenberg</td>\n",
              "      <td>23.0</td>\n",
              "      <td>Central Midfield</td>\n",
              "      <td>Bayern Munich</td>\n",
              "      <td>3.75m</td>\n",
              "      <td>in</td>\n",
              "      <td>Summer</td>\n",
              "      <td>3,75</td>\n",
              "      <td>Serie A</td>\n",
              "      <td>1992</td>\n",
              "      <td>1992/1993</td>\n",
              "    </tr>\n",
              "    <tr>\n",
              "      <th>2</th>\n",
              "      <td>3</td>\n",
              "      <td>AC Fiorentina</td>\n",
              "      <td>Daniele Carnasciali</td>\n",
              "      <td>25.0</td>\n",
              "      <td>Right-Back</td>\n",
              "      <td>Brescia</td>\n",
              "      <td>?</td>\n",
              "      <td>in</td>\n",
              "      <td>Summer</td>\n",
              "      <td>NaN</td>\n",
              "      <td>Serie A</td>\n",
              "      <td>1992</td>\n",
              "      <td>1992/1993</td>\n",
              "    </tr>\n",
              "    <tr>\n",
              "      <th>3</th>\n",
              "      <td>4</td>\n",
              "      <td>AC Fiorentina</td>\n",
              "      <td>Diego Latorre</td>\n",
              "      <td>22.0</td>\n",
              "      <td>Second Striker</td>\n",
              "      <td>Boca Juniors</td>\n",
              "      <td>?</td>\n",
              "      <td>in</td>\n",
              "      <td>Summer</td>\n",
              "      <td>NaN</td>\n",
              "      <td>Serie A</td>\n",
              "      <td>1992</td>\n",
              "      <td>1992/1993</td>\n",
              "    </tr>\n",
              "    <tr>\n",
              "      <th>4</th>\n",
              "      <td>5</td>\n",
              "      <td>AC Fiorentina</td>\n",
              "      <td>Andrea Vascotto</td>\n",
              "      <td>20.0</td>\n",
              "      <td>midfield</td>\n",
              "      <td>Barletta CS</td>\n",
              "      <td>?</td>\n",
              "      <td>in</td>\n",
              "      <td>Summer</td>\n",
              "      <td>NaN</td>\n",
              "      <td>Serie A</td>\n",
              "      <td>1992</td>\n",
              "      <td>1992/1993</td>\n",
              "    </tr>\n",
              "  </tbody>\n",
              "</table>\n",
              "</div>\n",
              "      <button class=\"colab-df-convert\" onclick=\"convertToInteractive('df-47acec40-39e1-4112-8117-6dea25cc77eb')\"\n",
              "              title=\"Convert this dataframe to an interactive table.\"\n",
              "              style=\"display:none;\">\n",
              "        \n",
              "  <svg xmlns=\"http://www.w3.org/2000/svg\" height=\"24px\"viewBox=\"0 0 24 24\"\n",
              "       width=\"24px\">\n",
              "    <path d=\"M0 0h24v24H0V0z\" fill=\"none\"/>\n",
              "    <path d=\"M18.56 5.44l.94 2.06.94-2.06 2.06-.94-2.06-.94-.94-2.06-.94 2.06-2.06.94zm-11 1L8.5 8.5l.94-2.06 2.06-.94-2.06-.94L8.5 2.5l-.94 2.06-2.06.94zm10 10l.94 2.06.94-2.06 2.06-.94-2.06-.94-.94-2.06-.94 2.06-2.06.94z\"/><path d=\"M17.41 7.96l-1.37-1.37c-.4-.4-.92-.59-1.43-.59-.52 0-1.04.2-1.43.59L10.3 9.45l-7.72 7.72c-.78.78-.78 2.05 0 2.83L4 21.41c.39.39.9.59 1.41.59.51 0 1.02-.2 1.41-.59l7.78-7.78 2.81-2.81c.8-.78.8-2.07 0-2.86zM5.41 20L4 18.59l7.72-7.72 1.47 1.35L5.41 20z\"/>\n",
              "  </svg>\n",
              "      </button>\n",
              "      \n",
              "  <style>\n",
              "    .colab-df-container {\n",
              "      display:flex;\n",
              "      flex-wrap:wrap;\n",
              "      gap: 12px;\n",
              "    }\n",
              "\n",
              "    .colab-df-convert {\n",
              "      background-color: #E8F0FE;\n",
              "      border: none;\n",
              "      border-radius: 50%;\n",
              "      cursor: pointer;\n",
              "      display: none;\n",
              "      fill: #1967D2;\n",
              "      height: 32px;\n",
              "      padding: 0 0 0 0;\n",
              "      width: 32px;\n",
              "    }\n",
              "\n",
              "    .colab-df-convert:hover {\n",
              "      background-color: #E2EBFA;\n",
              "      box-shadow: 0px 1px 2px rgba(60, 64, 67, 0.3), 0px 1px 3px 1px rgba(60, 64, 67, 0.15);\n",
              "      fill: #174EA6;\n",
              "    }\n",
              "\n",
              "    [theme=dark] .colab-df-convert {\n",
              "      background-color: #3B4455;\n",
              "      fill: #D2E3FC;\n",
              "    }\n",
              "\n",
              "    [theme=dark] .colab-df-convert:hover {\n",
              "      background-color: #434B5C;\n",
              "      box-shadow: 0px 1px 3px 1px rgba(0, 0, 0, 0.15);\n",
              "      filter: drop-shadow(0px 1px 2px rgba(0, 0, 0, 0.3));\n",
              "      fill: #FFFFFF;\n",
              "    }\n",
              "  </style>\n",
              "\n",
              "      <script>\n",
              "        const buttonEl =\n",
              "          document.querySelector('#df-47acec40-39e1-4112-8117-6dea25cc77eb button.colab-df-convert');\n",
              "        buttonEl.style.display =\n",
              "          google.colab.kernel.accessAllowed ? 'block' : 'none';\n",
              "\n",
              "        async function convertToInteractive(key) {\n",
              "          const element = document.querySelector('#df-47acec40-39e1-4112-8117-6dea25cc77eb');\n",
              "          const dataTable =\n",
              "            await google.colab.kernel.invokeFunction('convertToInteractive',\n",
              "                                                     [key], {});\n",
              "          if (!dataTable) return;\n",
              "\n",
              "          const docLinkHtml = 'Like what you see? Visit the ' +\n",
              "            '<a target=\"_blank\" href=https://colab.research.google.com/notebooks/data_table.ipynb>data table notebook</a>'\n",
              "            + ' to learn more about interactive tables.';\n",
              "          element.innerHTML = '';\n",
              "          dataTable['output_type'] = 'display_data';\n",
              "          await google.colab.output.renderOutput(dataTable, element);\n",
              "          const docLink = document.createElement('div');\n",
              "          docLink.innerHTML = docLinkHtml;\n",
              "          element.appendChild(docLink);\n",
              "        }\n",
              "      </script>\n",
              "    </div>\n",
              "  </div>\n",
              "  "
            ]
          },
          "metadata": {},
          "execution_count": 114
        }
      ]
    },
    {
      "cell_type": "code",
      "source": [
        "df.info()"
      ],
      "metadata": {
        "colab": {
          "base_uri": "https://localhost:8080/"
        },
        "id": "xv1oy1RxGlmT",
        "outputId": "0835597a-21ad-4e6d-b1e6-b0d3da62fc27"
      },
      "execution_count": null,
      "outputs": [
        {
          "output_type": "stream",
          "name": "stdout",
          "text": [
            "<class 'pandas.core.frame.DataFrame'>\n",
            "RangeIndex: 132725 entries, 0 to 132724\n",
            "Data columns (total 13 columns):\n",
            " #   Column              Non-Null Count   Dtype  \n",
            "---  ------              --------------   -----  \n",
            " 0   Unnamed: 0          132725 non-null  int64  \n",
            " 1   club_name           132725 non-null  object \n",
            " 2   player_name         132725 non-null  object \n",
            " 3   age                 132671 non-null  float64\n",
            " 4   position            132725 non-null  object \n",
            " 5   club_involved_name  132725 non-null  object \n",
            " 6   fee                 132640 non-null  object \n",
            " 7   transfer_movement   132725 non-null  object \n",
            " 8   transfer_period     132725 non-null  object \n",
            " 9   fee_cleaned         51040 non-null   object \n",
            " 10  league_name         132725 non-null  object \n",
            " 11  year                132725 non-null  int64  \n",
            " 12  season              132725 non-null  object \n",
            "dtypes: float64(1), int64(2), object(10)\n",
            "memory usage: 13.2+ MB\n"
          ]
        }
      ]
    },
    {
      "cell_type": "markdown",
      "source": [
        " First operations of preprocessing"
      ],
      "metadata": {
        "id": "mSLuEyXw2Wu0"
      }
    },
    {
      "cell_type": "code",
      "source": [
        "df = df.drop(\"Unnamed: 0\", axis=1) # Removing The first column that is useless\n",
        "\n",
        "df = df[df[\"transfer_movement\"] != \"out\"] # Removing all the out movement \n",
        "\n",
        "df = df[df[\"fee\"] != \"-\"] # Removing all the movement in which a club buy a player from the Youth accademy of itself\n",
        "\n",
        "df.loc[df[\"fee\"] == \"free transfer\", \"club_involved_name\"] = \"free agents\" # Classify all the free agents movements with the right names\n",
        "\n",
        "# Remove all the returns from loans\n",
        "df['fee'] = df['fee'].astype(str) \n",
        "df = df[~df['fee'].str.startswith(\"End of\")]\n",
        "\n",
        "# Change '?' with 0.01\n",
        "df['fee_cleaned'].fillna(0.01, inplace=True)\n"
      ],
      "metadata": {
        "id": "jA-SFkXsrvP_"
      },
      "execution_count": null,
      "outputs": []
    },
    {
      "cell_type": "code",
      "source": [
        "df.head()"
      ],
      "metadata": {
        "colab": {
          "base_uri": "https://localhost:8080/",
          "height": 206
        },
        "id": "NPu-QLomz1m7",
        "outputId": "af1b9366-35af-4f87-b0d9-6fba3fb037be"
      },
      "execution_count": null,
      "outputs": [
        {
          "output_type": "execute_result",
          "data": {
            "text/plain": [
              "       club_name          player_name   age          position  \\\n",
              "0  AC Fiorentina        Brian Laudrup  23.0      Right Winger   \n",
              "1  AC Fiorentina     Stefan Effenberg  23.0  Central Midfield   \n",
              "2  AC Fiorentina  Daniele Carnasciali  25.0        Right-Back   \n",
              "3  AC Fiorentina        Diego Latorre  22.0    Second Striker   \n",
              "4  AC Fiorentina      Andrea Vascotto  20.0          midfield   \n",
              "\n",
              "  club_involved_name     fee transfer_movement transfer_period fee_cleaned  \\\n",
              "0      Bayern Munich  5.00m                in          Summer           5   \n",
              "1      Bayern Munich  3.75m                in          Summer        3,75   \n",
              "2            Brescia       ?                in          Summer        0.01   \n",
              "3       Boca Juniors       ?                in          Summer        0.01   \n",
              "4        Barletta CS       ?                in          Summer        0.01   \n",
              "\n",
              "  league_name  year     season  \n",
              "0     Serie A  1992  1992/1993  \n",
              "1     Serie A  1992  1992/1993  \n",
              "2     Serie A  1992  1992/1993  \n",
              "3     Serie A  1992  1992/1993  \n",
              "4     Serie A  1992  1992/1993  "
            ],
            "text/html": [
              "\n",
              "  <div id=\"df-8f7876ed-e8b7-49a1-8886-10af3694a6e9\">\n",
              "    <div class=\"colab-df-container\">\n",
              "      <div>\n",
              "<style scoped>\n",
              "    .dataframe tbody tr th:only-of-type {\n",
              "        vertical-align: middle;\n",
              "    }\n",
              "\n",
              "    .dataframe tbody tr th {\n",
              "        vertical-align: top;\n",
              "    }\n",
              "\n",
              "    .dataframe thead th {\n",
              "        text-align: right;\n",
              "    }\n",
              "</style>\n",
              "<table border=\"1\" class=\"dataframe\">\n",
              "  <thead>\n",
              "    <tr style=\"text-align: right;\">\n",
              "      <th></th>\n",
              "      <th>club_name</th>\n",
              "      <th>player_name</th>\n",
              "      <th>age</th>\n",
              "      <th>position</th>\n",
              "      <th>club_involved_name</th>\n",
              "      <th>fee</th>\n",
              "      <th>transfer_movement</th>\n",
              "      <th>transfer_period</th>\n",
              "      <th>fee_cleaned</th>\n",
              "      <th>league_name</th>\n",
              "      <th>year</th>\n",
              "      <th>season</th>\n",
              "    </tr>\n",
              "  </thead>\n",
              "  <tbody>\n",
              "    <tr>\n",
              "      <th>0</th>\n",
              "      <td>AC Fiorentina</td>\n",
              "      <td>Brian Laudrup</td>\n",
              "      <td>23.0</td>\n",
              "      <td>Right Winger</td>\n",
              "      <td>Bayern Munich</td>\n",
              "      <td>5.00m</td>\n",
              "      <td>in</td>\n",
              "      <td>Summer</td>\n",
              "      <td>5</td>\n",
              "      <td>Serie A</td>\n",
              "      <td>1992</td>\n",
              "      <td>1992/1993</td>\n",
              "    </tr>\n",
              "    <tr>\n",
              "      <th>1</th>\n",
              "      <td>AC Fiorentina</td>\n",
              "      <td>Stefan Effenberg</td>\n",
              "      <td>23.0</td>\n",
              "      <td>Central Midfield</td>\n",
              "      <td>Bayern Munich</td>\n",
              "      <td>3.75m</td>\n",
              "      <td>in</td>\n",
              "      <td>Summer</td>\n",
              "      <td>3,75</td>\n",
              "      <td>Serie A</td>\n",
              "      <td>1992</td>\n",
              "      <td>1992/1993</td>\n",
              "    </tr>\n",
              "    <tr>\n",
              "      <th>2</th>\n",
              "      <td>AC Fiorentina</td>\n",
              "      <td>Daniele Carnasciali</td>\n",
              "      <td>25.0</td>\n",
              "      <td>Right-Back</td>\n",
              "      <td>Brescia</td>\n",
              "      <td>?</td>\n",
              "      <td>in</td>\n",
              "      <td>Summer</td>\n",
              "      <td>0.01</td>\n",
              "      <td>Serie A</td>\n",
              "      <td>1992</td>\n",
              "      <td>1992/1993</td>\n",
              "    </tr>\n",
              "    <tr>\n",
              "      <th>3</th>\n",
              "      <td>AC Fiorentina</td>\n",
              "      <td>Diego Latorre</td>\n",
              "      <td>22.0</td>\n",
              "      <td>Second Striker</td>\n",
              "      <td>Boca Juniors</td>\n",
              "      <td>?</td>\n",
              "      <td>in</td>\n",
              "      <td>Summer</td>\n",
              "      <td>0.01</td>\n",
              "      <td>Serie A</td>\n",
              "      <td>1992</td>\n",
              "      <td>1992/1993</td>\n",
              "    </tr>\n",
              "    <tr>\n",
              "      <th>4</th>\n",
              "      <td>AC Fiorentina</td>\n",
              "      <td>Andrea Vascotto</td>\n",
              "      <td>20.0</td>\n",
              "      <td>midfield</td>\n",
              "      <td>Barletta CS</td>\n",
              "      <td>?</td>\n",
              "      <td>in</td>\n",
              "      <td>Summer</td>\n",
              "      <td>0.01</td>\n",
              "      <td>Serie A</td>\n",
              "      <td>1992</td>\n",
              "      <td>1992/1993</td>\n",
              "    </tr>\n",
              "  </tbody>\n",
              "</table>\n",
              "</div>\n",
              "      <button class=\"colab-df-convert\" onclick=\"convertToInteractive('df-8f7876ed-e8b7-49a1-8886-10af3694a6e9')\"\n",
              "              title=\"Convert this dataframe to an interactive table.\"\n",
              "              style=\"display:none;\">\n",
              "        \n",
              "  <svg xmlns=\"http://www.w3.org/2000/svg\" height=\"24px\"viewBox=\"0 0 24 24\"\n",
              "       width=\"24px\">\n",
              "    <path d=\"M0 0h24v24H0V0z\" fill=\"none\"/>\n",
              "    <path d=\"M18.56 5.44l.94 2.06.94-2.06 2.06-.94-2.06-.94-.94-2.06-.94 2.06-2.06.94zm-11 1L8.5 8.5l.94-2.06 2.06-.94-2.06-.94L8.5 2.5l-.94 2.06-2.06.94zm10 10l.94 2.06.94-2.06 2.06-.94-2.06-.94-.94-2.06-.94 2.06-2.06.94z\"/><path d=\"M17.41 7.96l-1.37-1.37c-.4-.4-.92-.59-1.43-.59-.52 0-1.04.2-1.43.59L10.3 9.45l-7.72 7.72c-.78.78-.78 2.05 0 2.83L4 21.41c.39.39.9.59 1.41.59.51 0 1.02-.2 1.41-.59l7.78-7.78 2.81-2.81c.8-.78.8-2.07 0-2.86zM5.41 20L4 18.59l7.72-7.72 1.47 1.35L5.41 20z\"/>\n",
              "  </svg>\n",
              "      </button>\n",
              "      \n",
              "  <style>\n",
              "    .colab-df-container {\n",
              "      display:flex;\n",
              "      flex-wrap:wrap;\n",
              "      gap: 12px;\n",
              "    }\n",
              "\n",
              "    .colab-df-convert {\n",
              "      background-color: #E8F0FE;\n",
              "      border: none;\n",
              "      border-radius: 50%;\n",
              "      cursor: pointer;\n",
              "      display: none;\n",
              "      fill: #1967D2;\n",
              "      height: 32px;\n",
              "      padding: 0 0 0 0;\n",
              "      width: 32px;\n",
              "    }\n",
              "\n",
              "    .colab-df-convert:hover {\n",
              "      background-color: #E2EBFA;\n",
              "      box-shadow: 0px 1px 2px rgba(60, 64, 67, 0.3), 0px 1px 3px 1px rgba(60, 64, 67, 0.15);\n",
              "      fill: #174EA6;\n",
              "    }\n",
              "\n",
              "    [theme=dark] .colab-df-convert {\n",
              "      background-color: #3B4455;\n",
              "      fill: #D2E3FC;\n",
              "    }\n",
              "\n",
              "    [theme=dark] .colab-df-convert:hover {\n",
              "      background-color: #434B5C;\n",
              "      box-shadow: 0px 1px 3px 1px rgba(0, 0, 0, 0.15);\n",
              "      filter: drop-shadow(0px 1px 2px rgba(0, 0, 0, 0.3));\n",
              "      fill: #FFFFFF;\n",
              "    }\n",
              "  </style>\n",
              "\n",
              "      <script>\n",
              "        const buttonEl =\n",
              "          document.querySelector('#df-8f7876ed-e8b7-49a1-8886-10af3694a6e9 button.colab-df-convert');\n",
              "        buttonEl.style.display =\n",
              "          google.colab.kernel.accessAllowed ? 'block' : 'none';\n",
              "\n",
              "        async function convertToInteractive(key) {\n",
              "          const element = document.querySelector('#df-8f7876ed-e8b7-49a1-8886-10af3694a6e9');\n",
              "          const dataTable =\n",
              "            await google.colab.kernel.invokeFunction('convertToInteractive',\n",
              "                                                     [key], {});\n",
              "          if (!dataTable) return;\n",
              "\n",
              "          const docLinkHtml = 'Like what you see? Visit the ' +\n",
              "            '<a target=\"_blank\" href=https://colab.research.google.com/notebooks/data_table.ipynb>data table notebook</a>'\n",
              "            + ' to learn more about interactive tables.';\n",
              "          element.innerHTML = '';\n",
              "          dataTable['output_type'] = 'display_data';\n",
              "          await google.colab.output.renderOutput(dataTable, element);\n",
              "          const docLink = document.createElement('div');\n",
              "          docLink.innerHTML = docLinkHtml;\n",
              "          element.appendChild(docLink);\n",
              "        }\n",
              "      </script>\n",
              "    </div>\n",
              "  </div>\n",
              "  "
            ]
          },
          "metadata": {},
          "execution_count": 116
        }
      ]
    },
    {
      "cell_type": "code",
      "source": [
        "df.info()"
      ],
      "metadata": {
        "colab": {
          "base_uri": "https://localhost:8080/"
        },
        "id": "tmsyhDy0zLmO",
        "outputId": "9c8c8459-a3f8-4075-842c-b9a2cd95b1ee"
      },
      "execution_count": null,
      "outputs": [
        {
          "output_type": "stream",
          "name": "stdout",
          "text": [
            "<class 'pandas.core.frame.DataFrame'>\n",
            "Int64Index: 40034 entries, 0 to 132717\n",
            "Data columns (total 12 columns):\n",
            " #   Column              Non-Null Count  Dtype  \n",
            "---  ------              --------------  -----  \n",
            " 0   club_name           40034 non-null  object \n",
            " 1   player_name         40034 non-null  object \n",
            " 2   age                 40021 non-null  float64\n",
            " 3   position            40034 non-null  object \n",
            " 4   club_involved_name  40034 non-null  object \n",
            " 5   fee                 40034 non-null  object \n",
            " 6   transfer_movement   40034 non-null  object \n",
            " 7   transfer_period     40034 non-null  object \n",
            " 8   fee_cleaned         40034 non-null  object \n",
            " 9   league_name         40034 non-null  object \n",
            " 10  year                40034 non-null  int64  \n",
            " 11  season              40034 non-null  object \n",
            "dtypes: float64(1), int64(1), object(10)\n",
            "memory usage: 4.0+ MB\n"
          ]
        }
      ]
    },
    {
      "cell_type": "markdown",
      "source": [
        "Seasons names"
      ],
      "metadata": {
        "id": "WhYk39PWpLe3"
      }
    },
    {
      "cell_type": "code",
      "source": [
        "colonna_values = df['season'].unique().tolist()"
      ],
      "metadata": {
        "id": "d8aGr9Rl0k2s"
      },
      "execution_count": null,
      "outputs": []
    },
    {
      "cell_type": "markdown",
      "source": [
        "Apply the Changing in all my datasets"
      ],
      "metadata": {
        "id": "52UkVBoG2wDW"
      }
    },
    {
      "cell_type": "code",
      "source": [
        "for value in tqdm(colonna_values):  \n",
        "\n",
        "    #loss=[] # Initialize the loss\n",
        "    index_for_LS = value.split('/')[0] # Took the index\n",
        "\n",
        "\n",
        "    # Seleziona i dati in base al valore corrente\n",
        "    mini_df = df[df['season'] == value]\n",
        "    df_copy, scarti = apply_Trasformations(mini_df)\n",
        "    #loss.append(efficiencyTranslator(df_copy, scarti))\n",
        "    # Create the Meta-Translator\n",
        "    string= '/content/drive/MyDrive/DDMCS/Cleaned_datasetsV3/' + str(value).replace(\"/\", \"_\") +'.csv'\n",
        "    df_copy.to_csv(string, index=False)\n",
        "\n",
        "    if 'mini_df' in locals() or 'mini_df' in globals():\n",
        "      del mini_df"
      ],
      "metadata": {
        "colab": {
          "base_uri": "https://localhost:8080/"
        },
        "id": "JPCmTEDD1j7w",
        "outputId": "7de9edc6-254c-4737-a59d-cebaa624f782"
      },
      "execution_count": null,
      "outputs": [
        {
          "output_type": "stream",
          "name": "stderr",
          "text": [
            "100%|██████████| 30/30 [17:11<00:00, 34.38s/it]\n"
          ]
        }
      ]
    }
  ]
}