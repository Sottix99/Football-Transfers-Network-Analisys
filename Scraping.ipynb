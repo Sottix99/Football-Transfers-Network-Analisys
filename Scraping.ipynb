{
  "nbformat": 4,
  "nbformat_minor": 0,
  "metadata": {
    "colab": {
      "provenance": [],
      "collapsed_sections": [
        "yKz4UaOH4zCl",
        "CxhHrsjMB_q_",
        "5W13m3SMJnmK",
        "StRcs__Rk2Ax",
        "d3mwVRdsj40T",
        "VpOeHnKlDHsG"
      ]
    },
    "kernelspec": {
      "name": "python3",
      "display_name": "Python 3"
    },
    "language_info": {
      "name": "python"
    }
  },
  "cells": [
    {
      "cell_type": "code",
      "source": [
        "import pandas as pd\n",
        "import networkx as nx\n",
        "import string\n",
        "import numpy as np\n",
        "import scipy\n",
        "from collections import Counter\n",
        "from tabulate import tabulate\n",
        "import matplotlib.pyplot as plt\n",
        "import random\n",
        "import requests\n",
        "import time\n",
        "import csv\n",
        "import os\n",
        "from bs4 import BeautifulSoup as bs\n",
        "from tqdm import tqdm\n",
        "import json"
      ],
      "metadata": {
        "id": "DhtUjjSxa0-k"
      },
      "execution_count": null,
      "outputs": []
    },
    {
      "cell_type": "code",
      "execution_count": null,
      "metadata": {
        "colab": {
          "base_uri": "https://localhost:8080/"
        },
        "id": "kSRYy0wnax00",
        "outputId": "9b9b6d70-6426-4a90-aaf2-d9b35cd5a85f"
      },
      "outputs": [
        {
          "output_type": "stream",
          "name": "stdout",
          "text": [
            "Mounted at /content/drive\n"
          ]
        }
      ],
      "source": [
        "from google.colab import drive\n",
        "drive.mount('/content/drive')"
      ]
    },
    {
      "cell_type": "markdown",
      "source": [
        "\n",
        " Plan\n",
        "1.   Maps every club names from all over the Word into their continent/country (Meta-translator).\n",
        "2.   Maps for every club, their long names to the shortest one (Transalator for each Team from Long_Name TO Short_Name).\n",
        "3. Test if that operations works with my data\n",
        "\n"
      ],
      "metadata": {
        "id": "H97hjT161YjM"
      }
    },
    {
      "cell_type": "code",
      "source": [
        "def preparationForScraping(url_scraping,Page1,PageN):\n",
        "\n",
        "  List_pages_Scraping=[] # URL for each of the pages\n",
        "  list_HTMLForScraping=[] # HTML for each of the pages\n",
        "  Link_Scraping=[] # will contains all the links for each league used for scraping\n",
        "  link_League_Scraping=[] # will be used for connect each Keys to the link used for Scraping\n",
        "  \n",
        "\n",
        "  # CREATE THE URL \n",
        "  for i in range(Page1,PageN): # I'M interested only in the pages from Page1 To PageN (Incluse)\n",
        "    List_pages_Scraping.append(url_scraping + str(i))\n",
        "  \n",
        "  # GET the HTML and put theme in a list\n",
        "  for url in List_pages_Scraping:\n",
        "    html1 = requests.get(url, headers = {'User-agent': 'Super Bot Pluto Zeronium AI'})\n",
        "    list_HTMLForScraping.append(html1) # a list of HTML\n",
        "\n",
        "  # FOR EACH HTML GET THE PART OF INTEREST\n",
        "  for html in  list_HTMLForScraping: \n",
        "    soup=bs(html.content,'lxml')\n",
        "    table=soup.find_all('table',{'class':'inline-table'}) # a raw piece of html from which i will extract the links\n",
        "\n",
        "  # FOR EACH PART OF EACH HTML GET THE FINAL LINKS THAT WILL BE USED FOR SCRAPING\n",
        "    for t in table:\n",
        "      link=t.find('a').find_next('a').get('href') # find the link\n",
        "      Link_Scraping.append(link) # append in this list all the right links\n",
        "      link_League_Scraping.append([link.split(\"/\")[-1],link])\n",
        "\n",
        "  return link_League_Scraping"
      ],
      "metadata": {
        "id": "Y283fF7Uv-8X"
      },
      "execution_count": null,
      "outputs": []
    },
    {
      "cell_type": "code",
      "source": [
        "# Selected Years\n",
        "years = []\n",
        "for i in range(2005, 2021):\n",
        "    years.append(i)"
      ],
      "metadata": {
        "id": "gMLWJ4IccOOw"
      },
      "execution_count": null,
      "outputs": []
    },
    {
      "cell_type": "code",
      "source": [
        "def getNames(url_list,n):\n",
        "  \"\"\" Given a list of URLs for a league for different years, that function will output \n",
        "      all the names of the teams that have been at least 1 time in that league\n",
        "  \"\"\"\n",
        "  names_list=[]\n",
        "\n",
        "  for url in url_list:\n",
        "    # Request for connection\n",
        "    html = requests.get(url, headers = {'User-agent': 'Super Bot Pluto Zeronium AI'})\n",
        "    soup=bs(html.content,'lxml')\n",
        "    Check=soup.find('div', {'id': 'spieltagsbox'}) # it has the role to check if the element is empty or not\n",
        "\n",
        "    if Check is not None:\n",
        "     names = [span.find('a').text for span in Check.find_all('span', {'class': 'vereinsname'})]\n",
        "     for n in names:\n",
        "       names_list.append(n) # append all the names for\n",
        "    else:\n",
        "      names_list.append(0) # otherwise zero\n",
        "  final_names=np.unique(names_list) # compute the unque elements\n",
        "  return(final_names)\n"
      ],
      "metadata": {
        "id": "_9FA_UHenllH"
      },
      "execution_count": null,
      "outputs": []
    },
    {
      "cell_type": "code",
      "source": [
        "def createUrlForYears(string,years):\n",
        "  \"\"\" Given a string and a vector of years, that function will create the right links that i will use to get the HTMLs\n",
        "      The string is \n",
        "  \"\"\"\n",
        "  list_url=[]\n",
        "  for i in years:\n",
        "    url2 = 'https://www.transfermarkt.com'+string+'/saison_id/'+str(i)\n",
        "    list_url.append(url2)\n",
        "  return(list_url)\n"
      ],
      "metadata": {
        "id": "BkApyIJ3yUTT"
      },
      "execution_count": null,
      "outputs": []
    },
    {
      "cell_type": "code",
      "source": [
        "def createDict(code_link,years):\n",
        "  #final_l=[]\n",
        "  output={}\n",
        "  for element in tqdm(code_link):\n",
        "    code=element[0]\n",
        "    link=element[1]\n",
        "    book_url=createUrlForYears(link,years)\n",
        "    teams=getNames(book_url,15)\n",
        "    #final_l.append([code,teams])\n",
        "    output[str(code)]=teams\n",
        "  return(output) "
      ],
      "metadata": {
        "id": "Mk7Tsr1IyVT0"
      },
      "execution_count": null,
      "outputs": []
    },
    {
      "cell_type": "code",
      "source": [
        "#getNames(list_url)"
      ],
      "metadata": {
        "colab": {
          "base_uri": "https://localhost:8080/"
        },
        "id": "my0ungmTobeX",
        "outputId": "1be9f152-2f93-4b6b-de66-55dfacf40dff"
      },
      "execution_count": null,
      "outputs": [
        {
          "output_type": "stream",
          "name": "stderr",
          "text": [
            "100%|██████████| 32/32 [03:24<00:00,  6.39s/it]\n"
          ]
        },
        {
          "output_type": "execute_result",
          "data": {
            "text/plain": [
              "array(['A.Sebatspor', 'Adana Demirspor', 'Adanaspor', 'Akhisar Belediye',\n",
              "       'Akhisarspor', 'Alanyaspor', 'Altay SK', 'Ankaragücü',\n",
              "       'Ankaraspor', 'Antalyaspor', 'Aydinspor', 'BB Ankaraspor',\n",
              "       'BB Erzurumspor', 'Bakirköyspor', 'Balikesirspor', 'Basaksehir',\n",
              "       'Besiktas', 'Boluspor', 'Bucaspor', 'Bursaspor', 'Büyüksehir Bld',\n",
              "       'C. Dardanelspor', 'C. Rizespor', 'DC Karabükspor', 'Dardanelspor',\n",
              "       'Denizlispor', 'Diyarbakirspor', 'Elazigspor ', 'Erzurumspor',\n",
              "       'Eskisehirspor', 'Fenerbahce', 'GB Oftasspor', 'Galatasaray',\n",
              "       'Gaziantep FK', 'Gaziantepspor', 'Genclerbirligi', 'Giresunspor',\n",
              "       'Göztepe', 'Hacettepe', 'Hatayspor', 'Istanbul BBSK',\n",
              "       'Istanbulspor', 'K. Erciyesspor', 'Karabükspor', 'Karagümrük',\n",
              "       'Karsiyaka', 'Kasimpasa', 'Kayserispor', 'Kocaelispor',\n",
              "       'Konyaspor', 'Malatyaspor', 'Manisaspor', 'Mersin IY', 'Orduspor',\n",
              "       'Osmanlispor', 'Petrolofisi', 'Sakaryaspor', 'Samsunspor',\n",
              "       'Sariyer', 'Sekerspor', 'Siirt Jetpa', 'Sivasspor', 'Trabzonspor',\n",
              "       'Vanspor', 'Y. Malatyaspor', 'Yimpas Yozgat', 'Zeytinburnuspor'],\n",
              "      dtype='<U16')"
            ]
          },
          "metadata": {},
          "execution_count": 97
        }
      ]
    },
    {
      "cell_type": "markdown",
      "source": [
        "# Extract all the links \n"
      ],
      "metadata": {
        "id": "DcwwUDkU4t2V"
      }
    },
    {
      "cell_type": "markdown",
      "source": [
        "## AMERICHE"
      ],
      "metadata": {
        "id": "yKz4UaOH4zCl"
      }
    },
    {
      "cell_type": "code",
      "source": [
        "url_SA = 'https://www.transfermarkt.com/wettbewerbe/amerika'\n",
        "url_SaForTransaltor = 'https://www.transfermarkt.com/wettbewerbe/amerika?ajax=yw1&page='\n",
        "url_SaWPages = 'https://www.transfermarkt.com/wettbewerbe/amerika?ajax=yw1&page='"
      ],
      "metadata": {
        "id": "Dnb2vj6b4xg2"
      },
      "execution_count": null,
      "outputs": []
    },
    {
      "cell_type": "code",
      "source": [
        "List_pages_SaForTransaltor=[] # I Want a translator for all SA pages\n",
        "for i in range(1,5): \n",
        "  List_pages_SaForTransaltor.append(url_SaForTransaltor + str(i))"
      ],
      "metadata": {
        "id": "3GC-8G1ufhpD"
      },
      "execution_count": null,
      "outputs": []
    },
    {
      "cell_type": "code",
      "source": [
        "list_HTMLForTransaltor_SA=[]\n",
        "for url in List_pages_SaForTransaltor:\n",
        "  html_SA = requests.get(url, headers = {'User-agent': 'Super Bot Pluto Zeronium AI'})\n",
        "  list_HTMLForTransaltor_SA.append(html_SA) # a list of HTML"
      ],
      "metadata": {
        "id": "7cPXFquogEs3"
      },
      "execution_count": null,
      "outputs": []
    },
    {
      "cell_type": "code",
      "source": [
        "Link_SA=[] # will contains all the links for each league\n",
        "Nations_SA=[] # will contain the names of Nations\n",
        "Translator_SA={} # will be used as transalator from the code of the league to the name of the nation (EX: [(BRA1:Brazil),...])\n",
        "Keys_of_Traslator_SA=[] # each element will be used as the key of my Traslator\n",
        "link_League_SA=[] # will be used for connect each Keys to the link\n",
        "\n",
        "for html in  list_HTMLForTransaltor_SA: # for each HTML in our list\n",
        "  soup_SA=bs(html.content,'lxml')\n",
        "  table_SA=soup_SA.find_all('table',{'class':'inline-table'}) # a raw piece of html from which i will extract the links\n",
        "  flag_SA= soup_SA.find_all(\"img\",{'class': 'flaggenrahmen'}) # a raw piece of html from which i will extract the Nations\n",
        "\n",
        "  for t in table_SA:\n",
        "    link=t.find('a').find_next('a').get('href') # find the link\n",
        "    Link_SA.append(link) # append in this list all the right links\n",
        "    Keys_of_Traslator_SA.append(link.split(\"/\")[-1]) # append the key\n",
        "    link_League_SA.append([link.split(\"/\")[-1],link])\n",
        "\n",
        "\n",
        "  for nat in flag_SA:\n",
        "    Nations_SA.append(nat.get('title')) # append in this list all the right Nations\n",
        "\n",
        "Couple_SA = list(zip(Nations_SA, Link_SA)) # just for the seek of completness i also save the couple Nation/Link\n",
        "\n",
        "Translator_SA = {k: v for k, v in zip(Keys_of_Traslator_SA, Nations_SA)} # The transaltor is finally here!\n",
        "TOT_Pages_SA=len(list_HTMLForTransaltor_SA)\n"
      ],
      "metadata": {
        "id": "c-bpEqfxca-H"
      },
      "execution_count": null,
      "outputs": []
    },
    {
      "cell_type": "code",
      "source": [
        "with open(\"/content/drive/MyDrive/DDMCS/Translator_SA.json\", \"w\") as file:\n",
        "    json.dump(Translator_SA, file)"
      ],
      "metadata": {
        "id": "r6FPDyasx-b2"
      },
      "execution_count": null,
      "outputs": []
    },
    {
      "cell_type": "code",
      "source": [
        "years_SA = []\n",
        "for i in range(2005, 2021):\n",
        "    years_SA.append(i)"
      ],
      "metadata": {
        "id": "VwF59h7aroe2"
      },
      "execution_count": null,
      "outputs": []
    },
    {
      "cell_type": "code",
      "source": [
        "out1=preparationForScraping(url_SaWPages,1,2)"
      ],
      "metadata": {
        "id": "OHBhd4tavDK_"
      },
      "execution_count": null,
      "outputs": []
    },
    {
      "cell_type": "code",
      "source": [
        "names_SA=createDict(out1, years_SA)"
      ],
      "metadata": {
        "id": "fSFss0OwwKy-"
      },
      "execution_count": null,
      "outputs": []
    },
    {
      "cell_type": "code",
      "source": [
        "with open(\"/content/drive/MyDrive/DDMCS/dict_Americhe.json\", \"w\") as file:\n",
        "    json.dump(names_SA, file)"
      ],
      "metadata": {
        "id": "fDC4dEALwK4L"
      },
      "execution_count": null,
      "outputs": []
    },
    {
      "cell_type": "code",
      "source": [
        "with open('/content/drive/MyDrive/DDMCS/dict_Americhe.json', 'r') as file:\n",
        "    # Caricamento del contenuto del file in un dizionario\n",
        "    my_dict_SA = json.load(file)\n"
      ],
      "metadata": {
        "id": "q283ryfz9gia"
      },
      "execution_count": null,
      "outputs": []
    },
    {
      "cell_type": "code",
      "source": [
        "len(my_dict_SA)"
      ],
      "metadata": {
        "colab": {
          "base_uri": "https://localhost:8080/"
        },
        "id": "BvCe55Ov_wqC",
        "outputId": "1f4c2bc2-f9f3-40c8-f774-d4fa0d7b0286"
      },
      "execution_count": null,
      "outputs": [
        {
          "output_type": "execute_result",
          "data": {
            "text/plain": [
              "25"
            ]
          },
          "metadata": {},
          "execution_count": 161
        }
      ]
    },
    {
      "cell_type": "code",
      "source": [
        "my_dict_SA"
      ],
      "metadata": {
        "id": "kTr2_T5CHOf9"
      },
      "execution_count": null,
      "outputs": []
    },
    {
      "cell_type": "markdown",
      "source": [
        "To be more precised, i will scrape also page2 and page 3 of the American Leagues"
      ],
      "metadata": {
        "id": "YYSdc_FoydCe"
      }
    },
    {
      "cell_type": "code",
      "source": [
        "out2=preparationForScraping(url_SaWPages,3,4)"
      ],
      "metadata": {
        "id": "E1b3O5fLwK6w"
      },
      "execution_count": null,
      "outputs": []
    },
    {
      "cell_type": "code",
      "source": [
        "names_SA2=createDict(out2, years_SA)"
      ],
      "metadata": {
        "id": "c9F-2wT3CZdD"
      },
      "execution_count": null,
      "outputs": []
    },
    {
      "cell_type": "code",
      "source": [
        "for i,key in enumerate(names_SA2.keys()):\n",
        "  names_SA2[key]=names_SA2[key].tolist()"
      ],
      "metadata": {
        "id": "G96Lqlg4CdZu"
      },
      "execution_count": null,
      "outputs": []
    },
    {
      "cell_type": "code",
      "source": [
        "with open(\"/content/drive/MyDrive/DDMCS/dict_Americhe2.json\", \"w\") as file:\n",
        "    json.dump(names_SA2, file)"
      ],
      "metadata": {
        "id": "j8mYnrPACdcz"
      },
      "execution_count": null,
      "outputs": []
    },
    {
      "cell_type": "code",
      "source": [
        "with open('/content/drive/MyDrive/DDMCS/dict_Americhe2.json', 'r') as file:\n",
        "    # Caricamento del contenuto del file in un dizionario\n",
        "    my_dict_SA2 = json.load(file)"
      ],
      "metadata": {
        "id": "jEiBj_ytCdfp"
      },
      "execution_count": null,
      "outputs": []
    },
    {
      "cell_type": "code",
      "source": [
        "out3=preparationForScraping(url_SaWPages,3,5)"
      ],
      "metadata": {
        "id": "8olCWY_hCG00"
      },
      "execution_count": null,
      "outputs": []
    },
    {
      "cell_type": "code",
      "source": [
        "names_SA3=createDict(out3, years_SA)"
      ],
      "metadata": {
        "colab": {
          "base_uri": "https://localhost:8080/"
        },
        "id": "hRbOmZ9ZzKWn",
        "outputId": "38ef552e-fb84-4120-f70d-8982d1d4c5d6"
      },
      "execution_count": null,
      "outputs": [
        {
          "output_type": "stream",
          "name": "stderr",
          "text": [
            "100%|██████████| 44/44 [16:14<00:00, 22.15s/it]\n"
          ]
        }
      ]
    },
    {
      "cell_type": "code",
      "source": [
        "for i,key in enumerate(names_SA3.keys()):\n",
        "  names_SA3[key]=names_SA3[key].tolist()"
      ],
      "metadata": {
        "id": "Nec07hA0_QF0"
      },
      "execution_count": null,
      "outputs": []
    },
    {
      "cell_type": "code",
      "source": [
        "with open(\"/content/drive/MyDrive/DDMCS/dict_Americhe3.json\", \"w\") as file:\n",
        "    json.dump(names_SA3, file)"
      ],
      "metadata": {
        "id": "uzq3q3rezPWl"
      },
      "execution_count": null,
      "outputs": []
    },
    {
      "cell_type": "code",
      "source": [
        "with open('/content/drive/MyDrive/DDMCS/dict_Americhe3.json', 'r') as file:\n",
        "    # Caricamento del contenuto del file in un dizionario\n",
        "    my_dict_SA3 = json.load(file)"
      ],
      "metadata": {
        "id": "mk2gjLM9zRs_"
      },
      "execution_count": null,
      "outputs": []
    },
    {
      "cell_type": "code",
      "source": [
        "my_dict_SA3"
      ],
      "metadata": {
        "id": "315s1SwTIc5H"
      },
      "execution_count": null,
      "outputs": []
    },
    {
      "cell_type": "code",
      "source": [
        "my_dict_SA.update(my_dict_SA2)\n",
        "my_dict_SA.update(my_dict_SA3)"
      ],
      "metadata": {
        "id": "byMCETCRIYD3"
      },
      "execution_count": null,
      "outputs": []
    },
    {
      "cell_type": "code",
      "source": [
        "len(my_dict_SA)"
      ],
      "metadata": {
        "colab": {
          "base_uri": "https://localhost:8080/"
        },
        "id": "38sWbGxcJEvd",
        "outputId": "48181d5f-425d-4e92-8432-224ea9165dd7"
      },
      "execution_count": null,
      "outputs": [
        {
          "output_type": "execute_result",
          "data": {
            "text/plain": [
              "94"
            ]
          },
          "metadata": {},
          "execution_count": 192
        }
      ]
    },
    {
      "cell_type": "code",
      "source": [
        "with open(\"/content/drive/MyDrive/DDMCS/dict_AmericheTOT.json\", \"w\") as file:\n",
        "    json.dump(my_dict_SA, file)"
      ],
      "metadata": {
        "id": "7UdaPYkHJOdR"
      },
      "execution_count": null,
      "outputs": []
    },
    {
      "cell_type": "code",
      "source": [
        "with open('/content/drive/MyDrive/DDMCS/dict_AmericheTOT.json', 'r') as file:\n",
        "    # Caricamento del contenuto del file in un dizionario\n",
        "    my_dict_SATOT = json.load(file)"
      ],
      "metadata": {
        "id": "8mMm8BlJJTaA"
      },
      "execution_count": null,
      "outputs": []
    },
    {
      "cell_type": "markdown",
      "source": [
        "## EUROPA (Leghe minori)"
      ],
      "metadata": {
        "id": "CxhHrsjMB_q_"
      }
    },
    {
      "cell_type": "code",
      "source": [
        "url_EU = 'https://www.transfermarkt.com/wettbewerbe/europa?ajax=yw1&page='"
      ],
      "metadata": {
        "id": "l1P5U9MpIZPV"
      },
      "execution_count": null,
      "outputs": []
    },
    {
      "cell_type": "code",
      "source": [
        "List_pages_EU=[]\n",
        "for i in range(1,6): # I'M interested only in the top 5 pages (in that way i Have sored more or less all the top3 tier for each nation (at least for the bigger one))\n",
        "  List_pages_EU.append(url_EU + str(i))\n",
        "\n",
        "\n",
        "List_pages_EUForTransaltor=[] # I Want a translator for all EU pages\n",
        "for i in range(1,19): \n",
        "  List_pages_EUForTransaltor.append(url_EU + str(i))  "
      ],
      "metadata": {
        "id": "kzFSNBlXQj6s"
      },
      "execution_count": null,
      "outputs": []
    },
    {
      "cell_type": "code",
      "source": [
        "List_pages_EU"
      ],
      "metadata": {
        "id": "VVyAvdtWRUOa",
        "colab": {
          "base_uri": "https://localhost:8080/"
        },
        "outputId": "5411df75-c165-4a63-a3c7-2c0e717cdfc0"
      },
      "execution_count": null,
      "outputs": [
        {
          "output_type": "execute_result",
          "data": {
            "text/plain": [
              "['https://www.transfermarkt.com/wettbewerbe/europa?ajax=yw1&page=1',\n",
              " 'https://www.transfermarkt.com/wettbewerbe/europa?ajax=yw1&page=2',\n",
              " 'https://www.transfermarkt.com/wettbewerbe/europa?ajax=yw1&page=3',\n",
              " 'https://www.transfermarkt.com/wettbewerbe/europa?ajax=yw1&page=4',\n",
              " 'https://www.transfermarkt.com/wettbewerbe/europa?ajax=yw1&page=5']"
            ]
          },
          "metadata": {},
          "execution_count": 13
        }
      ]
    },
    {
      "cell_type": "code",
      "source": [
        "years_EU = []\n",
        "for i in range(2000, 2014):\n",
        "    years_EU.append(i)"
      ],
      "metadata": {
        "id": "JaJAjei5B4Pf"
      },
      "execution_count": null,
      "outputs": []
    },
    {
      "cell_type": "code",
      "source": [
        "list_HTML=[]\n",
        "for url in List_pages_EU:\n",
        "  html_EU = requests.get(url, headers = {'User-agent': 'Super Bot Pluto Zeronium AI'})\n",
        "  list_HTML.append(html_EU) # a list of HTML\n",
        "\n",
        "\n",
        "list_HTMLForTransaltor_EU=[]\n",
        "for url in List_pages_EUForTransaltor:\n",
        "  html_EU = requests.get(url, headers = {'User-agent': 'Super Bot Pluto Zeronium AI'})\n",
        "  list_HTMLForTransaltor_EU.append(html_EU) # a list of HTML  "
      ],
      "metadata": {
        "id": "yHC3looTIewU"
      },
      "execution_count": null,
      "outputs": []
    },
    {
      "cell_type": "code",
      "source": [
        "Link_EU=[] # will contains all the links for each league\n",
        "Nations_EU=[] # will contain the names of Nations\n",
        "Translator_EU={} # will be used as transalator from the code of the league to the name of the nation (EX: [(GB1:England),...])\n",
        "Keys_of_Traslator=[] # each element will be used as the key of my Traslator\n",
        "link_League_EU=[] # will be used for connect each Keys to the link\n",
        "\n",
        "\n",
        "for html in list_HTMLForTransaltor_EU: # for each HTML in our list\n",
        "  soup_EU=bs(html.content,'lxml')\n",
        "  table_EU=soup_EU.find_all('table',{'class':'inline-table'}) # a raw piece of html from which i will extract the links\n",
        "  flag_EU= soup_EU.find_all(\"img\",{'class': 'flaggenrahmen'}) # a raw piece of html from which i will extract the Nations\n",
        "\n",
        "\n",
        "  for t in table_EU:\n",
        "    link=t.find('a').find_next('a').get('href') # find the link\n",
        "    Link_EU.append(link) # append in this list all the right links\n",
        "    Keys_of_Traslator.append(link.split(\"/\")[-1]) # append the key\n",
        "    link_League_EU.append([link.split(\"/\")[-1],link])\n",
        "\n",
        "  for nat in flag_EU:\n",
        "    Nations_EU.append(nat.get('title')) # append in this list all the right Nations\n",
        "\n",
        "  Couple_EU = list(zip(Nations_EU, Link_EU)) # just for the seek of completness i also save the couple Nation/Link\n",
        "\n",
        "  Translator_EU = {k: v for k, v in zip(Keys_of_Traslator, Nations_EU)} # The transaltor is finally here!\n",
        "  TOT_Pages_EU=len(list_HTMLForTransaltor_EU)"
      ],
      "metadata": {
        "id": "ZCS4GndcScvw"
      },
      "execution_count": null,
      "outputs": []
    },
    {
      "cell_type": "code",
      "source": [
        "with open(\"/content/drive/MyDrive/DDMCS/Translator_EU.json\", \"w\") as file:\n",
        "    json.dump(Translator_EU, file)"
      ],
      "metadata": {
        "id": "wBtJ06KwWxzp"
      },
      "execution_count": null,
      "outputs": []
    },
    {
      "cell_type": "code",
      "source": [
        "with open('/content/drive/MyDrive/DDMCS/Translator_EU.json', 'r') as file:\n",
        "    # Caricamento del contenuto del file in un dizionario\n",
        "    Translator_EU = json.load(file)"
      ],
      "metadata": {
        "id": "oTbQ3mzcW3iZ"
      },
      "execution_count": null,
      "outputs": []
    },
    {
      "cell_type": "code",
      "source": [
        "names_EU=createDict(link_League_EU,years_EU)"
      ],
      "metadata": {
        "colab": {
          "base_uri": "https://localhost:8080/"
        },
        "id": "8PWAlu-gUR7a",
        "outputId": "157d92c8-c7c6-40de-ffd5-5b1ae168fc08"
      },
      "execution_count": null,
      "outputs": [
        {
          "output_type": "stream",
          "name": "stderr",
          "text": [
            "100%|██████████| 125/125 [2:24:59<00:00, 69.60s/it]\n"
          ]
        }
      ]
    },
    {
      "cell_type": "code",
      "source": [
        "for i,key in enumerate(names_EU.keys()):\n",
        "  names_EU[key]=names_EU[key].tolist()"
      ],
      "metadata": {
        "id": "YwX1e0gRWnFH"
      },
      "execution_count": null,
      "outputs": []
    },
    {
      "cell_type": "code",
      "source": [
        "with open(\"/content/drive/MyDrive/DDMCS/dict_EU.json\", \"w\") as file:\n",
        "    json.dump(names_EU, file)"
      ],
      "metadata": {
        "id": "EzqZ5XKdWtzt"
      },
      "execution_count": null,
      "outputs": []
    },
    {
      "cell_type": "code",
      "source": [
        "with open('/content/drive/MyDrive/DDMCS/dict_EU.json', 'r') as file:\n",
        "    # Caricamento del contenuto del file in un dizionario\n",
        "    my_dict = json.load(file)"
      ],
      "metadata": {
        "id": "-XMe3itTWXfc"
      },
      "execution_count": null,
      "outputs": []
    },
    {
      "cell_type": "code",
      "source": [
        "my_dict"
      ],
      "metadata": {
        "id": "Rf0-FZ6vWbuh"
      },
      "execution_count": null,
      "outputs": []
    },
    {
      "cell_type": "markdown",
      "source": [
        "### EUROPA 2"
      ],
      "metadata": {
        "id": "5W13m3SMJnmK"
      }
    },
    {
      "cell_type": "code",
      "source": [
        "EU2=preparationForScraping(url_EU,6,12)"
      ],
      "metadata": {
        "id": "IqfLj_YrJrrd"
      },
      "execution_count": null,
      "outputs": []
    },
    {
      "cell_type": "code",
      "source": [
        "EU2"
      ],
      "metadata": {
        "id": "HxQFTF4KKRx9"
      },
      "execution_count": null,
      "outputs": []
    },
    {
      "cell_type": "code",
      "source": [
        "names_EU2=createDict(EU2, years_EU)"
      ],
      "metadata": {
        "colab": {
          "base_uri": "https://localhost:8080/"
        },
        "id": "GS2GlJ9DJr45",
        "outputId": "c40b8d47-2b6e-46c0-c206-484085e2983a"
      },
      "execution_count": null,
      "outputs": [
        {
          "output_type": "stream",
          "name": "stderr",
          "text": [
            "100%|██████████| 150/150 [2:00:14<00:00, 48.09s/it]\n"
          ]
        }
      ]
    },
    {
      "cell_type": "code",
      "source": [
        "for i,key in enumerate(names_EU2.keys()):\n",
        "  names_EU2[key]=names_EU2[key].tolist()"
      ],
      "metadata": {
        "id": "iLSTbPWEJr7g"
      },
      "execution_count": null,
      "outputs": []
    },
    {
      "cell_type": "code",
      "source": [
        "with open(\"/content/drive/MyDrive/DDMCS/dict_EU2.json\", \"w\") as file:\n",
        "    json.dump(names_EU2, file)"
      ],
      "metadata": {
        "id": "s0uxcd0aJr-W"
      },
      "execution_count": null,
      "outputs": []
    },
    {
      "cell_type": "code",
      "source": [
        "EU3=preparationForScraping(url_EU,13,19)\n",
        "EU3"
      ],
      "metadata": {
        "id": "XxxuT-iFLF8B"
      },
      "execution_count": null,
      "outputs": []
    },
    {
      "cell_type": "code",
      "source": [
        "names_EU3=createDict(EU3, years_EU)"
      ],
      "metadata": {
        "colab": {
          "base_uri": "https://localhost:8080/"
        },
        "id": "mPMjIhAKLPea",
        "outputId": "77051e01-f7ec-4413-f52c-c2232f0a9497"
      },
      "execution_count": null,
      "outputs": [
        {
          "output_type": "stream",
          "name": "stderr",
          "text": [
            "100%|██████████| 149/149 [1:00:08<00:00, 24.22s/it]\n"
          ]
        }
      ]
    },
    {
      "cell_type": "code",
      "source": [
        "for i,key in enumerate(names_EU3.keys()):\n",
        "  names_EU3[key]=names_EU3[key].tolist()"
      ],
      "metadata": {
        "id": "h0h9rsdvLSNE"
      },
      "execution_count": null,
      "outputs": []
    },
    {
      "cell_type": "code",
      "source": [
        "with open(\"/content/drive/MyDrive/DDMCS/dict_EU3.json\", \"w\") as file:\n",
        "    json.dump(names_EU3, file)"
      ],
      "metadata": {
        "id": "ktnMxaQfLVyj"
      },
      "execution_count": null,
      "outputs": []
    },
    {
      "cell_type": "code",
      "source": [
        "with open('/content/drive/MyDrive/DDMCS/dict_EU.json', 'r') as file:\n",
        "    # Caricamento del contenuto del file in un dizionario\n",
        "    my_dict = json.load(file)"
      ],
      "metadata": {
        "id": "FFdoGHC2zycx"
      },
      "execution_count": null,
      "outputs": []
    },
    {
      "cell_type": "code",
      "source": [
        "with open('/content/drive/MyDrive/DDMCS/dict_EU2.json', 'r') as file:\n",
        "    # Caricamento del contenuto del file in un dizionario\n",
        "    my_dict2 = json.load(file)"
      ],
      "metadata": {
        "id": "_b7CrMO-z4Hg"
      },
      "execution_count": null,
      "outputs": []
    },
    {
      "cell_type": "code",
      "source": [
        "with open('/content/drive/MyDrive/DDMCS/dict_EU3.json', 'r') as file:\n",
        "    # Caricamento del contenuto del file in un dizionario\n",
        "    my_dict3 = json.load(file)"
      ],
      "metadata": {
        "id": "iT1iId4rz4gi"
      },
      "execution_count": null,
      "outputs": []
    },
    {
      "cell_type": "code",
      "source": [
        "my_dict.update(my_dict2)\n",
        "my_dict.update(my_dict3)"
      ],
      "metadata": {
        "id": "eA49YcPbz_p5"
      },
      "execution_count": null,
      "outputs": []
    },
    {
      "cell_type": "code",
      "source": [
        "with open(\"/content/drive/MyDrive/DDMCS/dict_EUTOT.json\", \"w\") as file:\n",
        "    json.dump(my_dict, file)"
      ],
      "metadata": {
        "id": "Pa-9Wt6y0LeX"
      },
      "execution_count": null,
      "outputs": []
    },
    {
      "cell_type": "markdown",
      "source": [
        "## ASIA"
      ],
      "metadata": {
        "id": "StRcs__Rk2Ax"
      }
    },
    {
      "cell_type": "code",
      "source": [
        "url_ASIA = 'https://www.transfermarkt.com/wettbewerbe/asien?ajax=yw1&page='"
      ],
      "metadata": {
        "id": "HRsdcxiHk94Z"
      },
      "execution_count": null,
      "outputs": []
    },
    {
      "cell_type": "code",
      "source": [
        "List_pages_ASIA=[]\n",
        "for i in range(1,3): # I'M interested only in the top 2 pages (in that way i Have sored more or less all the top tier for each nation (at least for the bigger one))\n",
        "  List_pages_ASIA.append(url_ASIA + str(i))"
      ],
      "metadata": {
        "id": "X9mjhl7Ck94Z"
      },
      "execution_count": null,
      "outputs": []
    },
    {
      "cell_type": "code",
      "source": [
        "List_pages_ASIA"
      ],
      "metadata": {
        "colab": {
          "base_uri": "https://localhost:8080/"
        },
        "outputId": "c59eaf0e-c4dc-4d46-8cfc-74c33021aad5",
        "id": "UgSpIaWIk94a"
      },
      "execution_count": null,
      "outputs": [
        {
          "output_type": "execute_result",
          "data": {
            "text/plain": [
              "['https://www.transfermarkt.com/wettbewerbe/asien?ajax=yw1&page=1',\n",
              " 'https://www.transfermarkt.com/wettbewerbe/asien?ajax=yw1&page=2']"
            ]
          },
          "metadata": {},
          "execution_count": 312
        }
      ]
    },
    {
      "cell_type": "code",
      "source": [
        "years_ASIA = []\n",
        "for i in range(2000, 2014):\n",
        "    years_ASIA.append(i)"
      ],
      "metadata": {
        "id": "unvyUjF8k94a"
      },
      "execution_count": null,
      "outputs": []
    },
    {
      "cell_type": "code",
      "source": [
        "list_HTML_ASIA=[]\n",
        "for url in List_pages_ASIA:\n",
        "  html_ASIA = requests.get(url, headers = {'User-agent': 'Super Bot Pluto Zeronium AI'})\n",
        "  list_HTML_ASIA.append(html_ASIA) # a list of HTML"
      ],
      "metadata": {
        "id": "r8AqgKntk94a"
      },
      "execution_count": null,
      "outputs": []
    },
    {
      "cell_type": "code",
      "source": [
        "Link_ASIA=[] # will contains all the links for each league\n",
        "Nations_ASIA=[] # will contain the names of Nations\n",
        "Translator_ASIA={} # will be used as transalator from the code of the league to the name of the nation (EX: [(GB1:England),...])\n",
        "Keys_of_Traslator_ASIA=[] # each element will be used as the key of my Traslator\n",
        "link_League_ASIA=[] # will be used for connect each Keys to the link\n",
        "\n",
        "\n",
        "for html in list_HTML_ASIA: # for each HTML in our list\n",
        "  soup_ASIA=bs(html.content,'lxml')\n",
        "  table_ASIA=soup_ASIA.find_all('table',{'class':'inline-table'}) # a raw piece of html from which i will extract the links\n",
        "  flag_ASIA= soup_ASIA.find_all(\"img\",{'class': 'flaggenrahmen'}) # a raw piece of html from which i will extract the Nations\n",
        "\n",
        "\n",
        "  for t in table_ASIA:\n",
        "    link_=t.find('a').find_next('a').get('href') # find the link\n",
        "    Link_ASIA.append(link_) # append in this list all the right links\n",
        "    Keys_of_Traslator_ASIA.append(link_.split(\"/\")[-1]) # append the key\n",
        "    link_League_ASIA.append([link_.split(\"/\")[-1],link_])\n",
        "\n",
        "  for nat in flag_ASIA:\n",
        "    Nations_ASIA.append(nat.get('title')) # append in this list all the right Nations\n",
        "\n",
        "  Couple_ASIA = list(zip(Nations_ASIA, Link_ASIA)) # just for the seek of completness i also save the couple Nation/Link\n",
        "\n",
        "  Translator_ASIA= {k: v for k, v in zip(Keys_of_Traslator_ASIA, Nations_ASIA)} # The transaltor is finally here!"
      ],
      "metadata": {
        "id": "1KYK9TNak94a"
      },
      "execution_count": null,
      "outputs": []
    },
    {
      "cell_type": "code",
      "source": [
        "with open(\"/content/drive/MyDrive/DDMCS/Translator_ASIA.json\", \"w\") as file:\n",
        "    json.dump(Translator_ASIA, file)"
      ],
      "metadata": {
        "id": "FZxu-CP_k4Lq"
      },
      "execution_count": null,
      "outputs": []
    },
    {
      "cell_type": "code",
      "source": [
        "with open('/content/drive/MyDrive/DDMCS/Translator_ASIA.json', 'r') as file:\n",
        "    # Caricamento del contenuto del file in un dizionario\n",
        "    Translator_ASIA = json.load(file)"
      ],
      "metadata": {
        "id": "8yY_T4-ek4Om"
      },
      "execution_count": null,
      "outputs": []
    },
    {
      "cell_type": "code",
      "source": [
        "names_ASIA=createDict(link_League_ASIA,years_ASIA)"
      ],
      "metadata": {
        "colab": {
          "base_uri": "https://localhost:8080/"
        },
        "id": "0tIp5JA6k4SB",
        "outputId": "87ac8230-0ecd-4293-971b-5583d898c21f"
      },
      "execution_count": null,
      "outputs": [
        {
          "output_type": "stream",
          "name": "stderr",
          "text": [
            "100%|██████████| 50/50 [30:49<00:00, 37.00s/it]\n"
          ]
        }
      ]
    },
    {
      "cell_type": "code",
      "source": [
        "for i,key in enumerate(names_ASIA.keys()):\n",
        "  names_ASIA[key]=names_ASIA[key].tolist()"
      ],
      "metadata": {
        "id": "a4fC1ILkm0t7"
      },
      "execution_count": null,
      "outputs": []
    },
    {
      "cell_type": "code",
      "source": [
        "with open(\"/content/drive/MyDrive/DDMCS/dict_ASIA.json\", \"w\") as file:\n",
        "    json.dump(names_ASIA, file)"
      ],
      "metadata": {
        "id": "x70hQNSRm7iI"
      },
      "execution_count": null,
      "outputs": []
    },
    {
      "cell_type": "code",
      "source": [
        "with open('/content/drive/MyDrive/DDMCS/dict_ASIA.json', 'r') as file:\n",
        "    # Caricamento del contenuto del file in un dizionario\n",
        "    my_dict_ASIA = json.load(file)"
      ],
      "metadata": {
        "id": "GKGhfcxbm3Y6"
      },
      "execution_count": null,
      "outputs": []
    },
    {
      "cell_type": "code",
      "source": [
        "my_dict_ASIA"
      ],
      "metadata": {
        "id": "qQuSWq80nIoN"
      },
      "execution_count": null,
      "outputs": []
    },
    {
      "cell_type": "markdown",
      "source": [
        "## AFRICA"
      ],
      "metadata": {
        "id": "d3mwVRdsj40T"
      }
    },
    {
      "cell_type": "code",
      "source": [
        "url_AFrica = 'https://www.transfermarkt.it/wettbewerbe/afrika?ajax=yw1&page='"
      ],
      "metadata": {
        "id": "F7aU5ZlNj6xC"
      },
      "execution_count": null,
      "outputs": []
    },
    {
      "cell_type": "code",
      "source": [
        "List_pages_AFForTransaltor=[] # I Want a translator for all SA pages\n",
        "for i in range(1,2): \n",
        "  List_pages_AFForTransaltor.append(url_AFrica + str(i))"
      ],
      "metadata": {
        "id": "3Is0aMAAuUg6"
      },
      "execution_count": null,
      "outputs": []
    },
    {
      "cell_type": "code",
      "source": [
        "list_HTMLForTransaltor_AF=[]\n",
        "for url in List_pages_AFForTransaltor:\n",
        "  html_AF = requests.get(url, headers = {'User-agent': 'Super Bot Pluto Zeronium AI'})\n",
        "  list_HTMLForTransaltor_AF.append(html_AF) # a list of HTML"
      ],
      "metadata": {
        "id": "VUt6Liv3uUg6"
      },
      "execution_count": null,
      "outputs": []
    },
    {
      "cell_type": "code",
      "source": [
        "Link_AF=[] # will contains all the links for each league\n",
        "Nations_AF=[] # will contain the names of Nations\n",
        "Translator_AF={} # will be used as transalator from the code of the league to the name of the nation (EX: [(BRA1:Brazil),...])\n",
        "Keys_of_Traslator_AF=[] # each element will be used as the key of my Traslator\n",
        "link_League_AF=[] # will be used for connect each Keys to the link\n",
        "\n",
        "for html in  list_HTMLForTransaltor_AF: # for each HTML in our list\n",
        "  soup_AF=bs(html.content,'lxml')\n",
        "  table_AF=soup_AF.find_all('table',{'class':'inline-table'}) # a raw piece of html from which i will extract the links\n",
        "  flag_AF= soup_AF.find_all(\"img\",{'class': 'flaggenrahmen'}) # a raw piece of html from which i will extract the Nations\n",
        "\n",
        "  for t in table_AF:\n",
        "    link=t.find('a').find_next('a').get('href') # find the link\n",
        "    Link_AF.append(link) # append in this list all the right links\n",
        "    Keys_of_Traslator_AF.append(link.split(\"/\")[-1]) # append the key\n",
        "    link_League_AF.append([link.split(\"/\")[-1],link])\n",
        "\n",
        "\n",
        "  for nat in flag_AF:\n",
        "    Nations_AF.append(nat.get('title')) # append in this list all the right Nations\n",
        "\n",
        "Couple_AF = list(zip(Nations_AF, Link_AF)) # just for the seek of completness i also save the couple Nation/Link\n",
        "\n",
        "Translator_AF = {k: v for k, v in zip(Keys_of_Traslator_AF, Nations_AF)} # The transaltor is finally here!\n",
        "TOT_Pages_AF=len(list_HTMLForTransaltor_AF)\n"
      ],
      "metadata": {
        "id": "wnwxnV9yuUg6"
      },
      "execution_count": null,
      "outputs": []
    },
    {
      "cell_type": "code",
      "source": [
        "with open(\"/content/drive/MyDrive/DDMCS/Translator_AF.json\", \"w\") as file:\n",
        "    json.dump(Translator_AF, file)"
      ],
      "metadata": {
        "id": "IpkbyJFkuUg7"
      },
      "execution_count": null,
      "outputs": []
    },
    {
      "cell_type": "code",
      "source": [
        "Translator_AF"
      ],
      "metadata": {
        "colab": {
          "base_uri": "https://localhost:8080/"
        },
        "id": "scUuD08pvOnX",
        "outputId": "dc11e906-959b-462c-db36-8f585acf6b5f"
      },
      "execution_count": null,
      "outputs": [
        {
          "output_type": "execute_result",
          "data": {
            "text/plain": [
              "{'SFA1': 'Sudafrica',\n",
              " 'EGY1': 'Egitto',\n",
              " 'MAR1': 'Marocco',\n",
              " 'ALG1': 'Algeria',\n",
              " 'TUN1': 'Tunisia',\n",
              " 'GHPL': 'Ghana',\n",
              " 'NPFL': 'Nigeria',\n",
              " 'NEDC': 'Sudafrica',\n",
              " 'EGYP': 'Egitto',\n",
              " 'SFAL': 'Sudafrica',\n",
              " 'TUNM': 'Tunisia',\n",
              " 'TUPL': 'Tunisia'}"
            ]
          },
          "metadata": {},
          "execution_count": 378
        }
      ]
    },
    {
      "cell_type": "code",
      "source": [
        "outAfrica=preparationForScraping(url_AFrica,1,2)"
      ],
      "metadata": {
        "id": "IP0lrucmkb_3"
      },
      "execution_count": null,
      "outputs": []
    },
    {
      "cell_type": "code",
      "source": [
        "outAfrica"
      ],
      "metadata": {
        "colab": {
          "base_uri": "https://localhost:8080/"
        },
        "id": "hjWKTptnknES",
        "outputId": "6786ab9c-0b96-4e57-f29d-1103501a9fbb"
      },
      "execution_count": null,
      "outputs": [
        {
          "output_type": "execute_result",
          "data": {
            "text/plain": [
              "[['SFA1', '/dstv-premiership/startseite/wettbewerb/SFA1'],\n",
              " ['EGY1', '/egyptian-premier-league/startseite/wettbewerb/EGY1'],\n",
              " ['MAR1', '/botola-pro-inwi/startseite/wettbewerb/MAR1'],\n",
              " ['ALG1', '/ligue-professionnelle-1/startseite/wettbewerb/ALG1'],\n",
              " ['TUN1', '/ligue-professionnelle-1/startseite/wettbewerb/TUN1'],\n",
              " ['GHPL', '/ghana-premier-league/startseite/wettbewerb/GHPL'],\n",
              " ['NPFL', '/nigeria-professional-football-league/startseite/wettbewerb/NPFL'],\n",
              " ['NEDC', '/nedbank-cup/startseite/wettbewerb/NEDC'],\n",
              " ['EGYP', '/egypt-cup/startseite/wettbewerb/EGYP'],\n",
              " ['SFAL', '/mtn8/startseite/wettbewerb/SFAL'],\n",
              " ['TUNM', '/ligue-professionelle-1-playoff/startseite/wettbewerb/TUNM'],\n",
              " ['TUPL', '/ligue-professionelle-1-playout/startseite/wettbewerb/TUPL']]"
            ]
          },
          "metadata": {},
          "execution_count": 359
        }
      ]
    },
    {
      "cell_type": "code",
      "source": [
        "years_AFRICA = []\n",
        "for i in range(1990, 2021):\n",
        "    years_AFRICA.append(i)"
      ],
      "metadata": {
        "id": "tYVZte1sk4B3"
      },
      "execution_count": null,
      "outputs": []
    },
    {
      "cell_type": "code",
      "source": [
        "names_Africa=createDict(outAfrica, years_AFRICA)"
      ],
      "metadata": {
        "colab": {
          "base_uri": "https://localhost:8080/"
        },
        "id": "LD3VGw9hkuTo",
        "outputId": "289de96d-394b-4c73-e90c-cbc47a1526ac"
      },
      "execution_count": null,
      "outputs": [
        {
          "output_type": "stream",
          "name": "stderr",
          "text": [
            "100%|██████████| 12/12 [18:35<00:00, 92.93s/it]\n"
          ]
        }
      ]
    },
    {
      "cell_type": "code",
      "source": [
        "for i,key in enumerate(names_Africa.keys()):\n",
        "  names_Africa[key]=names_Africa[key].tolist()"
      ],
      "metadata": {
        "id": "xilUv30FlFhf"
      },
      "execution_count": null,
      "outputs": []
    },
    {
      "cell_type": "code",
      "source": [
        "with open(\"/content/drive/MyDrive/DDMCS/dict_Africa.json\", \"w\") as file:\n",
        "    json.dump(names_Africa, file)"
      ],
      "metadata": {
        "id": "1i1YxZGGlNod"
      },
      "execution_count": null,
      "outputs": []
    },
    {
      "cell_type": "code",
      "source": [
        "names_Africa"
      ],
      "metadata": {
        "id": "_Pf_tTl3tgHa"
      },
      "execution_count": null,
      "outputs": []
    },
    {
      "cell_type": "code",
      "source": [
        "with open('/content/drive/MyDrive/DDMCS/dict_Africa.json', 'r') as file:\n",
        "    # Caricamento del contenuto del file in un dizionario\n",
        "    my_dict_Africa = json.load(file)"
      ],
      "metadata": {
        "id": "P2rUQfsttmpN"
      },
      "execution_count": null,
      "outputs": []
    },
    {
      "cell_type": "markdown",
      "source": [
        "## Transalator for each Team from Long_Name TO Short_Name"
      ],
      "metadata": {
        "id": "VpOeHnKlDHsG"
      }
    },
    {
      "cell_type": "code",
      "source": [
        "url_EU = 'https://www.transfermarkt.com/wettbewerbe/europa?ajax=yw1&page='"
      ],
      "metadata": {
        "id": "BACYjQ8_QdqP"
      },
      "execution_count": null,
      "outputs": []
    },
    {
      "cell_type": "code",
      "source": [
        "years_For_Transaltion=[]\n",
        "for i in range(1992, 2022):\n",
        "    years_For_Transaltion.append(i)\n"
      ],
      "metadata": {
        "id": "Od4pQaS9j0gI"
      },
      "execution_count": null,
      "outputs": []
    },
    {
      "cell_type": "code",
      "source": [
        "years_For_Transaltion"
      ],
      "metadata": {
        "id": "Te-VriMiQE33"
      },
      "execution_count": null,
      "outputs": []
    },
    {
      "cell_type": "code",
      "source": [
        "link_For_Transalation=link_League_EU[0:10]"
      ],
      "metadata": {
        "id": "7cvmM5IxDQly"
      },
      "execution_count": null,
      "outputs": []
    },
    {
      "cell_type": "code",
      "source": [
        "link_For_Transalation # All the pieces that i will use during scraping"
      ],
      "metadata": {
        "colab": {
          "base_uri": "https://localhost:8080/"
        },
        "id": "SQ1xLQ9SRK3p",
        "outputId": "6d22c6a6-655f-46d9-e6ec-ca3822147a51"
      },
      "execution_count": null,
      "outputs": [
        {
          "output_type": "execute_result",
          "data": {
            "text/plain": [
              "[['GB1', '/premier-league/startseite/wettbewerb/GB1'],\n",
              " ['ES1', '/laliga/startseite/wettbewerb/ES1'],\n",
              " ['IT1', '/serie-a/startseite/wettbewerb/IT1'],\n",
              " ['L1', '/bundesliga/startseite/wettbewerb/L1'],\n",
              " ['FR1', '/ligue-1/startseite/wettbewerb/FR1'],\n",
              " ['PO1', '/liga-portugal/startseite/wettbewerb/PO1'],\n",
              " ['NL1', '/eredivisie/startseite/wettbewerb/NL1'],\n",
              " ['TR1', '/super-lig/startseite/wettbewerb/TR1'],\n",
              " ['BE1', '/jupiler-pro-league/startseite/wettbewerb/BE1'],\n",
              " ['RU1', '/premier-liga/startseite/wettbewerb/RU1']]"
            ]
          },
          "metadata": {},
          "execution_count": 18
        }
      ]
    },
    {
      "cell_type": "code",
      "source": [
        "def createUrlForYears(string,years):\n",
        "  \"\"\" Given a string and a vector of years, that function will create the right links that i will use to get the HTMLs\n",
        "      The string is \n",
        "  \"\"\"\n",
        "  list_url=[]\n",
        "  for i in years:\n",
        "    url2 = 'https://www.transfermarkt.com'+string+'/saison_id/'+str(i)\n",
        "    list_url.append(url2)\n",
        "  return(list_url)"
      ],
      "metadata": {
        "id": "TpGrRXZNpZxk"
      },
      "execution_count": null,
      "outputs": []
    },
    {
      "cell_type": "code",
      "source": [
        "  T_book=[]\n",
        "  for element in tqdm(link_For_Transalation):\n",
        "    code=element[0]\n",
        "    link=element[1]\n",
        "    book_url=createUrlForYears(link,years_For_Transaltion)\n",
        "    T_book.append(book_url)\n",
        "  new_lists = [[T_book[j][i] for j in range(len(T_book))] for i in range(len(T_book[0]))]\n",
        "  for block in new_lists:\n",
        "      "
      ],
      "metadata": {
        "colab": {
          "base_uri": "https://localhost:8080/"
        },
        "id": "Lvhnjr6fRlUE",
        "outputId": "4952a23a-f58d-43dd-e1f0-c8185bf7f15a"
      },
      "execution_count": null,
      "outputs": [
        {
          "output_type": "stream",
          "name": "stderr",
          "text": [
            "100%|██████████| 10/10 [00:00<00:00, 23198.58it/s]\n"
          ]
        }
      ]
    },
    {
      "cell_type": "code",
      "source": [
        "new_lists = [[T_book[j][i] for j in range(len(T_book))] for i in range(len(T_book[0]))]\n",
        "  "
      ],
      "metadata": {
        "id": "9bVg2LrdUJEJ"
      },
      "execution_count": null,
      "outputs": []
    },
    {
      "cell_type": "code",
      "source": [
        "new_lists"
      ],
      "metadata": {
        "colab": {
          "base_uri": "https://localhost:8080/"
        },
        "id": "5U-__FEgUYRK",
        "outputId": "1ddec531-30f6-4edd-8d53-5594e6700765"
      },
      "execution_count": null,
      "outputs": [
        {
          "output_type": "execute_result",
          "data": {
            "text/plain": [
              "[['https://www.transfermarkt.com/premier-league/startseite/wettbewerb/GB1/saison_id/1992',\n",
              "  'https://www.transfermarkt.com/laliga/startseite/wettbewerb/ES1/saison_id/1992',\n",
              "  'https://www.transfermarkt.com/serie-a/startseite/wettbewerb/IT1/saison_id/1992',\n",
              "  'https://www.transfermarkt.com/bundesliga/startseite/wettbewerb/L1/saison_id/1992',\n",
              "  'https://www.transfermarkt.com/ligue-1/startseite/wettbewerb/FR1/saison_id/1992',\n",
              "  'https://www.transfermarkt.com/liga-portugal/startseite/wettbewerb/PO1/saison_id/1992',\n",
              "  'https://www.transfermarkt.com/eredivisie/startseite/wettbewerb/NL1/saison_id/1992',\n",
              "  'https://www.transfermarkt.com/super-lig/startseite/wettbewerb/TR1/saison_id/1992',\n",
              "  'https://www.transfermarkt.com/jupiler-pro-league/startseite/wettbewerb/BE1/saison_id/1992',\n",
              "  'https://www.transfermarkt.com/premier-liga/startseite/wettbewerb/RU1/saison_id/1992'],\n",
              " ['https://www.transfermarkt.com/premier-league/startseite/wettbewerb/GB1/saison_id/1993',\n",
              "  'https://www.transfermarkt.com/laliga/startseite/wettbewerb/ES1/saison_id/1993',\n",
              "  'https://www.transfermarkt.com/serie-a/startseite/wettbewerb/IT1/saison_id/1993',\n",
              "  'https://www.transfermarkt.com/bundesliga/startseite/wettbewerb/L1/saison_id/1993',\n",
              "  'https://www.transfermarkt.com/ligue-1/startseite/wettbewerb/FR1/saison_id/1993',\n",
              "  'https://www.transfermarkt.com/liga-portugal/startseite/wettbewerb/PO1/saison_id/1993',\n",
              "  'https://www.transfermarkt.com/eredivisie/startseite/wettbewerb/NL1/saison_id/1993',\n",
              "  'https://www.transfermarkt.com/super-lig/startseite/wettbewerb/TR1/saison_id/1993',\n",
              "  'https://www.transfermarkt.com/jupiler-pro-league/startseite/wettbewerb/BE1/saison_id/1993',\n",
              "  'https://www.transfermarkt.com/premier-liga/startseite/wettbewerb/RU1/saison_id/1993'],\n",
              " ['https://www.transfermarkt.com/premier-league/startseite/wettbewerb/GB1/saison_id/1994',\n",
              "  'https://www.transfermarkt.com/laliga/startseite/wettbewerb/ES1/saison_id/1994',\n",
              "  'https://www.transfermarkt.com/serie-a/startseite/wettbewerb/IT1/saison_id/1994',\n",
              "  'https://www.transfermarkt.com/bundesliga/startseite/wettbewerb/L1/saison_id/1994',\n",
              "  'https://www.transfermarkt.com/ligue-1/startseite/wettbewerb/FR1/saison_id/1994',\n",
              "  'https://www.transfermarkt.com/liga-portugal/startseite/wettbewerb/PO1/saison_id/1994',\n",
              "  'https://www.transfermarkt.com/eredivisie/startseite/wettbewerb/NL1/saison_id/1994',\n",
              "  'https://www.transfermarkt.com/super-lig/startseite/wettbewerb/TR1/saison_id/1994',\n",
              "  'https://www.transfermarkt.com/jupiler-pro-league/startseite/wettbewerb/BE1/saison_id/1994',\n",
              "  'https://www.transfermarkt.com/premier-liga/startseite/wettbewerb/RU1/saison_id/1994'],\n",
              " ['https://www.transfermarkt.com/premier-league/startseite/wettbewerb/GB1/saison_id/1995',\n",
              "  'https://www.transfermarkt.com/laliga/startseite/wettbewerb/ES1/saison_id/1995',\n",
              "  'https://www.transfermarkt.com/serie-a/startseite/wettbewerb/IT1/saison_id/1995',\n",
              "  'https://www.transfermarkt.com/bundesliga/startseite/wettbewerb/L1/saison_id/1995',\n",
              "  'https://www.transfermarkt.com/ligue-1/startseite/wettbewerb/FR1/saison_id/1995',\n",
              "  'https://www.transfermarkt.com/liga-portugal/startseite/wettbewerb/PO1/saison_id/1995',\n",
              "  'https://www.transfermarkt.com/eredivisie/startseite/wettbewerb/NL1/saison_id/1995',\n",
              "  'https://www.transfermarkt.com/super-lig/startseite/wettbewerb/TR1/saison_id/1995',\n",
              "  'https://www.transfermarkt.com/jupiler-pro-league/startseite/wettbewerb/BE1/saison_id/1995',\n",
              "  'https://www.transfermarkt.com/premier-liga/startseite/wettbewerb/RU1/saison_id/1995'],\n",
              " ['https://www.transfermarkt.com/premier-league/startseite/wettbewerb/GB1/saison_id/1996',\n",
              "  'https://www.transfermarkt.com/laliga/startseite/wettbewerb/ES1/saison_id/1996',\n",
              "  'https://www.transfermarkt.com/serie-a/startseite/wettbewerb/IT1/saison_id/1996',\n",
              "  'https://www.transfermarkt.com/bundesliga/startseite/wettbewerb/L1/saison_id/1996',\n",
              "  'https://www.transfermarkt.com/ligue-1/startseite/wettbewerb/FR1/saison_id/1996',\n",
              "  'https://www.transfermarkt.com/liga-portugal/startseite/wettbewerb/PO1/saison_id/1996',\n",
              "  'https://www.transfermarkt.com/eredivisie/startseite/wettbewerb/NL1/saison_id/1996',\n",
              "  'https://www.transfermarkt.com/super-lig/startseite/wettbewerb/TR1/saison_id/1996',\n",
              "  'https://www.transfermarkt.com/jupiler-pro-league/startseite/wettbewerb/BE1/saison_id/1996',\n",
              "  'https://www.transfermarkt.com/premier-liga/startseite/wettbewerb/RU1/saison_id/1996'],\n",
              " ['https://www.transfermarkt.com/premier-league/startseite/wettbewerb/GB1/saison_id/1997',\n",
              "  'https://www.transfermarkt.com/laliga/startseite/wettbewerb/ES1/saison_id/1997',\n",
              "  'https://www.transfermarkt.com/serie-a/startseite/wettbewerb/IT1/saison_id/1997',\n",
              "  'https://www.transfermarkt.com/bundesliga/startseite/wettbewerb/L1/saison_id/1997',\n",
              "  'https://www.transfermarkt.com/ligue-1/startseite/wettbewerb/FR1/saison_id/1997',\n",
              "  'https://www.transfermarkt.com/liga-portugal/startseite/wettbewerb/PO1/saison_id/1997',\n",
              "  'https://www.transfermarkt.com/eredivisie/startseite/wettbewerb/NL1/saison_id/1997',\n",
              "  'https://www.transfermarkt.com/super-lig/startseite/wettbewerb/TR1/saison_id/1997',\n",
              "  'https://www.transfermarkt.com/jupiler-pro-league/startseite/wettbewerb/BE1/saison_id/1997',\n",
              "  'https://www.transfermarkt.com/premier-liga/startseite/wettbewerb/RU1/saison_id/1997'],\n",
              " ['https://www.transfermarkt.com/premier-league/startseite/wettbewerb/GB1/saison_id/1998',\n",
              "  'https://www.transfermarkt.com/laliga/startseite/wettbewerb/ES1/saison_id/1998',\n",
              "  'https://www.transfermarkt.com/serie-a/startseite/wettbewerb/IT1/saison_id/1998',\n",
              "  'https://www.transfermarkt.com/bundesliga/startseite/wettbewerb/L1/saison_id/1998',\n",
              "  'https://www.transfermarkt.com/ligue-1/startseite/wettbewerb/FR1/saison_id/1998',\n",
              "  'https://www.transfermarkt.com/liga-portugal/startseite/wettbewerb/PO1/saison_id/1998',\n",
              "  'https://www.transfermarkt.com/eredivisie/startseite/wettbewerb/NL1/saison_id/1998',\n",
              "  'https://www.transfermarkt.com/super-lig/startseite/wettbewerb/TR1/saison_id/1998',\n",
              "  'https://www.transfermarkt.com/jupiler-pro-league/startseite/wettbewerb/BE1/saison_id/1998',\n",
              "  'https://www.transfermarkt.com/premier-liga/startseite/wettbewerb/RU1/saison_id/1998'],\n",
              " ['https://www.transfermarkt.com/premier-league/startseite/wettbewerb/GB1/saison_id/1999',\n",
              "  'https://www.transfermarkt.com/laliga/startseite/wettbewerb/ES1/saison_id/1999',\n",
              "  'https://www.transfermarkt.com/serie-a/startseite/wettbewerb/IT1/saison_id/1999',\n",
              "  'https://www.transfermarkt.com/bundesliga/startseite/wettbewerb/L1/saison_id/1999',\n",
              "  'https://www.transfermarkt.com/ligue-1/startseite/wettbewerb/FR1/saison_id/1999',\n",
              "  'https://www.transfermarkt.com/liga-portugal/startseite/wettbewerb/PO1/saison_id/1999',\n",
              "  'https://www.transfermarkt.com/eredivisie/startseite/wettbewerb/NL1/saison_id/1999',\n",
              "  'https://www.transfermarkt.com/super-lig/startseite/wettbewerb/TR1/saison_id/1999',\n",
              "  'https://www.transfermarkt.com/jupiler-pro-league/startseite/wettbewerb/BE1/saison_id/1999',\n",
              "  'https://www.transfermarkt.com/premier-liga/startseite/wettbewerb/RU1/saison_id/1999'],\n",
              " ['https://www.transfermarkt.com/premier-league/startseite/wettbewerb/GB1/saison_id/2000',\n",
              "  'https://www.transfermarkt.com/laliga/startseite/wettbewerb/ES1/saison_id/2000',\n",
              "  'https://www.transfermarkt.com/serie-a/startseite/wettbewerb/IT1/saison_id/2000',\n",
              "  'https://www.transfermarkt.com/bundesliga/startseite/wettbewerb/L1/saison_id/2000',\n",
              "  'https://www.transfermarkt.com/ligue-1/startseite/wettbewerb/FR1/saison_id/2000',\n",
              "  'https://www.transfermarkt.com/liga-portugal/startseite/wettbewerb/PO1/saison_id/2000',\n",
              "  'https://www.transfermarkt.com/eredivisie/startseite/wettbewerb/NL1/saison_id/2000',\n",
              "  'https://www.transfermarkt.com/super-lig/startseite/wettbewerb/TR1/saison_id/2000',\n",
              "  'https://www.transfermarkt.com/jupiler-pro-league/startseite/wettbewerb/BE1/saison_id/2000',\n",
              "  'https://www.transfermarkt.com/premier-liga/startseite/wettbewerb/RU1/saison_id/2000'],\n",
              " ['https://www.transfermarkt.com/premier-league/startseite/wettbewerb/GB1/saison_id/2001',\n",
              "  'https://www.transfermarkt.com/laliga/startseite/wettbewerb/ES1/saison_id/2001',\n",
              "  'https://www.transfermarkt.com/serie-a/startseite/wettbewerb/IT1/saison_id/2001',\n",
              "  'https://www.transfermarkt.com/bundesliga/startseite/wettbewerb/L1/saison_id/2001',\n",
              "  'https://www.transfermarkt.com/ligue-1/startseite/wettbewerb/FR1/saison_id/2001',\n",
              "  'https://www.transfermarkt.com/liga-portugal/startseite/wettbewerb/PO1/saison_id/2001',\n",
              "  'https://www.transfermarkt.com/eredivisie/startseite/wettbewerb/NL1/saison_id/2001',\n",
              "  'https://www.transfermarkt.com/super-lig/startseite/wettbewerb/TR1/saison_id/2001',\n",
              "  'https://www.transfermarkt.com/jupiler-pro-league/startseite/wettbewerb/BE1/saison_id/2001',\n",
              "  'https://www.transfermarkt.com/premier-liga/startseite/wettbewerb/RU1/saison_id/2001'],\n",
              " ['https://www.transfermarkt.com/premier-league/startseite/wettbewerb/GB1/saison_id/2002',\n",
              "  'https://www.transfermarkt.com/laliga/startseite/wettbewerb/ES1/saison_id/2002',\n",
              "  'https://www.transfermarkt.com/serie-a/startseite/wettbewerb/IT1/saison_id/2002',\n",
              "  'https://www.transfermarkt.com/bundesliga/startseite/wettbewerb/L1/saison_id/2002',\n",
              "  'https://www.transfermarkt.com/ligue-1/startseite/wettbewerb/FR1/saison_id/2002',\n",
              "  'https://www.transfermarkt.com/liga-portugal/startseite/wettbewerb/PO1/saison_id/2002',\n",
              "  'https://www.transfermarkt.com/eredivisie/startseite/wettbewerb/NL1/saison_id/2002',\n",
              "  'https://www.transfermarkt.com/super-lig/startseite/wettbewerb/TR1/saison_id/2002',\n",
              "  'https://www.transfermarkt.com/jupiler-pro-league/startseite/wettbewerb/BE1/saison_id/2002',\n",
              "  'https://www.transfermarkt.com/premier-liga/startseite/wettbewerb/RU1/saison_id/2002'],\n",
              " ['https://www.transfermarkt.com/premier-league/startseite/wettbewerb/GB1/saison_id/2003',\n",
              "  'https://www.transfermarkt.com/laliga/startseite/wettbewerb/ES1/saison_id/2003',\n",
              "  'https://www.transfermarkt.com/serie-a/startseite/wettbewerb/IT1/saison_id/2003',\n",
              "  'https://www.transfermarkt.com/bundesliga/startseite/wettbewerb/L1/saison_id/2003',\n",
              "  'https://www.transfermarkt.com/ligue-1/startseite/wettbewerb/FR1/saison_id/2003',\n",
              "  'https://www.transfermarkt.com/liga-portugal/startseite/wettbewerb/PO1/saison_id/2003',\n",
              "  'https://www.transfermarkt.com/eredivisie/startseite/wettbewerb/NL1/saison_id/2003',\n",
              "  'https://www.transfermarkt.com/super-lig/startseite/wettbewerb/TR1/saison_id/2003',\n",
              "  'https://www.transfermarkt.com/jupiler-pro-league/startseite/wettbewerb/BE1/saison_id/2003',\n",
              "  'https://www.transfermarkt.com/premier-liga/startseite/wettbewerb/RU1/saison_id/2003'],\n",
              " ['https://www.transfermarkt.com/premier-league/startseite/wettbewerb/GB1/saison_id/2004',\n",
              "  'https://www.transfermarkt.com/laliga/startseite/wettbewerb/ES1/saison_id/2004',\n",
              "  'https://www.transfermarkt.com/serie-a/startseite/wettbewerb/IT1/saison_id/2004',\n",
              "  'https://www.transfermarkt.com/bundesliga/startseite/wettbewerb/L1/saison_id/2004',\n",
              "  'https://www.transfermarkt.com/ligue-1/startseite/wettbewerb/FR1/saison_id/2004',\n",
              "  'https://www.transfermarkt.com/liga-portugal/startseite/wettbewerb/PO1/saison_id/2004',\n",
              "  'https://www.transfermarkt.com/eredivisie/startseite/wettbewerb/NL1/saison_id/2004',\n",
              "  'https://www.transfermarkt.com/super-lig/startseite/wettbewerb/TR1/saison_id/2004',\n",
              "  'https://www.transfermarkt.com/jupiler-pro-league/startseite/wettbewerb/BE1/saison_id/2004',\n",
              "  'https://www.transfermarkt.com/premier-liga/startseite/wettbewerb/RU1/saison_id/2004'],\n",
              " ['https://www.transfermarkt.com/premier-league/startseite/wettbewerb/GB1/saison_id/2005',\n",
              "  'https://www.transfermarkt.com/laliga/startseite/wettbewerb/ES1/saison_id/2005',\n",
              "  'https://www.transfermarkt.com/serie-a/startseite/wettbewerb/IT1/saison_id/2005',\n",
              "  'https://www.transfermarkt.com/bundesliga/startseite/wettbewerb/L1/saison_id/2005',\n",
              "  'https://www.transfermarkt.com/ligue-1/startseite/wettbewerb/FR1/saison_id/2005',\n",
              "  'https://www.transfermarkt.com/liga-portugal/startseite/wettbewerb/PO1/saison_id/2005',\n",
              "  'https://www.transfermarkt.com/eredivisie/startseite/wettbewerb/NL1/saison_id/2005',\n",
              "  'https://www.transfermarkt.com/super-lig/startseite/wettbewerb/TR1/saison_id/2005',\n",
              "  'https://www.transfermarkt.com/jupiler-pro-league/startseite/wettbewerb/BE1/saison_id/2005',\n",
              "  'https://www.transfermarkt.com/premier-liga/startseite/wettbewerb/RU1/saison_id/2005'],\n",
              " ['https://www.transfermarkt.com/premier-league/startseite/wettbewerb/GB1/saison_id/2006',\n",
              "  'https://www.transfermarkt.com/laliga/startseite/wettbewerb/ES1/saison_id/2006',\n",
              "  'https://www.transfermarkt.com/serie-a/startseite/wettbewerb/IT1/saison_id/2006',\n",
              "  'https://www.transfermarkt.com/bundesliga/startseite/wettbewerb/L1/saison_id/2006',\n",
              "  'https://www.transfermarkt.com/ligue-1/startseite/wettbewerb/FR1/saison_id/2006',\n",
              "  'https://www.transfermarkt.com/liga-portugal/startseite/wettbewerb/PO1/saison_id/2006',\n",
              "  'https://www.transfermarkt.com/eredivisie/startseite/wettbewerb/NL1/saison_id/2006',\n",
              "  'https://www.transfermarkt.com/super-lig/startseite/wettbewerb/TR1/saison_id/2006',\n",
              "  'https://www.transfermarkt.com/jupiler-pro-league/startseite/wettbewerb/BE1/saison_id/2006',\n",
              "  'https://www.transfermarkt.com/premier-liga/startseite/wettbewerb/RU1/saison_id/2006'],\n",
              " ['https://www.transfermarkt.com/premier-league/startseite/wettbewerb/GB1/saison_id/2007',\n",
              "  'https://www.transfermarkt.com/laliga/startseite/wettbewerb/ES1/saison_id/2007',\n",
              "  'https://www.transfermarkt.com/serie-a/startseite/wettbewerb/IT1/saison_id/2007',\n",
              "  'https://www.transfermarkt.com/bundesliga/startseite/wettbewerb/L1/saison_id/2007',\n",
              "  'https://www.transfermarkt.com/ligue-1/startseite/wettbewerb/FR1/saison_id/2007',\n",
              "  'https://www.transfermarkt.com/liga-portugal/startseite/wettbewerb/PO1/saison_id/2007',\n",
              "  'https://www.transfermarkt.com/eredivisie/startseite/wettbewerb/NL1/saison_id/2007',\n",
              "  'https://www.transfermarkt.com/super-lig/startseite/wettbewerb/TR1/saison_id/2007',\n",
              "  'https://www.transfermarkt.com/jupiler-pro-league/startseite/wettbewerb/BE1/saison_id/2007',\n",
              "  'https://www.transfermarkt.com/premier-liga/startseite/wettbewerb/RU1/saison_id/2007'],\n",
              " ['https://www.transfermarkt.com/premier-league/startseite/wettbewerb/GB1/saison_id/2008',\n",
              "  'https://www.transfermarkt.com/laliga/startseite/wettbewerb/ES1/saison_id/2008',\n",
              "  'https://www.transfermarkt.com/serie-a/startseite/wettbewerb/IT1/saison_id/2008',\n",
              "  'https://www.transfermarkt.com/bundesliga/startseite/wettbewerb/L1/saison_id/2008',\n",
              "  'https://www.transfermarkt.com/ligue-1/startseite/wettbewerb/FR1/saison_id/2008',\n",
              "  'https://www.transfermarkt.com/liga-portugal/startseite/wettbewerb/PO1/saison_id/2008',\n",
              "  'https://www.transfermarkt.com/eredivisie/startseite/wettbewerb/NL1/saison_id/2008',\n",
              "  'https://www.transfermarkt.com/super-lig/startseite/wettbewerb/TR1/saison_id/2008',\n",
              "  'https://www.transfermarkt.com/jupiler-pro-league/startseite/wettbewerb/BE1/saison_id/2008',\n",
              "  'https://www.transfermarkt.com/premier-liga/startseite/wettbewerb/RU1/saison_id/2008'],\n",
              " ['https://www.transfermarkt.com/premier-league/startseite/wettbewerb/GB1/saison_id/2009',\n",
              "  'https://www.transfermarkt.com/laliga/startseite/wettbewerb/ES1/saison_id/2009',\n",
              "  'https://www.transfermarkt.com/serie-a/startseite/wettbewerb/IT1/saison_id/2009',\n",
              "  'https://www.transfermarkt.com/bundesliga/startseite/wettbewerb/L1/saison_id/2009',\n",
              "  'https://www.transfermarkt.com/ligue-1/startseite/wettbewerb/FR1/saison_id/2009',\n",
              "  'https://www.transfermarkt.com/liga-portugal/startseite/wettbewerb/PO1/saison_id/2009',\n",
              "  'https://www.transfermarkt.com/eredivisie/startseite/wettbewerb/NL1/saison_id/2009',\n",
              "  'https://www.transfermarkt.com/super-lig/startseite/wettbewerb/TR1/saison_id/2009',\n",
              "  'https://www.transfermarkt.com/jupiler-pro-league/startseite/wettbewerb/BE1/saison_id/2009',\n",
              "  'https://www.transfermarkt.com/premier-liga/startseite/wettbewerb/RU1/saison_id/2009'],\n",
              " ['https://www.transfermarkt.com/premier-league/startseite/wettbewerb/GB1/saison_id/2010',\n",
              "  'https://www.transfermarkt.com/laliga/startseite/wettbewerb/ES1/saison_id/2010',\n",
              "  'https://www.transfermarkt.com/serie-a/startseite/wettbewerb/IT1/saison_id/2010',\n",
              "  'https://www.transfermarkt.com/bundesliga/startseite/wettbewerb/L1/saison_id/2010',\n",
              "  'https://www.transfermarkt.com/ligue-1/startseite/wettbewerb/FR1/saison_id/2010',\n",
              "  'https://www.transfermarkt.com/liga-portugal/startseite/wettbewerb/PO1/saison_id/2010',\n",
              "  'https://www.transfermarkt.com/eredivisie/startseite/wettbewerb/NL1/saison_id/2010',\n",
              "  'https://www.transfermarkt.com/super-lig/startseite/wettbewerb/TR1/saison_id/2010',\n",
              "  'https://www.transfermarkt.com/jupiler-pro-league/startseite/wettbewerb/BE1/saison_id/2010',\n",
              "  'https://www.transfermarkt.com/premier-liga/startseite/wettbewerb/RU1/saison_id/2010'],\n",
              " ['https://www.transfermarkt.com/premier-league/startseite/wettbewerb/GB1/saison_id/2011',\n",
              "  'https://www.transfermarkt.com/laliga/startseite/wettbewerb/ES1/saison_id/2011',\n",
              "  'https://www.transfermarkt.com/serie-a/startseite/wettbewerb/IT1/saison_id/2011',\n",
              "  'https://www.transfermarkt.com/bundesliga/startseite/wettbewerb/L1/saison_id/2011',\n",
              "  'https://www.transfermarkt.com/ligue-1/startseite/wettbewerb/FR1/saison_id/2011',\n",
              "  'https://www.transfermarkt.com/liga-portugal/startseite/wettbewerb/PO1/saison_id/2011',\n",
              "  'https://www.transfermarkt.com/eredivisie/startseite/wettbewerb/NL1/saison_id/2011',\n",
              "  'https://www.transfermarkt.com/super-lig/startseite/wettbewerb/TR1/saison_id/2011',\n",
              "  'https://www.transfermarkt.com/jupiler-pro-league/startseite/wettbewerb/BE1/saison_id/2011',\n",
              "  'https://www.transfermarkt.com/premier-liga/startseite/wettbewerb/RU1/saison_id/2011'],\n",
              " ['https://www.transfermarkt.com/premier-league/startseite/wettbewerb/GB1/saison_id/2012',\n",
              "  'https://www.transfermarkt.com/laliga/startseite/wettbewerb/ES1/saison_id/2012',\n",
              "  'https://www.transfermarkt.com/serie-a/startseite/wettbewerb/IT1/saison_id/2012',\n",
              "  'https://www.transfermarkt.com/bundesliga/startseite/wettbewerb/L1/saison_id/2012',\n",
              "  'https://www.transfermarkt.com/ligue-1/startseite/wettbewerb/FR1/saison_id/2012',\n",
              "  'https://www.transfermarkt.com/liga-portugal/startseite/wettbewerb/PO1/saison_id/2012',\n",
              "  'https://www.transfermarkt.com/eredivisie/startseite/wettbewerb/NL1/saison_id/2012',\n",
              "  'https://www.transfermarkt.com/super-lig/startseite/wettbewerb/TR1/saison_id/2012',\n",
              "  'https://www.transfermarkt.com/jupiler-pro-league/startseite/wettbewerb/BE1/saison_id/2012',\n",
              "  'https://www.transfermarkt.com/premier-liga/startseite/wettbewerb/RU1/saison_id/2012'],\n",
              " ['https://www.transfermarkt.com/premier-league/startseite/wettbewerb/GB1/saison_id/2013',\n",
              "  'https://www.transfermarkt.com/laliga/startseite/wettbewerb/ES1/saison_id/2013',\n",
              "  'https://www.transfermarkt.com/serie-a/startseite/wettbewerb/IT1/saison_id/2013',\n",
              "  'https://www.transfermarkt.com/bundesliga/startseite/wettbewerb/L1/saison_id/2013',\n",
              "  'https://www.transfermarkt.com/ligue-1/startseite/wettbewerb/FR1/saison_id/2013',\n",
              "  'https://www.transfermarkt.com/liga-portugal/startseite/wettbewerb/PO1/saison_id/2013',\n",
              "  'https://www.transfermarkt.com/eredivisie/startseite/wettbewerb/NL1/saison_id/2013',\n",
              "  'https://www.transfermarkt.com/super-lig/startseite/wettbewerb/TR1/saison_id/2013',\n",
              "  'https://www.transfermarkt.com/jupiler-pro-league/startseite/wettbewerb/BE1/saison_id/2013',\n",
              "  'https://www.transfermarkt.com/premier-liga/startseite/wettbewerb/RU1/saison_id/2013'],\n",
              " ['https://www.transfermarkt.com/premier-league/startseite/wettbewerb/GB1/saison_id/2014',\n",
              "  'https://www.transfermarkt.com/laliga/startseite/wettbewerb/ES1/saison_id/2014',\n",
              "  'https://www.transfermarkt.com/serie-a/startseite/wettbewerb/IT1/saison_id/2014',\n",
              "  'https://www.transfermarkt.com/bundesliga/startseite/wettbewerb/L1/saison_id/2014',\n",
              "  'https://www.transfermarkt.com/ligue-1/startseite/wettbewerb/FR1/saison_id/2014',\n",
              "  'https://www.transfermarkt.com/liga-portugal/startseite/wettbewerb/PO1/saison_id/2014',\n",
              "  'https://www.transfermarkt.com/eredivisie/startseite/wettbewerb/NL1/saison_id/2014',\n",
              "  'https://www.transfermarkt.com/super-lig/startseite/wettbewerb/TR1/saison_id/2014',\n",
              "  'https://www.transfermarkt.com/jupiler-pro-league/startseite/wettbewerb/BE1/saison_id/2014',\n",
              "  'https://www.transfermarkt.com/premier-liga/startseite/wettbewerb/RU1/saison_id/2014'],\n",
              " ['https://www.transfermarkt.com/premier-league/startseite/wettbewerb/GB1/saison_id/2015',\n",
              "  'https://www.transfermarkt.com/laliga/startseite/wettbewerb/ES1/saison_id/2015',\n",
              "  'https://www.transfermarkt.com/serie-a/startseite/wettbewerb/IT1/saison_id/2015',\n",
              "  'https://www.transfermarkt.com/bundesliga/startseite/wettbewerb/L1/saison_id/2015',\n",
              "  'https://www.transfermarkt.com/ligue-1/startseite/wettbewerb/FR1/saison_id/2015',\n",
              "  'https://www.transfermarkt.com/liga-portugal/startseite/wettbewerb/PO1/saison_id/2015',\n",
              "  'https://www.transfermarkt.com/eredivisie/startseite/wettbewerb/NL1/saison_id/2015',\n",
              "  'https://www.transfermarkt.com/super-lig/startseite/wettbewerb/TR1/saison_id/2015',\n",
              "  'https://www.transfermarkt.com/jupiler-pro-league/startseite/wettbewerb/BE1/saison_id/2015',\n",
              "  'https://www.transfermarkt.com/premier-liga/startseite/wettbewerb/RU1/saison_id/2015'],\n",
              " ['https://www.transfermarkt.com/premier-league/startseite/wettbewerb/GB1/saison_id/2016',\n",
              "  'https://www.transfermarkt.com/laliga/startseite/wettbewerb/ES1/saison_id/2016',\n",
              "  'https://www.transfermarkt.com/serie-a/startseite/wettbewerb/IT1/saison_id/2016',\n",
              "  'https://www.transfermarkt.com/bundesliga/startseite/wettbewerb/L1/saison_id/2016',\n",
              "  'https://www.transfermarkt.com/ligue-1/startseite/wettbewerb/FR1/saison_id/2016',\n",
              "  'https://www.transfermarkt.com/liga-portugal/startseite/wettbewerb/PO1/saison_id/2016',\n",
              "  'https://www.transfermarkt.com/eredivisie/startseite/wettbewerb/NL1/saison_id/2016',\n",
              "  'https://www.transfermarkt.com/super-lig/startseite/wettbewerb/TR1/saison_id/2016',\n",
              "  'https://www.transfermarkt.com/jupiler-pro-league/startseite/wettbewerb/BE1/saison_id/2016',\n",
              "  'https://www.transfermarkt.com/premier-liga/startseite/wettbewerb/RU1/saison_id/2016'],\n",
              " ['https://www.transfermarkt.com/premier-league/startseite/wettbewerb/GB1/saison_id/2017',\n",
              "  'https://www.transfermarkt.com/laliga/startseite/wettbewerb/ES1/saison_id/2017',\n",
              "  'https://www.transfermarkt.com/serie-a/startseite/wettbewerb/IT1/saison_id/2017',\n",
              "  'https://www.transfermarkt.com/bundesliga/startseite/wettbewerb/L1/saison_id/2017',\n",
              "  'https://www.transfermarkt.com/ligue-1/startseite/wettbewerb/FR1/saison_id/2017',\n",
              "  'https://www.transfermarkt.com/liga-portugal/startseite/wettbewerb/PO1/saison_id/2017',\n",
              "  'https://www.transfermarkt.com/eredivisie/startseite/wettbewerb/NL1/saison_id/2017',\n",
              "  'https://www.transfermarkt.com/super-lig/startseite/wettbewerb/TR1/saison_id/2017',\n",
              "  'https://www.transfermarkt.com/jupiler-pro-league/startseite/wettbewerb/BE1/saison_id/2017',\n",
              "  'https://www.transfermarkt.com/premier-liga/startseite/wettbewerb/RU1/saison_id/2017'],\n",
              " ['https://www.transfermarkt.com/premier-league/startseite/wettbewerb/GB1/saison_id/2018',\n",
              "  'https://www.transfermarkt.com/laliga/startseite/wettbewerb/ES1/saison_id/2018',\n",
              "  'https://www.transfermarkt.com/serie-a/startseite/wettbewerb/IT1/saison_id/2018',\n",
              "  'https://www.transfermarkt.com/bundesliga/startseite/wettbewerb/L1/saison_id/2018',\n",
              "  'https://www.transfermarkt.com/ligue-1/startseite/wettbewerb/FR1/saison_id/2018',\n",
              "  'https://www.transfermarkt.com/liga-portugal/startseite/wettbewerb/PO1/saison_id/2018',\n",
              "  'https://www.transfermarkt.com/eredivisie/startseite/wettbewerb/NL1/saison_id/2018',\n",
              "  'https://www.transfermarkt.com/super-lig/startseite/wettbewerb/TR1/saison_id/2018',\n",
              "  'https://www.transfermarkt.com/jupiler-pro-league/startseite/wettbewerb/BE1/saison_id/2018',\n",
              "  'https://www.transfermarkt.com/premier-liga/startseite/wettbewerb/RU1/saison_id/2018'],\n",
              " ['https://www.transfermarkt.com/premier-league/startseite/wettbewerb/GB1/saison_id/2019',\n",
              "  'https://www.transfermarkt.com/laliga/startseite/wettbewerb/ES1/saison_id/2019',\n",
              "  'https://www.transfermarkt.com/serie-a/startseite/wettbewerb/IT1/saison_id/2019',\n",
              "  'https://www.transfermarkt.com/bundesliga/startseite/wettbewerb/L1/saison_id/2019',\n",
              "  'https://www.transfermarkt.com/ligue-1/startseite/wettbewerb/FR1/saison_id/2019',\n",
              "  'https://www.transfermarkt.com/liga-portugal/startseite/wettbewerb/PO1/saison_id/2019',\n",
              "  'https://www.transfermarkt.com/eredivisie/startseite/wettbewerb/NL1/saison_id/2019',\n",
              "  'https://www.transfermarkt.com/super-lig/startseite/wettbewerb/TR1/saison_id/2019',\n",
              "  'https://www.transfermarkt.com/jupiler-pro-league/startseite/wettbewerb/BE1/saison_id/2019',\n",
              "  'https://www.transfermarkt.com/premier-liga/startseite/wettbewerb/RU1/saison_id/2019'],\n",
              " ['https://www.transfermarkt.com/premier-league/startseite/wettbewerb/GB1/saison_id/2020',\n",
              "  'https://www.transfermarkt.com/laliga/startseite/wettbewerb/ES1/saison_id/2020',\n",
              "  'https://www.transfermarkt.com/serie-a/startseite/wettbewerb/IT1/saison_id/2020',\n",
              "  'https://www.transfermarkt.com/bundesliga/startseite/wettbewerb/L1/saison_id/2020',\n",
              "  'https://www.transfermarkt.com/ligue-1/startseite/wettbewerb/FR1/saison_id/2020',\n",
              "  'https://www.transfermarkt.com/liga-portugal/startseite/wettbewerb/PO1/saison_id/2020',\n",
              "  'https://www.transfermarkt.com/eredivisie/startseite/wettbewerb/NL1/saison_id/2020',\n",
              "  'https://www.transfermarkt.com/super-lig/startseite/wettbewerb/TR1/saison_id/2020',\n",
              "  'https://www.transfermarkt.com/jupiler-pro-league/startseite/wettbewerb/BE1/saison_id/2020',\n",
              "  'https://www.transfermarkt.com/premier-liga/startseite/wettbewerb/RU1/saison_id/2020'],\n",
              " ['https://www.transfermarkt.com/premier-league/startseite/wettbewerb/GB1/saison_id/2021',\n",
              "  'https://www.transfermarkt.com/laliga/startseite/wettbewerb/ES1/saison_id/2021',\n",
              "  'https://www.transfermarkt.com/serie-a/startseite/wettbewerb/IT1/saison_id/2021',\n",
              "  'https://www.transfermarkt.com/bundesliga/startseite/wettbewerb/L1/saison_id/2021',\n",
              "  'https://www.transfermarkt.com/ligue-1/startseite/wettbewerb/FR1/saison_id/2021',\n",
              "  'https://www.transfermarkt.com/liga-portugal/startseite/wettbewerb/PO1/saison_id/2021',\n",
              "  'https://www.transfermarkt.com/eredivisie/startseite/wettbewerb/NL1/saison_id/2021',\n",
              "  'https://www.transfermarkt.com/super-lig/startseite/wettbewerb/TR1/saison_id/2021',\n",
              "  'https://www.transfermarkt.com/jupiler-pro-league/startseite/wettbewerb/BE1/saison_id/2021',\n",
              "  'https://www.transfermarkt.com/premier-liga/startseite/wettbewerb/RU1/saison_id/2021']]"
            ]
          },
          "metadata": {},
          "execution_count": 28
        }
      ]
    },
    {
      "cell_type": "code",
      "source": [
        "def getNamesLongShort(url_list):\n",
        "  \"\"\" Given a list of URLs for a league for different years, that function will output \n",
        "      all the names of the teams that have been at least 1 time in that league\n",
        "  \"\"\"\n",
        "  names_list=[]\n",
        "  long_names_list=[]\n",
        "  Translator_Europe={}\n",
        "\n",
        "  # taking the season \n",
        "  first=url_list[0]\n",
        "  season_ = first.split('/')[-1]\n",
        "\n",
        "\n",
        "  for url in url_list:\n",
        "    # Request for connection\n",
        "    html = requests.get(url, headers = {'User-agent': 'Super Bot Pluto Zeronium AI'})\n",
        "    soup=bs(html.content,'lxml')\n",
        "    Check=soup.find('div', {'id': 'spieltagsbox'}) # it has the role to check if the element is empty or not\n",
        "\n",
        "    if Check is not None:\n",
        "     names = [span.find('a').text for span in Check.find_all('span', {'class': 'vereinsname'})]\n",
        "\n",
        "     for n in names:\n",
        "       names_list.append(n) # append all the names for\n",
        "\n",
        "     for long_name in Check.find_all('span', {'class': 'vereinsname'}):\n",
        "       long_names_list.append(long_name.find('a').get('title'))  \n",
        "\n",
        "    else: # otherwise zero\n",
        "      names_list.append(0) \n",
        "      long_names_list.append(0)\n",
        "    # devo tropvare il modo di accoppiare in dizionario i nomi lunghi e corti\n",
        "  for element in range(0,len(names_list)-1):\n",
        "    Translator_Europe[names_list[element]]=long_names_list[element]\n",
        "\n",
        "\n",
        "  final_names=np.unique(names_list) # compute the unque elements\n",
        "  return Translator_Europe, season_"
      ],
      "metadata": {
        "id": "Ydg46vpIEZte"
      },
      "execution_count": null,
      "outputs": []
    },
    {
      "cell_type": "code",
      "source": [
        "def createDictForTranslation(code_link,years):\n",
        "  T_book=[] # create a list\n",
        "  for element in tqdm(code_link): # for each element split in code of league and link\n",
        "    code=element[0] \n",
        "    link=element[1]\n",
        "    book_url=createUrlForYears(link,years) # create a list of link for each year for each league\n",
        "    T_book.append(book_url) # append all in that list\n",
        "  new_lists = [[T_book[j][i] for j in range(len(T_book))] for i in range(len(T_book[0]))] # reshape the list, each element in that list refers to the same years\n",
        "\n",
        "  # for each block of links\n",
        "  for block in tqdm(new_lists):\n",
        "    teams={} # create a dict\n",
        "    TLS, season = getNamesLongShort(block)\n",
        "    teams.update(TLS) #update the dict\n",
        "    string='/content/drive/MyDrive/DDMCS/Long_Short_Translators/'+ season +'.json' # create the path for storing the dictionary\n",
        "    with open(string, \"w\") as file:\n",
        "      json.dump(teams, file) # store the dictionary\n",
        "    del teams # delete the dictionary to avoid overlapping\n",
        "\n",
        "  return(teams) "
      ],
      "metadata": {
        "id": "JcUZjIqCCA3A"
      },
      "execution_count": null,
      "outputs": []
    },
    {
      "cell_type": "code",
      "source": [
        "Long_Short_Names=createDictForTranslation(link_For_Transalation,years_For_Transaltion)"
      ],
      "metadata": {
        "id": "P3tLrHXHD2SJ"
      },
      "execution_count": null,
      "outputs": []
    },
    {
      "cell_type": "code",
      "source": [
        "Long_Short_Names"
      ],
      "metadata": {
        "id": "_a9GYcoywuPd"
      },
      "execution_count": null,
      "outputs": []
    },
    {
      "cell_type": "code",
      "source": [
        "with open(\"/content/drive/MyDrive/DDMCS/Translator_Long_Short_Names.json\", \"w\") as file:\n",
        "    json.dump(Long_Short_Names, file)"
      ],
      "metadata": {
        "id": "ZnfOdPINxUFD"
      },
      "execution_count": null,
      "outputs": []
    },
    {
      "cell_type": "code",
      "source": [
        "with open('/content/drive/MyDrive/DDMCS/Translator_Long_Short_Names.json', 'r') as file:\n",
        "    # Caricamento del contenuto del file in un dizionario\n",
        "    Translator_LS = json.load(file)"
      ],
      "metadata": {
        "id": "V_-Rz9Fa6pLA"
      },
      "execution_count": null,
      "outputs": []
    },
    {
      "cell_type": "markdown",
      "source": [
        "## META-Translators"
      ],
      "metadata": {
        "id": "I_k34qx_w64J"
      }
    },
    {
      "cell_type": "code",
      "source": [
        "with open('/content/drive/MyDrive/DDMCS/Translator_EU.json', 'r') as file:\n",
        "    # Caricamento del contenuto del file in un dizionario\n",
        "    Translator_EU = json.load(file)"
      ],
      "metadata": {
        "id": "3MLjTxqaQiv7"
      },
      "execution_count": null,
      "outputs": []
    },
    {
      "cell_type": "code",
      "source": [
        "with open('/content/drive/MyDrive/DDMCS/Translator_ASIA.json', 'r') as file:\n",
        "    # Caricamento del contenuto del file in un dizionario\n",
        "    Translator_ASIA = json.load(file)"
      ],
      "metadata": {
        "id": "oGO0JMXVQyVy"
      },
      "execution_count": null,
      "outputs": []
    },
    {
      "cell_type": "code",
      "source": [
        "with open('/content/drive/MyDrive/DDMCS/Translator_SA.json', 'r') as file:\n",
        "    # Caricamento del contenuto del file in un dizionario\n",
        "    Translator_AS = json.load(file)"
      ],
      "metadata": {
        "id": "iN7Gveosvd-y"
      },
      "execution_count": null,
      "outputs": []
    },
    {
      "cell_type": "code",
      "source": [
        "with open('/content/drive/MyDrive/DDMCS/Translator_AF.json', 'r') as file:\n",
        "    # Caricamento del contenuto del file in un dizionario\n",
        "    Translator_AF = json.load(file)"
      ],
      "metadata": {
        "id": "kn2-cSKcvaPf"
      },
      "execution_count": null,
      "outputs": []
    },
    {
      "cell_type": "markdown",
      "source": [
        "### Africa"
      ],
      "metadata": {
        "id": "i1hZyKM7xpbp"
      }
    },
    {
      "cell_type": "code",
      "source": [
        "with open('/content/drive/MyDrive/DDMCS/Translator_AF.json', 'r') as file:\n",
        "    # Caricamento del contenuto del file in un dizionario\n",
        "    Translator_AF = json.load(file)\n",
        "\n",
        "for key in Translator_AF:\n",
        "    Translator_AF[key] = \"Africa\"\n",
        "\n",
        "# Create the Meta-Translator\n",
        "with open('/content/drive/MyDrive/DDMCS/MetaTranslator_AF.json', 'w') as file:\n",
        "    # Caricamento del contenuto del file in un dizionario\n",
        "    json.dump(Translator_AF, file)   \n",
        "\n",
        "    "
      ],
      "metadata": {
        "id": "lnOy1qACw6Wl"
      },
      "execution_count": null,
      "outputs": []
    },
    {
      "cell_type": "markdown",
      "source": [
        "### America"
      ],
      "metadata": {
        "id": "NEnUqLLOxrHM"
      }
    },
    {
      "cell_type": "code",
      "source": [
        "with open('/content/drive/MyDrive/DDMCS/Translator_SA.json', 'r') as file:\n",
        "    # Caricamento del contenuto del file in un dizionario\n",
        "    Translator_AS = json.load(file)\n",
        "\n",
        "for key in Translator_AS:\n",
        "  if Translator_AS[key] == 'United States' or Translator_AS[key] == 'Canada' or Translator_AS[key] == 'Mexico':\n",
        "    Translator_AS[key] = 'North America'\n",
        "  else:\n",
        "    Translator_AS[key] = 'South America'\n",
        "\n",
        "\n",
        "# Create the Meta-Translator\n",
        "with open('/content/drive/MyDrive/DDMCS/MetaTranslator_SA.json', 'w') as file:\n",
        "    # Caricamento del contenuto del file in un dizionario\n",
        "    json.dump(Translator_AS, file) "
      ],
      "metadata": {
        "id": "-rDUeZWBxxSJ"
      },
      "execution_count": null,
      "outputs": []
    },
    {
      "cell_type": "markdown",
      "source": [
        "### Asia"
      ],
      "metadata": {
        "id": "KNGwkwTS2oVH"
      }
    },
    {
      "cell_type": "code",
      "source": [
        "with open('/content/drive/MyDrive/DDMCS/Translator_ASIA.json', 'r') as file:\n",
        "    # Caricamento del contenuto del file in un dizionario\n",
        "    Translator_ASIA = json.load(file)\n",
        "\n",
        "\n",
        "for key in Translator_ASIA:\n",
        "    Translator_ASIA[key] = \"Asia\"\n",
        "\n",
        "# Create the Meta-Translator\n",
        "with open('/content/drive/MyDrive/DDMCS/MetaTranslator_ASIA.json', 'w') as file:\n",
        "    # Caricamento del contenuto del file in un dizionario\n",
        "    json.dump(Translator_ASIA, file) "
      ],
      "metadata": {
        "id": "JuENujkC2qWw"
      },
      "execution_count": null,
      "outputs": []
    },
    {
      "cell_type": "markdown",
      "source": [
        "### Europa"
      ],
      "metadata": {
        "id": "fVslRmCt3uVy"
      }
    },
    {
      "cell_type": "code",
      "source": [
        "with open('/content/drive/MyDrive/DDMCS/Translator_EU.json', 'r') as file:\n",
        "    # Caricamento del contenuto del file in un dizionario\n",
        "    Translator_EU = json.load(file)\n",
        "\n",
        "\n",
        "Top_Nations = [v for k, v in list(Translator_EU.items())[1:10]]\n",
        "North_EU=['Sweden','Norway','Denmark', 'Finland','Iceland','Faroe Islands']\n",
        "Uk=['Wales','Scotland','Ireland','Northern Ireland', 'England']\n",
        "Central_EU=['Austria','Poland','Switzerland', 'Hungary','Czech Republic','Serbia','Croatia','Bulgaria',\n",
        "            'Bosnia-Herzegovina', 'Slovenia', 'Slovakia','Albania','Montenegro','Armenia','Luxembourg','Moldova','Kosovo','Gibraltar','Andorra','Greece']\n",
        "\n",
        "\n",
        "for key in Translator_EU:\n",
        "  if Translator_EU[key] not in Top_Nations:\n",
        "    if Translator_EU[key] in North_EU: \n",
        "      Translator_EU[key] = 'North_EU'\n",
        "    elif Translator_EU[key] in Uk: \n",
        "      Translator_EU[key] = 'Uk'\n",
        "    elif  Translator_EU[key] == 'San Marino' or Translator_EU[key] == 'Malta': \n",
        "      Translator_EU[key] = 'Italy'\n",
        "    elif  Translator_EU[key] in Central_EU:\n",
        "      Translator_EU[key] = 'Central_EU'\n",
        "    else:\n",
        "      Translator_EU[key] = 'Est_EU' \n",
        "\n",
        "\n",
        "\n",
        "\n",
        "# Create the Meta-Translator\n",
        "with open('/content/drive/MyDrive/DDMCS/MetaTranslator_EU.json', 'w') as file:\n",
        "    # Caricamento del contenuto del file in un dizionario\n",
        "    json.dump(Translator_EU, file)                   "
      ],
      "metadata": {
        "id": "M-uh6VQf3tyd"
      },
      "execution_count": null,
      "outputs": []
    },
    {
      "cell_type": "markdown",
      "source": [
        "### TOT"
      ],
      "metadata": {
        "id": "tqVYD-ewAfs4"
      }
    },
    {
      "cell_type": "code",
      "source": [
        "META_Translator=Translator_EU\n",
        "META_Translator.update(Translator_ASIA)\n",
        "META_Translator.update(Translator_AS)\n",
        "META_Translator.update(Translator_AF)\n",
        "\n",
        "\n",
        "# Create the FINAL Meta-Translator\n",
        "with open('/content/drive/MyDrive/DDMCS/MetaTranslatorV2.json', 'w') as file:\n",
        "    # Caricamento del contenuto del file in un dizionario\n",
        "    json.dump(META_Translator, file)    "
      ],
      "metadata": {
        "id": "enqvAEfOAhnj"
      },
      "execution_count": null,
      "outputs": []
    },
    {
      "cell_type": "code",
      "source": [
        "META_Translator['GB1']"
      ],
      "metadata": {
        "colab": {
          "base_uri": "https://localhost:8080/",
          "height": 35
        },
        "id": "4g6IfD-eCpiF",
        "outputId": "b803c9e4-28a6-44e6-da46-f57ac45887ba"
      },
      "execution_count": null,
      "outputs": [
        {
          "output_type": "execute_result",
          "data": {
            "text/plain": [
              "'Uk'"
            ],
            "application/vnd.google.colaboratory.intrinsic+json": {
              "type": "string"
            }
          },
          "metadata": {},
          "execution_count": 18
        }
      ]
    },
    {
      "cell_type": "markdown",
      "source": [
        "# TEST"
      ],
      "metadata": {
        "id": "Zw_UkUEqkr0Z"
      }
    },
    {
      "cell_type": "code",
      "source": [
        "with open('/content/drive/MyDrive/DDMCS/Translator_Long_Short_Names.json', 'r') as file:\n",
        "    # Caricamento del contenuto del file in un dizionario\n",
        "    Translator_LS = json.load(file)\n",
        "\n",
        "bayern = Translator_LS.pop('B. Leverkusen')\n",
        "Translator_LS['Bay. Leverkusen'] = bayern\n",
        "Translator_LS['Stade Rennais']= 'Stade Rennais FC'    "
      ],
      "metadata": {
        "id": "e4h-swvyQY_S"
      },
      "execution_count": null,
      "outputs": []
    },
    {
      "cell_type": "code",
      "source": [
        "with open('/content/drive/MyDrive/DDMCS/MetaTranslator.json', 'r') as file:\n",
        "    # Caricamento del contenuto del file in un dizionario\n",
        "   META_Translator = json.load(file)"
      ],
      "metadata": {
        "id": "fcT6sXTjBK4V"
      },
      "execution_count": null,
      "outputs": []
    },
    {
      "cell_type": "code",
      "source": [
        "with open('/content/drive/MyDrive/DDMCS/dict_EUTOT.json', 'r') as file:\n",
        "    # Caricamento del contenuto del file in un dizionario\n",
        "    my_dict = json.load(file)"
      ],
      "metadata": {
        "id": "FjPtjgRUQbKA"
      },
      "execution_count": null,
      "outputs": []
    },
    {
      "cell_type": "code",
      "source": [
        "with open('/content/drive/MyDrive/DDMCS/dict_AmericheTOT.json', 'r') as file:\n",
        "    # Caricamento del contenuto del file in un dizionario\n",
        "    my_dict_SATOT = json.load(file)"
      ],
      "metadata": {
        "id": "WtHWr2AjQbPS"
      },
      "execution_count": null,
      "outputs": []
    },
    {
      "cell_type": "code",
      "source": [
        "with open('/content/drive/MyDrive/DDMCS/dict_ASIA.json', 'r') as file:\n",
        "    # Caricamento del contenuto del file in un dizionario\n",
        "    my_dict_ASIA = json.load(file)"
      ],
      "metadata": {
        "id": "CzhjjWQ6QbVX"
      },
      "execution_count": null,
      "outputs": []
    },
    {
      "cell_type": "code",
      "source": [
        "with open('/content/drive/MyDrive/DDMCS/dict_Africa.json', 'r') as file:\n",
        "    # Caricamento del contenuto del file in un dizionario\n",
        "    my_dict_Africa = json.load(file)"
      ],
      "metadata": {
        "id": "fJExwiz0t0mj"
      },
      "execution_count": null,
      "outputs": []
    },
    {
      "cell_type": "code",
      "source": [
        "with open('/content/drive/MyDrive/DDMCS/dict_FineTuning.json', 'r') as file:\n",
        "    # Caricamento del contenuto del file in un dizionario\n",
        "    dict_FineTuning = json.load(file)"
      ],
      "metadata": {
        "id": "WTkH3FXiW1Wu"
      },
      "execution_count": null,
      "outputs": []
    },
    {
      "cell_type": "code",
      "source": [
        "def FineTuning(value):\n",
        "  Right_Names = df['club_name'].isin(df['club_involved_name']) # all the name that already match\n",
        "  LS_DONTCHANGE=np.unique(df[Right_Names]['club_name'].tolist()).tolist() # store all the unique names that already match  \n",
        "\n",
        "  for key, items in dict_FineTuning.items():\n",
        "    if value in key:\n",
        "      if value in LS_DONTCHANGE:\n",
        "        return value\n",
        "      else: \n",
        "        return items \n",
        "  return value      \n",
        "  "
      ],
      "metadata": {
        "id": "Ky7o-zEgXNEn"
      },
      "execution_count": null,
      "outputs": []
    },
    {
      "cell_type": "code",
      "source": [
        "def TransaltionLS(value):\n",
        "  Right_Names = df['club_name'].isin(df['club_involved_name']) # all the name that already match\n",
        "  LS_DONTCHANGE=np.unique(df[Right_Names]['club_name'].tolist()).tolist() # store all the unique names that already match\n",
        "  \n",
        "  for key, items in Translator_LS.items():\n",
        "    if value in items:\n",
        "      if value in LS_DONTCHANGE:\n",
        "        return value\n",
        "      else: \n",
        "        return key  \n",
        "  return value"
      ],
      "metadata": {
        "id": "S-5G-XaxVPC_"
      },
      "execution_count": null,
      "outputs": []
    },
    {
      "cell_type": "code",
      "source": [
        "def get_key_Final(value):\n",
        "    for key, items in my_dict.items():\n",
        "        if value in items:\n",
        "            return key\n",
        "    return value"
      ],
      "metadata": {
        "id": "nLvBt5-VaotV"
      },
      "execution_count": null,
      "outputs": []
    },
    {
      "cell_type": "code",
      "source": [
        "def get_key_Nations(value):\n",
        "    for key, items in META_Translator.items():\n",
        "        if value in key:\n",
        "            return items\n",
        "    return value    "
      ],
      "metadata": {
        "id": "sOj90E7DCK43"
      },
      "execution_count": null,
      "outputs": []
    },
    {
      "cell_type": "code",
      "source": [
        "def apply_Trasformations(df):\n",
        "  #df.loc[:,'club_involved_name'] = df['club_involved_name'].map(FineTuning) # change only the right names (when we talk about the U23 and so on)\n",
        "  df.loc[:,'club_name'] = df['club_name'].map(TransaltionLS) # change only the right names\n",
        "  mask = ~df['club_involved_name'].isin(df['club_name']) # select only the name that are not in the first column\n",
        "  df_copy=df[mask]\n",
        "\n",
        "  # Stacking all my dictionary togheter \n",
        "  my_dict.update(my_dict_SATOT)\n",
        "  my_dict.update(my_dict_ASIA)\n",
        "  my_dict.update(my_dict_Africa)\n",
        "\n",
        "  df_copy_2 = df_copy.copy()\n",
        "  df_copy_2.loc[:,'club_involved_name'] = df_copy['club_involved_name'].map(get_key_Final) # Translate the name of the less important club into the name of their leagues\n",
        "  df_copy_2.loc[:,'club_involved_name'] = df_copy_2['club_involved_name'].map(get_key_Nations) # Translate each leagues with META-Translator (ex: 'BE1' To 'Belgium')\n",
        "\n",
        "\n",
        "############### TRY TO RESCUE SOME NAMES AGAIN ######################################################################\n",
        "\n",
        "\n",
        "  # Apply the dictionary in which I try another time to rescue the Team Name (when a club have the name U23 and so on)\n",
        "  df_copy_2.loc[:,'club_involved_name'] = df_copy_2['club_involved_name'].map(FineTuning)\n",
        "\n",
        "  mask2 = ~df_copy_2['club_involved_name'].isin(df_copy_2['club_name']) # select only the name that are not in the first column\n",
        "  df_copy3=df_copy_2[mask2]\n",
        "\n",
        "  df_copy_4 = df_copy3.copy()\n",
        "  df_copy_4.loc[:,'club_involved_name'] = df_copy3['club_involved_name'].map(get_key_Final) # Translate the name of the less important club into the name of their leagues\n",
        "  df_copy_4.loc[:,'club_involved_name'] = df_copy_4['club_involved_name'].map(get_key_Nations) # Translate each leagues with META-Translator (ex: 'BE1' To 'Belgium')\n",
        "\n",
        "  # Re-connect mask 2\n",
        "  df_copy_2[df_copy_2.index.isin(df_copy_4.index)] = df_copy_4\n",
        "\n",
        "###################################################################################################################\n",
        "\n",
        "  # Re-connect mask \n",
        "  df[df.index.isin(df_copy_2.index)] = df_copy_2\n",
        "  return df, df_copy_2\n"
      ],
      "metadata": {
        "id": "tkAP1BE9LN22"
      },
      "execution_count": null,
      "outputs": []
    },
    {
      "cell_type": "code",
      "source": [
        "# test\n",
        "df = pd.read_csv('/content/drive/MyDrive/DDMCS/2015_2016.csv', delimiter=';', encoding= 'unicode_escape')\n"
      ],
      "metadata": {
        "id": "kslxdARVXU12"
      },
      "execution_count": null,
      "outputs": []
    },
    {
      "cell_type": "code",
      "source": [
        "df_copy, scarti =apply_Trasformations(df)"
      ],
      "metadata": {
        "id": "UWSTsEwKV10z"
      },
      "execution_count": null,
      "outputs": []
    },
    {
      "cell_type": "code",
      "source": [
        "mask = ~df_copy['club_involved_name'].isin(df_copy['club_name'])\n",
        "df_ss=df[mask]"
      ],
      "metadata": {
        "id": "3fx5x3C_gFIU"
      },
      "execution_count": null,
      "outputs": []
    },
    {
      "cell_type": "code",
      "source": [
        "df_ss"
      ],
      "metadata": {
        "colab": {
          "base_uri": "https://localhost:8080/",
          "height": 424
        },
        "id": "8uN-QpL6ix73",
        "outputId": "ea16ff13-17a5-403a-b3c5-dcde3411ed78"
      },
      "execution_count": null,
      "outputs": [
        {
          "output_type": "execute_result",
          "data": {
            "text/plain": [
              "      Unnamed: 0              club_name        player_name  age  \\\n",
              "7              8               Juventus   Alberto Brignoli   23   \n",
              "10            11               Juventus       Andrés Tello   18   \n",
              "11            12               Juventus         Mame Thiam   22   \n",
              "12            13               Juventus     Joyce Anacoura   20   \n",
              "14            15               Juventus  Gregorio Luperini   21   \n",
              "...          ...                    ...                ...  ...   \n",
              "1060        1061  SC Cambuur-Leeuwarden     Kevin van Veen   24   \n",
              "1063        1064           NEC Nijmegen        Dario Dumic   23   \n",
              "1065        1066                Roda JC      Georgi Zhukov   21   \n",
              "1066        1067                Roda JC    Mike van Duinen   24   \n",
              "1067        1068                Roda JC       Martin Milec   24   \n",
              "\n",
              "              position club_involved_name            fee transfer_movement  \\\n",
              "7           Goalkeeper              Italy         2.35m                in   \n",
              "10    Central Midfield      South America         1.60m                in   \n",
              "11         Left Winger              Italy         1.40m                in   \n",
              "12          Goalkeeper              Italy        750Th.                in   \n",
              "14    Central Midfield              Italy         99Th.                in   \n",
              "...                ...                ...            ...               ...   \n",
              "1060    Centre-Forward             Est_EU  loan transfer                in   \n",
              "1063       Centre-Back           North_EU  loan transfer                in   \n",
              "1065  Central Midfield           Standard  loan transfer                in   \n",
              "1066    Centre-Forward            Germany  loan transfer                in   \n",
              "1067        Right-Back            Belgium  loan transfer                in   \n",
              "\n",
              "     transfer_period fee_cleaned league_name  year     season  \n",
              "7             Summer        2,35     Serie A  2015  2015/2016  \n",
              "10            Summer         1,6     Serie A  2015  2015/2016  \n",
              "11            Summer         1,4     Serie A  2015  2015/2016  \n",
              "12            Summer        0,75     Serie A  2015  2015/2016  \n",
              "14            Summer       0,099     Serie A  2015  2015/2016  \n",
              "...              ...         ...         ...   ...        ...  \n",
              "1060          Winter         NaN  Eredivisie  2015  2015/2016  \n",
              "1063          Winter         NaN  Eredivisie  2015  2015/2016  \n",
              "1065          Winter         NaN  Eredivisie  2015  2015/2016  \n",
              "1066          Winter         NaN  Eredivisie  2015  2015/2016  \n",
              "1067          Winter         NaN  Eredivisie  2015  2015/2016  \n",
              "\n",
              "[464 rows x 13 columns]"
            ],
            "text/html": [
              "\n",
              "  <div id=\"df-708f2dcf-927e-485c-95af-26ee0555e02d\">\n",
              "    <div class=\"colab-df-container\">\n",
              "      <div>\n",
              "<style scoped>\n",
              "    .dataframe tbody tr th:only-of-type {\n",
              "        vertical-align: middle;\n",
              "    }\n",
              "\n",
              "    .dataframe tbody tr th {\n",
              "        vertical-align: top;\n",
              "    }\n",
              "\n",
              "    .dataframe thead th {\n",
              "        text-align: right;\n",
              "    }\n",
              "</style>\n",
              "<table border=\"1\" class=\"dataframe\">\n",
              "  <thead>\n",
              "    <tr style=\"text-align: right;\">\n",
              "      <th></th>\n",
              "      <th>Unnamed: 0</th>\n",
              "      <th>club_name</th>\n",
              "      <th>player_name</th>\n",
              "      <th>age</th>\n",
              "      <th>position</th>\n",
              "      <th>club_involved_name</th>\n",
              "      <th>fee</th>\n",
              "      <th>transfer_movement</th>\n",
              "      <th>transfer_period</th>\n",
              "      <th>fee_cleaned</th>\n",
              "      <th>league_name</th>\n",
              "      <th>year</th>\n",
              "      <th>season</th>\n",
              "    </tr>\n",
              "  </thead>\n",
              "  <tbody>\n",
              "    <tr>\n",
              "      <th>7</th>\n",
              "      <td>8</td>\n",
              "      <td>Juventus</td>\n",
              "      <td>Alberto Brignoli</td>\n",
              "      <td>23</td>\n",
              "      <td>Goalkeeper</td>\n",
              "      <td>Italy</td>\n",
              "      <td>2.35m</td>\n",
              "      <td>in</td>\n",
              "      <td>Summer</td>\n",
              "      <td>2,35</td>\n",
              "      <td>Serie A</td>\n",
              "      <td>2015</td>\n",
              "      <td>2015/2016</td>\n",
              "    </tr>\n",
              "    <tr>\n",
              "      <th>10</th>\n",
              "      <td>11</td>\n",
              "      <td>Juventus</td>\n",
              "      <td>Andrés Tello</td>\n",
              "      <td>18</td>\n",
              "      <td>Central Midfield</td>\n",
              "      <td>South America</td>\n",
              "      <td>1.60m</td>\n",
              "      <td>in</td>\n",
              "      <td>Summer</td>\n",
              "      <td>1,6</td>\n",
              "      <td>Serie A</td>\n",
              "      <td>2015</td>\n",
              "      <td>2015/2016</td>\n",
              "    </tr>\n",
              "    <tr>\n",
              "      <th>11</th>\n",
              "      <td>12</td>\n",
              "      <td>Juventus</td>\n",
              "      <td>Mame Thiam</td>\n",
              "      <td>22</td>\n",
              "      <td>Left Winger</td>\n",
              "      <td>Italy</td>\n",
              "      <td>1.40m</td>\n",
              "      <td>in</td>\n",
              "      <td>Summer</td>\n",
              "      <td>1,4</td>\n",
              "      <td>Serie A</td>\n",
              "      <td>2015</td>\n",
              "      <td>2015/2016</td>\n",
              "    </tr>\n",
              "    <tr>\n",
              "      <th>12</th>\n",
              "      <td>13</td>\n",
              "      <td>Juventus</td>\n",
              "      <td>Joyce Anacoura</td>\n",
              "      <td>20</td>\n",
              "      <td>Goalkeeper</td>\n",
              "      <td>Italy</td>\n",
              "      <td>750Th.</td>\n",
              "      <td>in</td>\n",
              "      <td>Summer</td>\n",
              "      <td>0,75</td>\n",
              "      <td>Serie A</td>\n",
              "      <td>2015</td>\n",
              "      <td>2015/2016</td>\n",
              "    </tr>\n",
              "    <tr>\n",
              "      <th>14</th>\n",
              "      <td>15</td>\n",
              "      <td>Juventus</td>\n",
              "      <td>Gregorio Luperini</td>\n",
              "      <td>21</td>\n",
              "      <td>Central Midfield</td>\n",
              "      <td>Italy</td>\n",
              "      <td>99Th.</td>\n",
              "      <td>in</td>\n",
              "      <td>Summer</td>\n",
              "      <td>0,099</td>\n",
              "      <td>Serie A</td>\n",
              "      <td>2015</td>\n",
              "      <td>2015/2016</td>\n",
              "    </tr>\n",
              "    <tr>\n",
              "      <th>...</th>\n",
              "      <td>...</td>\n",
              "      <td>...</td>\n",
              "      <td>...</td>\n",
              "      <td>...</td>\n",
              "      <td>...</td>\n",
              "      <td>...</td>\n",
              "      <td>...</td>\n",
              "      <td>...</td>\n",
              "      <td>...</td>\n",
              "      <td>...</td>\n",
              "      <td>...</td>\n",
              "      <td>...</td>\n",
              "      <td>...</td>\n",
              "    </tr>\n",
              "    <tr>\n",
              "      <th>1060</th>\n",
              "      <td>1061</td>\n",
              "      <td>SC Cambuur-Leeuwarden</td>\n",
              "      <td>Kevin van Veen</td>\n",
              "      <td>24</td>\n",
              "      <td>Centre-Forward</td>\n",
              "      <td>Est_EU</td>\n",
              "      <td>loan transfer</td>\n",
              "      <td>in</td>\n",
              "      <td>Winter</td>\n",
              "      <td>NaN</td>\n",
              "      <td>Eredivisie</td>\n",
              "      <td>2015</td>\n",
              "      <td>2015/2016</td>\n",
              "    </tr>\n",
              "    <tr>\n",
              "      <th>1063</th>\n",
              "      <td>1064</td>\n",
              "      <td>NEC Nijmegen</td>\n",
              "      <td>Dario Dumic</td>\n",
              "      <td>23</td>\n",
              "      <td>Centre-Back</td>\n",
              "      <td>North_EU</td>\n",
              "      <td>loan transfer</td>\n",
              "      <td>in</td>\n",
              "      <td>Winter</td>\n",
              "      <td>NaN</td>\n",
              "      <td>Eredivisie</td>\n",
              "      <td>2015</td>\n",
              "      <td>2015/2016</td>\n",
              "    </tr>\n",
              "    <tr>\n",
              "      <th>1065</th>\n",
              "      <td>1066</td>\n",
              "      <td>Roda JC</td>\n",
              "      <td>Georgi Zhukov</td>\n",
              "      <td>21</td>\n",
              "      <td>Central Midfield</td>\n",
              "      <td>Standard</td>\n",
              "      <td>loan transfer</td>\n",
              "      <td>in</td>\n",
              "      <td>Winter</td>\n",
              "      <td>NaN</td>\n",
              "      <td>Eredivisie</td>\n",
              "      <td>2015</td>\n",
              "      <td>2015/2016</td>\n",
              "    </tr>\n",
              "    <tr>\n",
              "      <th>1066</th>\n",
              "      <td>1067</td>\n",
              "      <td>Roda JC</td>\n",
              "      <td>Mike van Duinen</td>\n",
              "      <td>24</td>\n",
              "      <td>Centre-Forward</td>\n",
              "      <td>Germany</td>\n",
              "      <td>loan transfer</td>\n",
              "      <td>in</td>\n",
              "      <td>Winter</td>\n",
              "      <td>NaN</td>\n",
              "      <td>Eredivisie</td>\n",
              "      <td>2015</td>\n",
              "      <td>2015/2016</td>\n",
              "    </tr>\n",
              "    <tr>\n",
              "      <th>1067</th>\n",
              "      <td>1068</td>\n",
              "      <td>Roda JC</td>\n",
              "      <td>Martin Milec</td>\n",
              "      <td>24</td>\n",
              "      <td>Right-Back</td>\n",
              "      <td>Belgium</td>\n",
              "      <td>loan transfer</td>\n",
              "      <td>in</td>\n",
              "      <td>Winter</td>\n",
              "      <td>NaN</td>\n",
              "      <td>Eredivisie</td>\n",
              "      <td>2015</td>\n",
              "      <td>2015/2016</td>\n",
              "    </tr>\n",
              "  </tbody>\n",
              "</table>\n",
              "<p>464 rows × 13 columns</p>\n",
              "</div>\n",
              "      <button class=\"colab-df-convert\" onclick=\"convertToInteractive('df-708f2dcf-927e-485c-95af-26ee0555e02d')\"\n",
              "              title=\"Convert this dataframe to an interactive table.\"\n",
              "              style=\"display:none;\">\n",
              "        \n",
              "  <svg xmlns=\"http://www.w3.org/2000/svg\" height=\"24px\"viewBox=\"0 0 24 24\"\n",
              "       width=\"24px\">\n",
              "    <path d=\"M0 0h24v24H0V0z\" fill=\"none\"/>\n",
              "    <path d=\"M18.56 5.44l.94 2.06.94-2.06 2.06-.94-2.06-.94-.94-2.06-.94 2.06-2.06.94zm-11 1L8.5 8.5l.94-2.06 2.06-.94-2.06-.94L8.5 2.5l-.94 2.06-2.06.94zm10 10l.94 2.06.94-2.06 2.06-.94-2.06-.94-.94-2.06-.94 2.06-2.06.94z\"/><path d=\"M17.41 7.96l-1.37-1.37c-.4-.4-.92-.59-1.43-.59-.52 0-1.04.2-1.43.59L10.3 9.45l-7.72 7.72c-.78.78-.78 2.05 0 2.83L4 21.41c.39.39.9.59 1.41.59.51 0 1.02-.2 1.41-.59l7.78-7.78 2.81-2.81c.8-.78.8-2.07 0-2.86zM5.41 20L4 18.59l7.72-7.72 1.47 1.35L5.41 20z\"/>\n",
              "  </svg>\n",
              "      </button>\n",
              "      \n",
              "  <style>\n",
              "    .colab-df-container {\n",
              "      display:flex;\n",
              "      flex-wrap:wrap;\n",
              "      gap: 12px;\n",
              "    }\n",
              "\n",
              "    .colab-df-convert {\n",
              "      background-color: #E8F0FE;\n",
              "      border: none;\n",
              "      border-radius: 50%;\n",
              "      cursor: pointer;\n",
              "      display: none;\n",
              "      fill: #1967D2;\n",
              "      height: 32px;\n",
              "      padding: 0 0 0 0;\n",
              "      width: 32px;\n",
              "    }\n",
              "\n",
              "    .colab-df-convert:hover {\n",
              "      background-color: #E2EBFA;\n",
              "      box-shadow: 0px 1px 2px rgba(60, 64, 67, 0.3), 0px 1px 3px 1px rgba(60, 64, 67, 0.15);\n",
              "      fill: #174EA6;\n",
              "    }\n",
              "\n",
              "    [theme=dark] .colab-df-convert {\n",
              "      background-color: #3B4455;\n",
              "      fill: #D2E3FC;\n",
              "    }\n",
              "\n",
              "    [theme=dark] .colab-df-convert:hover {\n",
              "      background-color: #434B5C;\n",
              "      box-shadow: 0px 1px 3px 1px rgba(0, 0, 0, 0.15);\n",
              "      filter: drop-shadow(0px 1px 2px rgba(0, 0, 0, 0.3));\n",
              "      fill: #FFFFFF;\n",
              "    }\n",
              "  </style>\n",
              "\n",
              "      <script>\n",
              "        const buttonEl =\n",
              "          document.querySelector('#df-708f2dcf-927e-485c-95af-26ee0555e02d button.colab-df-convert');\n",
              "        buttonEl.style.display =\n",
              "          google.colab.kernel.accessAllowed ? 'block' : 'none';\n",
              "\n",
              "        async function convertToInteractive(key) {\n",
              "          const element = document.querySelector('#df-708f2dcf-927e-485c-95af-26ee0555e02d');\n",
              "          const dataTable =\n",
              "            await google.colab.kernel.invokeFunction('convertToInteractive',\n",
              "                                                     [key], {});\n",
              "          if (!dataTable) return;\n",
              "\n",
              "          const docLinkHtml = 'Like what you see? Visit the ' +\n",
              "            '<a target=\"_blank\" href=https://colab.research.google.com/notebooks/data_table.ipynb>data table notebook</a>'\n",
              "            + ' to learn more about interactive tables.';\n",
              "          element.innerHTML = '';\n",
              "          dataTable['output_type'] = 'display_data';\n",
              "          await google.colab.output.renderOutput(dataTable, element);\n",
              "          const docLink = document.createElement('div');\n",
              "          docLink.innerHTML = docLinkHtml;\n",
              "          element.appendChild(docLink);\n",
              "        }\n",
              "      </script>\n",
              "    </div>\n",
              "  </div>\n",
              "  "
            ]
          },
          "metadata": {},
          "execution_count": 205
        }
      ]
    },
    {
      "cell_type": "code",
      "source": [
        "df_copy"
      ],
      "metadata": {
        "colab": {
          "base_uri": "https://localhost:8080/",
          "height": 424
        },
        "id": "_ap8BsLol_1F",
        "outputId": "96d26a53-5d01-4fee-aaee-55bf168dc03a"
      },
      "execution_count": null,
      "outputs": [
        {
          "output_type": "execute_result",
          "data": {
            "text/plain": [
              "      Unnamed: 0      club_name          player_name  age          position  \\\n",
              "0              1       Juventus         Paulo Dybala   21    Second Striker   \n",
              "1              2       Juventus       Miralem Pjanic   26  Central Midfield   \n",
              "2              3       Juventus          Alex Sandro   24         Left-Back   \n",
              "3              4       Juventus      Mario Mandzukic   29    Centre-Forward   \n",
              "4              5       Juventus          Simone Zaza   24    Centre-Forward   \n",
              "...          ...            ...                  ...  ...               ...   \n",
              "1064        1065  De Graafschap         Mark Diemers   22  Central Midfield   \n",
              "1065        1066        Roda JC        Georgi Zhukov   21  Central Midfield   \n",
              "1066        1067        Roda JC      Mike van Duinen   24    Centre-Forward   \n",
              "1067        1068        Roda JC         Martin Milec   24        Right-Back   \n",
              "1068        1069        Roda JC  Kristoffer Peterson   21       Left Winger   \n",
              "\n",
              "     club_involved_name            fee transfer_movement transfer_period  \\\n",
              "0            US Palermo        41.00m                in          Summer   \n",
              "1               AS Roma        32.00m                in          Summer   \n",
              "2              FC Porto        28.00m                in          Summer   \n",
              "3       Atlético Madrid        19.00m                in          Summer   \n",
              "4              Sassuolo        18.00m                in          Summer   \n",
              "...                 ...            ...               ...             ...   \n",
              "1064         FC Utrecht  loan transfer                in          Winter   \n",
              "1065           Standard  loan transfer                in          Winter   \n",
              "1066            Germany  loan transfer                in          Winter   \n",
              "1067            Belgium  loan transfer                in          Winter   \n",
              "1068         FC Utrecht  loan transfer                in          Winter   \n",
              "\n",
              "     fee_cleaned league_name  year     season  \n",
              "0             41     Serie A  2015  2015/2016  \n",
              "1             32     Serie A  2015  2015/2016  \n",
              "2             28     Serie A  2015  2015/2016  \n",
              "3             19     Serie A  2015  2015/2016  \n",
              "4             18     Serie A  2015  2015/2016  \n",
              "...          ...         ...   ...        ...  \n",
              "1064         NaN  Eredivisie  2015  2015/2016  \n",
              "1065         NaN  Eredivisie  2015  2015/2016  \n",
              "1066         NaN  Eredivisie  2015  2015/2016  \n",
              "1067         NaN  Eredivisie  2015  2015/2016  \n",
              "1068         NaN  Eredivisie  2015  2015/2016  \n",
              "\n",
              "[1069 rows x 13 columns]"
            ],
            "text/html": [
              "\n",
              "  <div id=\"df-5260e82f-75ab-46c6-af35-6ee2cb453645\">\n",
              "    <div class=\"colab-df-container\">\n",
              "      <div>\n",
              "<style scoped>\n",
              "    .dataframe tbody tr th:only-of-type {\n",
              "        vertical-align: middle;\n",
              "    }\n",
              "\n",
              "    .dataframe tbody tr th {\n",
              "        vertical-align: top;\n",
              "    }\n",
              "\n",
              "    .dataframe thead th {\n",
              "        text-align: right;\n",
              "    }\n",
              "</style>\n",
              "<table border=\"1\" class=\"dataframe\">\n",
              "  <thead>\n",
              "    <tr style=\"text-align: right;\">\n",
              "      <th></th>\n",
              "      <th>Unnamed: 0</th>\n",
              "      <th>club_name</th>\n",
              "      <th>player_name</th>\n",
              "      <th>age</th>\n",
              "      <th>position</th>\n",
              "      <th>club_involved_name</th>\n",
              "      <th>fee</th>\n",
              "      <th>transfer_movement</th>\n",
              "      <th>transfer_period</th>\n",
              "      <th>fee_cleaned</th>\n",
              "      <th>league_name</th>\n",
              "      <th>year</th>\n",
              "      <th>season</th>\n",
              "    </tr>\n",
              "  </thead>\n",
              "  <tbody>\n",
              "    <tr>\n",
              "      <th>0</th>\n",
              "      <td>1</td>\n",
              "      <td>Juventus</td>\n",
              "      <td>Paulo Dybala</td>\n",
              "      <td>21</td>\n",
              "      <td>Second Striker</td>\n",
              "      <td>US Palermo</td>\n",
              "      <td>41.00m</td>\n",
              "      <td>in</td>\n",
              "      <td>Summer</td>\n",
              "      <td>41</td>\n",
              "      <td>Serie A</td>\n",
              "      <td>2015</td>\n",
              "      <td>2015/2016</td>\n",
              "    </tr>\n",
              "    <tr>\n",
              "      <th>1</th>\n",
              "      <td>2</td>\n",
              "      <td>Juventus</td>\n",
              "      <td>Miralem Pjanic</td>\n",
              "      <td>26</td>\n",
              "      <td>Central Midfield</td>\n",
              "      <td>AS Roma</td>\n",
              "      <td>32.00m</td>\n",
              "      <td>in</td>\n",
              "      <td>Summer</td>\n",
              "      <td>32</td>\n",
              "      <td>Serie A</td>\n",
              "      <td>2015</td>\n",
              "      <td>2015/2016</td>\n",
              "    </tr>\n",
              "    <tr>\n",
              "      <th>2</th>\n",
              "      <td>3</td>\n",
              "      <td>Juventus</td>\n",
              "      <td>Alex Sandro</td>\n",
              "      <td>24</td>\n",
              "      <td>Left-Back</td>\n",
              "      <td>FC Porto</td>\n",
              "      <td>28.00m</td>\n",
              "      <td>in</td>\n",
              "      <td>Summer</td>\n",
              "      <td>28</td>\n",
              "      <td>Serie A</td>\n",
              "      <td>2015</td>\n",
              "      <td>2015/2016</td>\n",
              "    </tr>\n",
              "    <tr>\n",
              "      <th>3</th>\n",
              "      <td>4</td>\n",
              "      <td>Juventus</td>\n",
              "      <td>Mario Mandzukic</td>\n",
              "      <td>29</td>\n",
              "      <td>Centre-Forward</td>\n",
              "      <td>Atlético Madrid</td>\n",
              "      <td>19.00m</td>\n",
              "      <td>in</td>\n",
              "      <td>Summer</td>\n",
              "      <td>19</td>\n",
              "      <td>Serie A</td>\n",
              "      <td>2015</td>\n",
              "      <td>2015/2016</td>\n",
              "    </tr>\n",
              "    <tr>\n",
              "      <th>4</th>\n",
              "      <td>5</td>\n",
              "      <td>Juventus</td>\n",
              "      <td>Simone Zaza</td>\n",
              "      <td>24</td>\n",
              "      <td>Centre-Forward</td>\n",
              "      <td>Sassuolo</td>\n",
              "      <td>18.00m</td>\n",
              "      <td>in</td>\n",
              "      <td>Summer</td>\n",
              "      <td>18</td>\n",
              "      <td>Serie A</td>\n",
              "      <td>2015</td>\n",
              "      <td>2015/2016</td>\n",
              "    </tr>\n",
              "    <tr>\n",
              "      <th>...</th>\n",
              "      <td>...</td>\n",
              "      <td>...</td>\n",
              "      <td>...</td>\n",
              "      <td>...</td>\n",
              "      <td>...</td>\n",
              "      <td>...</td>\n",
              "      <td>...</td>\n",
              "      <td>...</td>\n",
              "      <td>...</td>\n",
              "      <td>...</td>\n",
              "      <td>...</td>\n",
              "      <td>...</td>\n",
              "      <td>...</td>\n",
              "    </tr>\n",
              "    <tr>\n",
              "      <th>1064</th>\n",
              "      <td>1065</td>\n",
              "      <td>De Graafschap</td>\n",
              "      <td>Mark Diemers</td>\n",
              "      <td>22</td>\n",
              "      <td>Central Midfield</td>\n",
              "      <td>FC Utrecht</td>\n",
              "      <td>loan transfer</td>\n",
              "      <td>in</td>\n",
              "      <td>Winter</td>\n",
              "      <td>NaN</td>\n",
              "      <td>Eredivisie</td>\n",
              "      <td>2015</td>\n",
              "      <td>2015/2016</td>\n",
              "    </tr>\n",
              "    <tr>\n",
              "      <th>1065</th>\n",
              "      <td>1066</td>\n",
              "      <td>Roda JC</td>\n",
              "      <td>Georgi Zhukov</td>\n",
              "      <td>21</td>\n",
              "      <td>Central Midfield</td>\n",
              "      <td>Standard</td>\n",
              "      <td>loan transfer</td>\n",
              "      <td>in</td>\n",
              "      <td>Winter</td>\n",
              "      <td>NaN</td>\n",
              "      <td>Eredivisie</td>\n",
              "      <td>2015</td>\n",
              "      <td>2015/2016</td>\n",
              "    </tr>\n",
              "    <tr>\n",
              "      <th>1066</th>\n",
              "      <td>1067</td>\n",
              "      <td>Roda JC</td>\n",
              "      <td>Mike van Duinen</td>\n",
              "      <td>24</td>\n",
              "      <td>Centre-Forward</td>\n",
              "      <td>Germany</td>\n",
              "      <td>loan transfer</td>\n",
              "      <td>in</td>\n",
              "      <td>Winter</td>\n",
              "      <td>NaN</td>\n",
              "      <td>Eredivisie</td>\n",
              "      <td>2015</td>\n",
              "      <td>2015/2016</td>\n",
              "    </tr>\n",
              "    <tr>\n",
              "      <th>1067</th>\n",
              "      <td>1068</td>\n",
              "      <td>Roda JC</td>\n",
              "      <td>Martin Milec</td>\n",
              "      <td>24</td>\n",
              "      <td>Right-Back</td>\n",
              "      <td>Belgium</td>\n",
              "      <td>loan transfer</td>\n",
              "      <td>in</td>\n",
              "      <td>Winter</td>\n",
              "      <td>NaN</td>\n",
              "      <td>Eredivisie</td>\n",
              "      <td>2015</td>\n",
              "      <td>2015/2016</td>\n",
              "    </tr>\n",
              "    <tr>\n",
              "      <th>1068</th>\n",
              "      <td>1069</td>\n",
              "      <td>Roda JC</td>\n",
              "      <td>Kristoffer Peterson</td>\n",
              "      <td>21</td>\n",
              "      <td>Left Winger</td>\n",
              "      <td>FC Utrecht</td>\n",
              "      <td>loan transfer</td>\n",
              "      <td>in</td>\n",
              "      <td>Winter</td>\n",
              "      <td>NaN</td>\n",
              "      <td>Eredivisie</td>\n",
              "      <td>2015</td>\n",
              "      <td>2015/2016</td>\n",
              "    </tr>\n",
              "  </tbody>\n",
              "</table>\n",
              "<p>1069 rows × 13 columns</p>\n",
              "</div>\n",
              "      <button class=\"colab-df-convert\" onclick=\"convertToInteractive('df-5260e82f-75ab-46c6-af35-6ee2cb453645')\"\n",
              "              title=\"Convert this dataframe to an interactive table.\"\n",
              "              style=\"display:none;\">\n",
              "        \n",
              "  <svg xmlns=\"http://www.w3.org/2000/svg\" height=\"24px\"viewBox=\"0 0 24 24\"\n",
              "       width=\"24px\">\n",
              "    <path d=\"M0 0h24v24H0V0z\" fill=\"none\"/>\n",
              "    <path d=\"M18.56 5.44l.94 2.06.94-2.06 2.06-.94-2.06-.94-.94-2.06-.94 2.06-2.06.94zm-11 1L8.5 8.5l.94-2.06 2.06-.94-2.06-.94L8.5 2.5l-.94 2.06-2.06.94zm10 10l.94 2.06.94-2.06 2.06-.94-2.06-.94-.94-2.06-.94 2.06-2.06.94z\"/><path d=\"M17.41 7.96l-1.37-1.37c-.4-.4-.92-.59-1.43-.59-.52 0-1.04.2-1.43.59L10.3 9.45l-7.72 7.72c-.78.78-.78 2.05 0 2.83L4 21.41c.39.39.9.59 1.41.59.51 0 1.02-.2 1.41-.59l7.78-7.78 2.81-2.81c.8-.78.8-2.07 0-2.86zM5.41 20L4 18.59l7.72-7.72 1.47 1.35L5.41 20z\"/>\n",
              "  </svg>\n",
              "      </button>\n",
              "      \n",
              "  <style>\n",
              "    .colab-df-container {\n",
              "      display:flex;\n",
              "      flex-wrap:wrap;\n",
              "      gap: 12px;\n",
              "    }\n",
              "\n",
              "    .colab-df-convert {\n",
              "      background-color: #E8F0FE;\n",
              "      border: none;\n",
              "      border-radius: 50%;\n",
              "      cursor: pointer;\n",
              "      display: none;\n",
              "      fill: #1967D2;\n",
              "      height: 32px;\n",
              "      padding: 0 0 0 0;\n",
              "      width: 32px;\n",
              "    }\n",
              "\n",
              "    .colab-df-convert:hover {\n",
              "      background-color: #E2EBFA;\n",
              "      box-shadow: 0px 1px 2px rgba(60, 64, 67, 0.3), 0px 1px 3px 1px rgba(60, 64, 67, 0.15);\n",
              "      fill: #174EA6;\n",
              "    }\n",
              "\n",
              "    [theme=dark] .colab-df-convert {\n",
              "      background-color: #3B4455;\n",
              "      fill: #D2E3FC;\n",
              "    }\n",
              "\n",
              "    [theme=dark] .colab-df-convert:hover {\n",
              "      background-color: #434B5C;\n",
              "      box-shadow: 0px 1px 3px 1px rgba(0, 0, 0, 0.15);\n",
              "      filter: drop-shadow(0px 1px 2px rgba(0, 0, 0, 0.3));\n",
              "      fill: #FFFFFF;\n",
              "    }\n",
              "  </style>\n",
              "\n",
              "      <script>\n",
              "        const buttonEl =\n",
              "          document.querySelector('#df-5260e82f-75ab-46c6-af35-6ee2cb453645 button.colab-df-convert');\n",
              "        buttonEl.style.display =\n",
              "          google.colab.kernel.accessAllowed ? 'block' : 'none';\n",
              "\n",
              "        async function convertToInteractive(key) {\n",
              "          const element = document.querySelector('#df-5260e82f-75ab-46c6-af35-6ee2cb453645');\n",
              "          const dataTable =\n",
              "            await google.colab.kernel.invokeFunction('convertToInteractive',\n",
              "                                                     [key], {});\n",
              "          if (!dataTable) return;\n",
              "\n",
              "          const docLinkHtml = 'Like what you see? Visit the ' +\n",
              "            '<a target=\"_blank\" href=https://colab.research.google.com/notebooks/data_table.ipynb>data table notebook</a>'\n",
              "            + ' to learn more about interactive tables.';\n",
              "          element.innerHTML = '';\n",
              "          dataTable['output_type'] = 'display_data';\n",
              "          await google.colab.output.renderOutput(dataTable, element);\n",
              "          const docLink = document.createElement('div');\n",
              "          docLink.innerHTML = docLinkHtml;\n",
              "          element.appendChild(docLink);\n",
              "        }\n",
              "      </script>\n",
              "    </div>\n",
              "  </div>\n",
              "  "
            ]
          },
          "metadata": {},
          "execution_count": 206
        }
      ]
    },
    {
      "cell_type": "code",
      "source": [
        "raw_list=np.unique(df_ss['club_involved_name']).tolist()"
      ],
      "metadata": {
        "id": "zmGxQAFLFh5E"
      },
      "execution_count": null,
      "outputs": []
    },
    {
      "cell_type": "code",
      "source": [
        "raw_list"
      ],
      "metadata": {
        "colab": {
          "base_uri": "https://localhost:8080/"
        },
        "id": "gbdEK0ixgbUC",
        "outputId": "ae7457f5-4bb0-4fb5-a655-a580e4cc1db3"
      },
      "execution_count": null,
      "outputs": [
        {
          "output_type": "execute_result",
          "data": {
            "text/plain": [
              "['Africa Sports',\n",
              " 'Arsenal FC',\n",
              " 'Asia',\n",
              " 'Belgium',\n",
              " 'Central_EU',\n",
              " 'Coimbra-MG',\n",
              " 'Cukaricki',\n",
              " 'Deportivo',\n",
              " 'Est_EU',\n",
              " 'FC Vysocina',\n",
              " 'France',\n",
              " 'GO Audax',\n",
              " 'GZ Evergrande',\n",
              " 'Germany',\n",
              " 'Helsingborg',\n",
              " 'Imperial Acad.',\n",
              " 'Italy',\n",
              " 'LD Maputo',\n",
              " 'Mangasport',\n",
              " 'Netherlands',\n",
              " 'North America',\n",
              " 'North_EU',\n",
              " 'Pandurii',\n",
              " 'Penapolense-SP',\n",
              " 'Portugal',\n",
              " 'Russia',\n",
              " 'South America',\n",
              " 'Spain',\n",
              " 'Stade Rennais',\n",
              " 'Standard',\n",
              " 'Stella Club',\n",
              " 'Turkey',\n",
              " 'Uk']"
            ]
          },
          "metadata": {},
          "execution_count": 208
        }
      ]
    },
    {
      "cell_type": "code",
      "source": [
        "check_list= [v for k, v in list(META_Translator.items())]\n",
        "check_list=np.unique(check_list).tolist()"
      ],
      "metadata": {
        "id": "f9wenhriGRT7"
      },
      "execution_count": null,
      "outputs": []
    },
    {
      "cell_type": "code",
      "source": [
        "check_list"
      ],
      "metadata": {
        "id": "BjGJrWKnGjQw",
        "colab": {
          "base_uri": "https://localhost:8080/"
        },
        "outputId": "4799c45c-4648-44ec-8f7f-abd08ac9966f"
      },
      "execution_count": null,
      "outputs": [
        {
          "output_type": "execute_result",
          "data": {
            "text/plain": [
              "['Africa',\n",
              " 'Asia',\n",
              " 'Belgium',\n",
              " 'Central_EU',\n",
              " 'Est_EU',\n",
              " 'France',\n",
              " 'Germany',\n",
              " 'Italy',\n",
              " 'Netherlands',\n",
              " 'North America',\n",
              " 'North_EU',\n",
              " 'Portugal',\n",
              " 'Russia',\n",
              " 'South America',\n",
              " 'Spain',\n",
              " 'Turkey',\n",
              " 'Uk']"
            ]
          },
          "metadata": {},
          "execution_count": 210
        }
      ]
    },
    {
      "cell_type": "code",
      "source": [
        "result = list(set(raw_list) - set(check_list))"
      ],
      "metadata": {
        "id": "-JrFu5ieHLt3"
      },
      "execution_count": null,
      "outputs": []
    },
    {
      "cell_type": "code",
      "source": [
        "len(result)"
      ],
      "metadata": {
        "colab": {
          "base_uri": "https://localhost:8080/"
        },
        "id": "QJV8B7bdYTlE",
        "outputId": "786e2ba9-d294-42ca-9691-d0fcfe927174"
      },
      "execution_count": null,
      "outputs": [
        {
          "output_type": "execute_result",
          "data": {
            "text/plain": [
              "17"
            ]
          },
          "metadata": {},
          "execution_count": 212
        }
      ]
    },
    {
      "cell_type": "code",
      "source": [
        "Translator_LS"
      ],
      "metadata": {
        "id": "9bGpuCYsZYyW"
      },
      "execution_count": null,
      "outputs": []
    },
    {
      "cell_type": "code",
      "source": [
        "result"
      ],
      "metadata": {
        "colab": {
          "base_uri": "https://localhost:8080/"
        },
        "id": "n2WmxDKCZLYa",
        "outputId": "6078e265-fec4-47cd-c267-b37ef6d4fbaf"
      },
      "execution_count": null,
      "outputs": [
        {
          "output_type": "execute_result",
          "data": {
            "text/plain": [
              "['Penapolense-SP',\n",
              " 'Pandurii',\n",
              " 'Africa Sports',\n",
              " 'GZ Evergrande',\n",
              " 'Cukaricki',\n",
              " 'Stella Club',\n",
              " 'Stade Rennais',\n",
              " 'Coimbra-MG',\n",
              " 'Standard',\n",
              " 'Imperial Acad.',\n",
              " 'GO Audax',\n",
              " 'LD Maputo',\n",
              " 'Helsingborg',\n",
              " 'Arsenal FC',\n",
              " 'Mangasport',\n",
              " 'Deportivo',\n",
              " 'FC Vysocina']"
            ]
          },
          "metadata": {},
          "execution_count": 213
        }
      ]
    },
    {
      "cell_type": "code",
      "source": [
        "len(result)"
      ],
      "metadata": {
        "colab": {
          "base_uri": "https://localhost:8080/"
        },
        "id": "Q-E4HHAJHPwR",
        "outputId": "933eff0e-c686-4bcf-f596-84de1bebe9f1"
      },
      "execution_count": null,
      "outputs": [
        {
          "output_type": "execute_result",
          "data": {
            "text/plain": [
              "300"
            ]
          },
          "metadata": {},
          "execution_count": 51
        }
      ]
    },
    {
      "cell_type": "markdown",
      "source": [],
      "metadata": {
        "id": "SHrLAko4eQhH"
      }
    },
    {
      "cell_type": "markdown",
      "source": [],
      "metadata": {
        "id": "Ro4MU2VHeQt7"
      }
    },
    {
      "cell_type": "markdown",
      "source": [],
      "metadata": {
        "id": "SaxcKy1AeQwl"
      }
    },
    {
      "cell_type": "code",
      "source": [
        "import re\n",
        "\n",
        "result_dict = {}\n",
        "for name in result:\n",
        "    original_name = name\n",
        "    name = re.sub(r'\\bU[12][0-9]\\b', '', name) # Remove all the U17, U19, U21 and U23 Teams\n",
        "    name = re.sub(r'\\bB\\b', '', name) # Remove all the the B squads\n",
        "    name = re.sub(r'\\bC\\b', '', name) # Remove all the the C squads\n",
        "    if name != 'Willem II':\n",
        "        name = re.sub(r'\\bII\\b', '', name) # Remove all the the II squads \n",
        "    name = re.sub(r'Res\\.?$', '', name).strip() # Remove all the the Res\\Res. squads\n",
        "    if original_name not in result_dict:\n",
        "        result_dict[original_name] = name"
      ],
      "metadata": {
        "id": "nSTpWN1WVE_r"
      },
      "execution_count": null,
      "outputs": []
    },
    {
      "cell_type": "code",
      "source": [
        "result_dict"
      ],
      "metadata": {
        "colab": {
          "base_uri": "https://localhost:8080/"
        },
        "id": "fxZVveFmO_8c",
        "outputId": "2eb4ebf4-6dbe-4425-9042-20fd002d0ed0"
      },
      "execution_count": null,
      "outputs": [
        {
          "output_type": "execute_result",
          "data": {
            "text/plain": [
              "{'Liverpool U23': 'Liverpool',\n",
              " 'Eastwood Town': 'Eastwood Town',\n",
              " 'Man Utd Res.': 'Man Utd',\n",
              " \"K'lautern U19\": \"K'lautern\",\n",
              " 'Latina U19': 'Latina',\n",
              " 'SZ Jianlibao': 'SZ Jianlibao',\n",
              " 'Gela Calcio Youth': 'Gela Calcio Youth',\n",
              " 'West Adelaide SC': 'West Adelaide SC',\n",
              " 'Halesowen': 'Halesowen',\n",
              " 'Djoliba AC': 'Djoliba AC',\n",
              " 'Arzanese': 'Arzanese',\n",
              " 'SC Fortuna Köln': 'SC Fortuna Köln',\n",
              " 'Brasa': 'Brasa',\n",
              " 'Brighton U23': 'Brighton',\n",
              " 'FC São Paulo B': 'FC São Paulo',\n",
              " 'Penapolense-SP': 'Penapolense-SP',\n",
              " 'Pandurii': 'Pandurii',\n",
              " 'Ult. Strikers': 'Ult. Strikers',\n",
              " 'Wattenscheid 09': 'Wattenscheid 09',\n",
              " 'Le Havre U19': 'Le Havre',\n",
              " 'Loko Tashkent': 'Loko Tashkent',\n",
              " 'GO Audax': 'GO Audax',\n",
              " 'Gron./Cam. U21': 'Gron./Cam.',\n",
              " 'Chelsea Res.': 'Chelsea',\n",
              " 'Diambars FC': 'Diambars FC',\n",
              " 'CE Sabadell': 'CE Sabadell',\n",
              " 'Setúbal U19': 'Setúbal',\n",
              " 'Portsmouth U18': 'Portsmouth',\n",
              " 'Odivelas': 'Odivelas',\n",
              " 'Man City U23': 'Man City',\n",
              " 'PSV Rostock': 'PSV Rostock',\n",
              " 'Helsingborg': 'Helsingborg',\n",
              " 'Cheonan Ilhwa': 'Cheonan Ilhwa',\n",
              " 'Sydney Olympic': 'Sydney Olympic',\n",
              " 'Vitesse U21': 'Vitesse',\n",
              " 'Vestenbergsgr.': 'Vestenbergsgr.',\n",
              " 'Inter B': 'Inter',\n",
              " 'Sevilla B': 'Sevilla',\n",
              " 'Inter de Lages': 'Inter de Lages',\n",
              " 'Real Burgos CF': 'Real Burgos CF',\n",
              " 'Admira/Wacker': 'Admira/Wacker',\n",
              " 'Arsenal Res.': 'Arsenal',\n",
              " 'Atalanta': 'Atalanta',\n",
              " 'Planète Champ.': 'Planète Champ.',\n",
              " 'SS Milazzo': 'SS Milazzo',\n",
              " 'Wolves U23': 'Wolves',\n",
              " 'SD Taishan': 'SD Taishan',\n",
              " 'Arsenal FC II': 'Arsenal FC',\n",
              " 'Ban': 'Ban',\n",
              " 'Ternana U.': 'Ternana U.',\n",
              " 'MFK Ko\\x9aice': 'MFK Ko\\x9aice',\n",
              " 'ASEC Mimosas': 'ASEC Mimosas',\n",
              " 'Heerenveen U19': 'Heerenveen',\n",
              " 'Croatia Zagreb': 'Croatia Zagreb',\n",
              " 'GZ Hengfeng': 'GZ Hengfeng',\n",
              " 'RW Erfurt U19': 'RW Erfurt',\n",
              " 'AS Red Star 93': 'AS Red Star 93',\n",
              " 'AD Limonense': 'AD Limonense',\n",
              " 'Astral': 'Astral',\n",
              " 'Olé Brasil': 'Olé Brasil',\n",
              " 'Loko Moscow II': 'Loko Moscow',\n",
              " 'Aversa Norm.': 'Aversa Norm.',\n",
              " 'FC St. Pauli II': 'FC St. Pauli',\n",
              " 'União São João': 'União São João',\n",
              " 'ETO FC Gyor': 'ETO FC Gyor',\n",
              " 'West Ham U23': 'West Ham',\n",
              " 'Linense-SP': 'Linense-SP',\n",
              " 'Flamengo B': 'Flamengo',\n",
              " 'Tiligul': 'Tiligul',\n",
              " 'Derby Acad.': 'Derby Acad.',\n",
              " 'Copenhagen U19': 'Copenhagen',\n",
              " 'Sestese Jun.': 'Sestese Jun.',\n",
              " 'SC Norderstedt': 'SC Norderstedt',\n",
              " 'NK Zadar': 'NK Zadar',\n",
              " 'Badajoz': 'Badajoz',\n",
              " 'Vila Real': 'Vila Real',\n",
              " 'Monte Alegre-SP': 'Monte Alegre-SP',\n",
              " 'Unknown': 'Unknown',\n",
              " 'MZ Hakka': 'MZ Hakka',\n",
              " 'Ponsacco': 'Ponsacco',\n",
              " 'Boca Juniors II': 'Boca Juniors',\n",
              " 'Rio Branco-SP': 'Rio Branco-SP',\n",
              " 'FC Kuusysi': 'FC Kuusysi',\n",
              " 'APC U20': 'APC',\n",
              " 'Africa Sports': 'Africa Sports',\n",
              " 'GZ Evergrande': 'GZ Evergrande',\n",
              " 'Sp. Toulon Var': 'Sp. Toulon Var',\n",
              " 'Anderlecht U21': 'Anderlecht',\n",
              " 'Gwarek U19': 'Gwarek',\n",
              " 'St. George Saints': 'St. George Saints',\n",
              " 'Stade Rennais': 'Stade Rennais',\n",
              " 'Canvey Island': 'Canvey Island',\n",
              " 'Rio Preto EC': 'Rio Preto EC',\n",
              " 'LOSC Lille U19': 'LOSC Lille',\n",
              " 'Vasco U17': 'Vasco',\n",
              " 'Real Madrid B': 'Real Madrid',\n",
              " 'Barra FC': 'Barra FC',\n",
              " 'Diables Noirs': 'Diables Noirs',\n",
              " 'Panthère du Ndé': 'Panthère du Ndé',\n",
              " 'Parma FC Youth': 'Parma FC Youth',\n",
              " 'MSP Szamotuly': 'MSP Szamotuly',\n",
              " 'Junior': 'Junior',\n",
              " 'Pordenone': 'Pordenone',\n",
              " 'Bellaria IM': 'Bellaria IM',\n",
              " 'San Jose Clash': 'San Jose Clash',\n",
              " 'Parra. Power': 'Parra. Power',\n",
              " 'AS Vita Club': 'AS Vita Club',\n",
              " 'Red Star U19': 'Red Star',\n",
              " 'A.I.S.': 'A.I.S.',\n",
              " 'Cartagena FC': 'Cartagena FC',\n",
              " 'MetroStars': 'MetroStars',\n",
              " 'AD Oeiras': 'AD Oeiras',\n",
              " 'VfB Gaggenau': 'VfB Gaggenau',\n",
              " 'Iwuanyanwu Nat.': 'Iwuanyanwu Nat.',\n",
              " 'A. Malagueño': 'A. Malagueño',\n",
              " 'Al-Duhail SC': 'Al-Duhail SC',\n",
              " 'Tampa Bay': 'Tampa Bay',\n",
              " 'River Plate II': 'River Plate',\n",
              " 'Sangiustese': 'Sangiustese',\n",
              " 'Wadi Degla U23': 'Wadi Degla',\n",
              " 'Florentia': 'Florentia',\n",
              " 'Norte América': 'Norte América',\n",
              " 'Corinthians B': 'Corinthians',\n",
              " 'Osasco-SP': 'Osasco-SP',\n",
              " 'FC Vysocina': 'FC Vysocina',\n",
              " 'Nordsjaell. U19': 'Nordsjaell.',\n",
              " 'Ajax U19': 'Ajax',\n",
              " 'ISM Academy': 'ISM Academy',\n",
              " 'Real Madrid C': 'Real Madrid',\n",
              " 'CF Estrela': 'CF Estrela',\n",
              " 'Esteghlal FC': 'Esteghlal FC',\n",
              " 'Tianjin JMT Res': 'Tianjin JMT',\n",
              " 'AS Bamako': 'AS Bamako',\n",
              " 'CSD del Valle': 'CSD del Valle',\n",
              " 'Maga': 'Maga',\n",
              " 'Betis B': 'Betis',\n",
              " 'Karlsruhe U19': 'Karlsruhe',\n",
              " 'CD Ourense': 'CD Ourense',\n",
              " 'FC Starnberg': 'FC Starnberg',\n",
              " 'AZ Alkmaar U21': 'AZ Alkmaar',\n",
              " 'Poli. Timisoara': 'Poli. Timisoara',\n",
              " 'Pusan Daewoo': 'Pusan Daewoo',\n",
              " 'FC NITEL Lagos': 'FC NITEL Lagos',\n",
              " 'JEF Utd Ichihara': 'JEF Utd Ichihara',\n",
              " 'Hanoi FC': 'Hanoi FC',\n",
              " 'Sapri Calcio': 'Sapri Calcio',\n",
              " 'Sittingbourne FC': 'Sittingbourne FC',\n",
              " 'Desp. Brasil': 'Desp. Brasil',\n",
              " 'GD Ribeirão': 'GD Ribeirão',\n",
              " 'Maputo': 'Maputo',\n",
              " 'Levante B': 'Levante',\n",
              " 'AC Merlan Lome': 'AC Merlan Lome',\n",
              " 'Fútbol Cons.': 'Fútbol Cons.',\n",
              " 'Gron./Cam. U19': 'Gron./Cam.',\n",
              " 'Kadji Sports': 'Kadji Sports',\n",
              " 'Muçulmana': 'Muçulmana',\n",
              " 'Imperial Acad.': 'Imperial Acad.',\n",
              " 'Bellm. Hiratsuka': 'Bellm. Hiratsuka',\n",
              " 'Swindon U18': 'Swindon',\n",
              " 'Arsenal U23': 'Arsenal',\n",
              " 'Argentinos U20': 'Argentinos',\n",
              " 'Bielefeld U19': 'Bielefeld',\n",
              " 'Barra FC (SC)': 'Barra FC (SC)',\n",
              " 'Cukaricki': 'Cukaricki',\n",
              " 'Petro Luanda': 'Petro Luanda',\n",
              " 'Sestao River': 'Sestao River',\n",
              " 'FC Bayern U19': 'FC Bayern',\n",
              " 'Storm': 'Storm',\n",
              " 'Stumbras': 'Stumbras',\n",
              " 'Noroeste': 'Noroeste',\n",
              " 'Écija Balompié': 'Écija Balompié',\n",
              " 'Tottenham U23': 'Tottenham',\n",
              " 'CF Extremadura': 'CF Extremadura',\n",
              " 'AC Montichiari': 'AC Montichiari',\n",
              " 'Gwarek Zabrze': 'Gwarek Zabrze',\n",
              " \"Jeanne d'Arc\": \"Jeanne d'Arc\",\n",
              " 'AJ Auxerre U19': 'AJ Auxerre',\n",
              " 'SV Wehen': 'SV Wehen',\n",
              " 'Tuttocuoio': 'Tuttocuoio',\n",
              " 'Cherry Orchard FC': 'Cherry Orchard FC',\n",
              " 'Everton U23': 'Everton',\n",
              " 'Veranopolis': 'Veranopolis',\n",
              " 'Pelotas-RS': 'Pelotas-RS',\n",
              " 'SH SIPG': 'SH SIPG',\n",
              " 'Adelaide City': 'Adelaide City',\n",
              " 'Ambrosiana': 'Ambrosiana',\n",
              " 'Feyenoord U19': 'Feyenoord',\n",
              " 'Monaco U19': 'Monaco',\n",
              " 'CD Onda': 'CD Onda',\n",
              " 'Hearts of Abuja': 'Hearts of Abuja',\n",
              " 'Tervarit': 'Tervarit',\n",
              " 'CD Castellón': 'CD Castellón',\n",
              " 'Utrecht U21': 'Utrecht',\n",
              " 'Rieti': 'Rieti',\n",
              " 'São Carlos': 'São Carlos',\n",
              " 'Liverpool Res.': 'Liverpool',\n",
              " 'TP Mazembe': 'TP Mazembe',\n",
              " 'Deportivo B': 'Deportivo',\n",
              " 'Bournemouth U21': 'Bournemouth',\n",
              " 'Iraty SC': 'Iraty SC',\n",
              " 'SH Port': 'SH Port',\n",
              " 'Rende': 'Rende',\n",
              " 'Stella Club': 'Stella Club',\n",
              " 'St. Mirren FC U17': 'St. Mirren FC',\n",
              " 'Red Bull': 'Red Bull',\n",
              " 'Monte Azul-SP': 'Monte Azul-SP',\n",
              " 'Mulhouse S-A': 'Mulhouse S-A',\n",
              " 'Celano': 'Celano',\n",
              " 'Lupa Piacenza': 'Lupa Piacenza',\n",
              " 'JS Suning': 'JS Suning',\n",
              " 'Rukh Lviv': 'Rukh Lviv',\n",
              " 'Villa Rio': 'Villa Rio',\n",
              " 'Moreirense': 'Moreirense',\n",
              " 'Derby U23': 'Derby',\n",
              " 'Louletano': 'Louletano',\n",
              " 'FK Sloga': 'FK Sloga',\n",
              " 'GNFC': 'GNFC',\n",
              " 'NK Istra Pula': 'NK Istra Pula',\n",
              " 'Charlton U21': 'Charlton',\n",
              " 'Hanoi T&T FC': 'Hanoi T&T FC',\n",
              " 'SK Dnipro-1': 'SK Dnipro-1',\n",
              " 'Montijo': 'Montijo',\n",
              " 'Atlético Colombia': 'Atlético Colombia',\n",
              " 'Grêmio B': 'Grêmio',\n",
              " 'Três Passos': 'Três Passos',\n",
              " 'Granada 74 CF': 'Granada 74 CF',\n",
              " 'Sampaio-RJ': 'Sampaio-RJ',\n",
              " 'SZ FC': 'SZ FC',\n",
              " 'Figueirense U17': 'Figueirense',\n",
              " 'Belvedere FC': 'Belvedere FC',\n",
              " 'Man City Res.': 'Man City',\n",
              " 'Barueri': 'Barueri',\n",
              " 'Progresul': 'Progresul',\n",
              " 'Boro U23': 'Boro',\n",
              " 'Fulham Res.': 'Fulham',\n",
              " 'Canedense': 'Canedense',\n",
              " 'Standard U21': 'Standard',\n",
              " 'CSKA Moscow II': 'CSKA Moscow',\n",
              " '<U+0422><U+043E><U+0440><U+043F><U+0435><U+0434><U+043E>-<U+041B><U+0443><U+0436><U+043D><U+0438><U+043A><U+0438>': '<U+0422><U+043E><U+0440><U+043F><U+0435><U+0434><U+043E>-<U+041B><U+0443><U+0436><U+043D><U+0438><U+043A><U+0438>',\n",
              " 'DL Pro': 'DL Pro',\n",
              " 'Din. Zagreb II': 'Din. Zagreb',\n",
              " 'CD Toledo': 'CD Toledo',\n",
              " 'Alcanenense': 'Alcanenense',\n",
              " 'FK Lyn': 'FK Lyn',\n",
              " 'Walton & Hersham FC': 'Walton & Hersham FC',\n",
              " 'Juventus-AC': 'Juventus-AC',\n",
              " 'PAS Tehran': 'PAS Tehran',\n",
              " 'Nacional U20': 'Nacional',\n",
              " 'Everton Res.': 'Everton',\n",
              " 'AS Nancy U19': 'AS Nancy',\n",
              " 'Alghero': 'Alghero',\n",
              " 'Piracicaba': 'Piracicaba',\n",
              " 'Coimbra-MG': 'Coimbra-MG',\n",
              " 'Santa Rita': 'Santa Rita',\n",
              " 'Mangasport': 'Mangasport',\n",
              " 'Al-Jamahiriyah': 'Al-Jamahiriyah',\n",
              " 'EC Juventude B': 'EC Juventude',\n",
              " 'ADO U19': 'ADO',\n",
              " 'Man Utd U23': 'Man Utd',\n",
              " 'HB CFFC': 'HB CFFC',\n",
              " 'Comercial-SP': 'Comercial-SP',\n",
              " 'Rydaholms GoIF': 'Rydaholms GoIF',\n",
              " 'Comercial (AL)': 'Comercial (AL)',\n",
              " 'TJ Tianhai': 'TJ Tianhai',\n",
              " 'ZESCO United FC': 'ZESCO United FC',\n",
              " 'Braga U19': 'Braga',\n",
              " 'MTK U19': 'MTK',\n",
              " 'Juazeiro-CE': 'Juazeiro-CE',\n",
              " 'RCD Mallorca B': 'RCD Mallorca',\n",
              " 'Cabofriense': 'Cabofriense',\n",
              " 'Juventus U23': 'Juventus',\n",
              " 'Barton Rovers': 'Barton Rovers',\n",
              " 'Anderlecht U19': 'Anderlecht',\n",
              " 'CA Valdevez': 'CA Valdevez',\n",
              " 'Chelsea U23': 'Chelsea',\n",
              " 'Feyenoord U21': 'Feyenoord',\n",
              " 'Barça U19': 'Barça',\n",
              " 'Benfica U17': 'Benfica',\n",
              " 'Avilés Ind.': 'Avilés Ind.',\n",
              " 'Atlético-MG B': 'Atlético-MG',\n",
              " 'JMalucelli': 'JMalucelli',\n",
              " 'Aparecida': 'Aparecida',\n",
              " 'Istra 1961 U19': 'Istra 1961',\n",
              " 'Verona': 'Verona',\n",
              " '1º de Agosto': '1º de Agosto',\n",
              " 'Preußen Münster': 'Preußen Münster',\n",
              " 'Chertsey': 'Chertsey',\n",
              " 'LD Maputo': 'LD Maputo',\n",
              " 'St-Étienne U19': 'St-Étienne',\n",
              " \"Sant'Omero\": \"Sant'Omero\",\n",
              " 'Wolfsburg U19': 'Wolfsburg',\n",
              " 'Lemona': 'Lemona',\n",
              " 'Lourinhanense': 'Lourinhanense',\n",
              " 'Angra-RJ': 'Angra-RJ',\n",
              " 'CF Mounana': 'CF Mounana',\n",
              " 'Monaco B': 'Monaco',\n",
              " 'Osmanlispor': 'Osmanlispor',\n",
              " 'Hamburg U19': 'Hamburg',\n",
              " 'Coritiba FC B': 'Coritiba FC',\n",
              " 'Shakhtar 3': 'Shakhtar 3'}"
            ]
          },
          "metadata": {},
          "execution_count": 131
        }
      ]
    },
    {
      "cell_type": "code",
      "source": [
        "# Create the Meta-Translator\n",
        "with open('/content/drive/MyDrive/DDMCS/dict_FineTuning.json', 'w') as file:\n",
        "    # Caricamento del contenuto del file in un dizionario\n",
        "    json.dump(result_dict, file)"
      ],
      "metadata": {
        "id": "Q6LO1C6FRQ22"
      },
      "execution_count": null,
      "outputs": []
    },
    {
      "cell_type": "code",
      "source": [
        "result"
      ],
      "metadata": {
        "id": "KhwHDIb9RQ6L"
      },
      "execution_count": null,
      "outputs": []
    },
    {
      "cell_type": "code",
      "source": [
        "df_copy['club_involved_name'] = df_copy['club_involved_name'].replace(result, np.nan)"
      ],
      "metadata": {
        "colab": {
          "base_uri": "https://localhost:8080/",
          "height": 166
        },
        "id": "MZxrjHdG1jkr",
        "outputId": "33e455f5-b626-496c-92ca-bf38ac51941d"
      },
      "execution_count": null,
      "outputs": [
        {
          "output_type": "error",
          "ename": "NameError",
          "evalue": "ignored",
          "traceback": [
            "\u001b[0;31m---------------------------------------------------------------------------\u001b[0m",
            "\u001b[0;31mNameError\u001b[0m                                 Traceback (most recent call last)",
            "\u001b[0;32m<ipython-input-1-9aa452b6eb2a>\u001b[0m in \u001b[0;36m<module>\u001b[0;34m\u001b[0m\n\u001b[0;32m----> 1\u001b[0;31m \u001b[0mdf_copy\u001b[0m\u001b[0;34m[\u001b[0m\u001b[0;34m'club_involved_name'\u001b[0m\u001b[0;34m]\u001b[0m \u001b[0;34m=\u001b[0m \u001b[0mdf_copy\u001b[0m\u001b[0;34m[\u001b[0m\u001b[0;34m'club_involved_name'\u001b[0m\u001b[0;34m]\u001b[0m\u001b[0;34m.\u001b[0m\u001b[0mreplace\u001b[0m\u001b[0;34m(\u001b[0m\u001b[0mresult\u001b[0m\u001b[0;34m,\u001b[0m \u001b[0mnp\u001b[0m\u001b[0;34m.\u001b[0m\u001b[0mnan\u001b[0m\u001b[0;34m)\u001b[0m\u001b[0;34m\u001b[0m\u001b[0;34m\u001b[0m\u001b[0m\n\u001b[0m",
            "\u001b[0;31mNameError\u001b[0m: name 'df_copy' is not defined"
          ]
        }
      ]
    }
  ]
}